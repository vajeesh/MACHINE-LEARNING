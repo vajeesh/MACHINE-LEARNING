{
 "cells": [
  {
   "cell_type": "markdown",
   "metadata": {},
   "source": [
    "# Data from SQL db "
   ]
  },
  {
   "cell_type": "code",
   "execution_count": 1,
   "metadata": {},
   "outputs": [],
   "source": [
    "from sqlalchemy import create_engine\n",
    "import pandas as pd\n",
    "\n",
    "db_host='18.136.56.185'\n",
    "db_name='project_sales'\n",
    "username='dm_team2'\n",
    "password='dm_team1118#'\n",
    "\n",
    "conn=create_engine('mysql+pymysql://'+username+':'+password+'@'+db_host+'/'+db_name)"
   ]
  },
  {
   "cell_type": "code",
   "execution_count": 2,
   "metadata": {},
   "outputs": [
    {
     "data": {
      "text/plain": [
       "['data']"
      ]
     },
     "execution_count": 2,
     "metadata": {},
     "output_type": "execute_result"
    }
   ],
   "source": [
    "conn.table_names()"
   ]
  },
  {
   "cell_type": "code",
   "execution_count": 3,
   "metadata": {},
   "outputs": [],
   "source": [
    "query = 'select * from data'\n",
    "data=pd.read_sql(query,conn)"
   ]
  },
  {
   "cell_type": "code",
   "execution_count": 4,
   "metadata": {
    "scrolled": true
   },
   "outputs": [
    {
     "data": {
      "text/html": [
       "<div>\n",
       "<style scoped>\n",
       "    .dataframe tbody tr th:only-of-type {\n",
       "        vertical-align: middle;\n",
       "    }\n",
       "\n",
       "    .dataframe tbody tr th {\n",
       "        vertical-align: top;\n",
       "    }\n",
       "\n",
       "    .dataframe thead th {\n",
       "        text-align: right;\n",
       "    }\n",
       "</style>\n",
       "<table border=\"1\" class=\"dataframe\">\n",
       "  <thead>\n",
       "    <tr style=\"text-align: right;\">\n",
       "      <th></th>\n",
       "      <th>Created</th>\n",
       "      <th>Product_ID</th>\n",
       "      <th>Source</th>\n",
       "      <th>Mobile</th>\n",
       "      <th>EMAIL</th>\n",
       "      <th>Sales_Agent</th>\n",
       "      <th>Location</th>\n",
       "      <th>Delivery_Mode</th>\n",
       "      <th>Status</th>\n",
       "    </tr>\n",
       "  </thead>\n",
       "  <tbody>\n",
       "    <tr>\n",
       "      <td>0</td>\n",
       "      <td>14-11-2018 10:05</td>\n",
       "      <td></td>\n",
       "      <td>Website</td>\n",
       "      <td>984XXXXXXX</td>\n",
       "      <td>aXXXXXXX@gmail.com</td>\n",
       "      <td>Sales-Agent-11</td>\n",
       "      <td></td>\n",
       "      <td>Mode-5</td>\n",
       "      <td>Open</td>\n",
       "    </tr>\n",
       "    <tr>\n",
       "      <td>1</td>\n",
       "      <td>14-11-2018 09:22</td>\n",
       "      <td></td>\n",
       "      <td>Website</td>\n",
       "      <td>XXXXXXX</td>\n",
       "      <td>#VALUE!</td>\n",
       "      <td>Sales-Agent-10</td>\n",
       "      <td></td>\n",
       "      <td>Mode-5</td>\n",
       "      <td>Open</td>\n",
       "    </tr>\n",
       "    <tr>\n",
       "      <td>2</td>\n",
       "      <td>14-11-2018 09:21</td>\n",
       "      <td></td>\n",
       "      <td>Website</td>\n",
       "      <td>XXXXXXX</td>\n",
       "      <td>dXXXXXXX@yahoo.com</td>\n",
       "      <td>Sales-Agent-10</td>\n",
       "      <td></td>\n",
       "      <td>Mode-5</td>\n",
       "      <td>Open</td>\n",
       "    </tr>\n",
       "    <tr>\n",
       "      <td>3</td>\n",
       "      <td>14-11-2018 08:46</td>\n",
       "      <td></td>\n",
       "      <td>Website</td>\n",
       "      <td>XXXXXXX</td>\n",
       "      <td>wXXXXXXX@gmail.com</td>\n",
       "      <td>Sales-Agent-10</td>\n",
       "      <td></td>\n",
       "      <td>Mode-5</td>\n",
       "      <td>Open</td>\n",
       "    </tr>\n",
       "    <tr>\n",
       "      <td>4</td>\n",
       "      <td>14-11-2018 07:34</td>\n",
       "      <td></td>\n",
       "      <td>Website</td>\n",
       "      <td>XXXXXXX</td>\n",
       "      <td>cXXXXXXX@gmail.com</td>\n",
       "      <td>Sales-Agent-10</td>\n",
       "      <td></td>\n",
       "      <td>Mode-5</td>\n",
       "      <td>Open</td>\n",
       "    </tr>\n",
       "  </tbody>\n",
       "</table>\n",
       "</div>"
      ],
      "text/plain": [
       "            Created Product_ID   Source      Mobile               EMAIL  \\\n",
       "0  14-11-2018 10:05             Website  984XXXXXXX  aXXXXXXX@gmail.com   \n",
       "1  14-11-2018 09:22             Website     XXXXXXX             #VALUE!   \n",
       "2  14-11-2018 09:21             Website     XXXXXXX  dXXXXXXX@yahoo.com   \n",
       "3  14-11-2018 08:46             Website     XXXXXXX  wXXXXXXX@gmail.com   \n",
       "4  14-11-2018 07:34             Website     XXXXXXX  cXXXXXXX@gmail.com   \n",
       "\n",
       "      Sales_Agent Location Delivery_Mode Status  \n",
       "0  Sales-Agent-11                 Mode-5   Open  \n",
       "1  Sales-Agent-10                 Mode-5   Open  \n",
       "2  Sales-Agent-10                 Mode-5   Open  \n",
       "3  Sales-Agent-10                 Mode-5   Open  \n",
       "4  Sales-Agent-10                 Mode-5   Open  "
      ]
     },
     "execution_count": 4,
     "metadata": {},
     "output_type": "execute_result"
    }
   ],
   "source": [
    "data.head()"
   ]
  },
  {
   "cell_type": "code",
   "execution_count": 5,
   "metadata": {},
   "outputs": [
    {
     "data": {
      "text/plain": [
       "(7422, 9)"
      ]
     },
     "execution_count": 5,
     "metadata": {},
     "output_type": "execute_result"
    }
   ],
   "source": [
    "data.shape"
   ]
  },
  {
   "cell_type": "code",
   "execution_count": 6,
   "metadata": {},
   "outputs": [
    {
     "data": {
      "text/plain": [
       "Created          0\n",
       "Product_ID       0\n",
       "Source           0\n",
       "Mobile           0\n",
       "EMAIL            0\n",
       "Sales_Agent      0\n",
       "Location         0\n",
       "Delivery_Mode    0\n",
       "Status           0\n",
       "dtype: int64"
      ]
     },
     "execution_count": 6,
     "metadata": {},
     "output_type": "execute_result"
    }
   ],
   "source": [
    "data.isnull().sum()                    #to check any NaN values"
   ]
  },
  {
   "cell_type": "code",
   "execution_count": 7,
   "metadata": {},
   "outputs": [
    {
     "data": {
      "text/plain": [
       "Junk Lead               1536\n",
       "Not Responding          1129\n",
       "CONVERTED                834\n",
       "Just Enquiry             760\n",
       "Potential                708\n",
       "Long Term                646\n",
       "In Progress Positive     643\n",
       "In Progress Negative     626\n",
       "LOST                     440\n",
       "Open                      82\n",
       "converted                 18\n",
       "Name: Status, dtype: int64"
      ]
     },
     "execution_count": 7,
     "metadata": {},
     "output_type": "execute_result"
    }
   ],
   "source": [
    "data['Status'].value_counts()             # target,output categories counts"
   ]
  },
  {
   "cell_type": "code",
   "execution_count": 8,
   "metadata": {},
   "outputs": [],
   "source": [
    "#features counts seperately"
   ]
  },
  {
   "cell_type": "code",
   "execution_count": 9,
   "metadata": {
    "scrolled": true
   },
   "outputs": [
    {
     "data": {
      "text/plain": [
       "Call                             2547\n",
       "Live Chat-Direct                 1834\n",
       "Website                          1594\n",
       "Live Chat-Google Organic          274\n",
       "Live Chat -PPC                    249\n",
       "Live Chat-Blog                    237\n",
       "Customer Referral                 180\n",
       "US Website                        137\n",
       "Just Dial                          56\n",
       "Existing Client                    51\n",
       "Live Chat-CPC                      50\n",
       "Personal Contact                   50\n",
       "By Recommendation                  32\n",
       "CRM form                           23\n",
       "Existing Customer                  22\n",
       "Live Chat-Google Ads               21\n",
       "Campaign                           19\n",
       "                                   17\n",
       "E-mail Campaign                    12\n",
       "Live Chat-Adwords Remarketing       7\n",
       "Other                               2\n",
       "SMS Campaign                        2\n",
       "Live Chat-Quora                     2\n",
       "Live Chat-Youtube                   2\n",
       "Live Chat-Justdial                  1\n",
       "E-Mail Message                      1\n",
       "Name: Source, dtype: int64"
      ]
     },
     "execution_count": 9,
     "metadata": {},
     "output_type": "execute_result"
    }
   ],
   "source": [
    "data['Source'].value_counts()"
   ]
  },
  {
   "cell_type": "code",
   "execution_count": 10,
   "metadata": {},
   "outputs": [
    {
     "data": {
      "text/plain": [
       "Sales-Agent-4     1500\n",
       "Sales-Agent-11    1420\n",
       "Sales-Agent-5     1190\n",
       "Sales-Agent-9      879\n",
       "Sales-Agent-3      781\n",
       "Sales-Agent-7      736\n",
       "Sales-Agent-2      389\n",
       "Sales-Agent-12     269\n",
       "Sales-Agent-6      114\n",
       "Sales-Agent-8       68\n",
       "Sales-Agent-10      49\n",
       "                    23\n",
       "Sales-Agent-1        4\n",
       "Name: Sales_Agent, dtype: int64"
      ]
     },
     "execution_count": 10,
     "metadata": {},
     "output_type": "execute_result"
    }
   ],
   "source": [
    "data['Sales_Agent'].value_counts()"
   ]
  },
  {
   "cell_type": "code",
   "execution_count": 11,
   "metadata": {},
   "outputs": [
    {
     "data": {
      "text/plain": [
       "Other Locations    2500\n",
       "Bangalore          2084\n",
       "Chennai             909\n",
       "Hyderabad           528\n",
       "Delhi               471\n",
       "Mumbai              402\n",
       "Pune                142\n",
       "UAE                  79\n",
       "Trivandrum           58\n",
       "                     58\n",
       "Kolkata              55\n",
       "USA                  45\n",
       "UK                   41\n",
       "AUSTRALIA            25\n",
       "Singapore            17\n",
       "Malaysia              4\n",
       "EUROPE                3\n",
       "Howrah                1\n",
       "Name: Location, dtype: int64"
      ]
     },
     "execution_count": 11,
     "metadata": {},
     "output_type": "execute_result"
    }
   ],
   "source": [
    "data['Location'].value_counts()"
   ]
  },
  {
   "cell_type": "code",
   "execution_count": 12,
   "metadata": {},
   "outputs": [
    {
     "data": {
      "text/plain": [
       "Mode-5    2975\n",
       "Mode-1    2627\n",
       "Mode-3    1688\n",
       "Mode-4     121\n",
       "Mode-2      11\n",
       "Name: Delivery_Mode, dtype: int64"
      ]
     },
     "execution_count": 12,
     "metadata": {},
     "output_type": "execute_result"
    }
   ],
   "source": [
    "data['Delivery_Mode'].value_counts()"
   ]
  },
  {
   "cell_type": "markdown",
   "metadata": {},
   "source": [
    "# EDA"
   ]
  },
  {
   "cell_type": "code",
   "execution_count": 13,
   "metadata": {},
   "outputs": [
    {
     "data": {
      "text/html": [
       "<div>\n",
       "<style scoped>\n",
       "    .dataframe tbody tr th:only-of-type {\n",
       "        vertical-align: middle;\n",
       "    }\n",
       "\n",
       "    .dataframe tbody tr th {\n",
       "        vertical-align: top;\n",
       "    }\n",
       "\n",
       "    .dataframe thead th {\n",
       "        text-align: right;\n",
       "    }\n",
       "</style>\n",
       "<table border=\"1\" class=\"dataframe\">\n",
       "  <thead>\n",
       "    <tr style=\"text-align: right;\">\n",
       "      <th></th>\n",
       "      <th>Created</th>\n",
       "      <th>Product_ID</th>\n",
       "      <th>Source</th>\n",
       "      <th>Mobile</th>\n",
       "      <th>EMAIL</th>\n",
       "      <th>Sales_Agent</th>\n",
       "      <th>Location</th>\n",
       "      <th>Delivery_Mode</th>\n",
       "      <th>Status</th>\n",
       "    </tr>\n",
       "  </thead>\n",
       "  <tbody>\n",
       "    <tr>\n",
       "      <td>0</td>\n",
       "      <td>14-11-2018 10:05</td>\n",
       "      <td></td>\n",
       "      <td>Website</td>\n",
       "      <td>984XXXXXXX</td>\n",
       "      <td>aXXXXXXX@gmail.com</td>\n",
       "      <td>Sales-Agent-11</td>\n",
       "      <td></td>\n",
       "      <td>Mode-5</td>\n",
       "      <td>Open</td>\n",
       "    </tr>\n",
       "    <tr>\n",
       "      <td>1</td>\n",
       "      <td>14-11-2018 09:22</td>\n",
       "      <td></td>\n",
       "      <td>Website</td>\n",
       "      <td>XXXXXXX</td>\n",
       "      <td>#VALUE!</td>\n",
       "      <td>Sales-Agent-10</td>\n",
       "      <td></td>\n",
       "      <td>Mode-5</td>\n",
       "      <td>Open</td>\n",
       "    </tr>\n",
       "    <tr>\n",
       "      <td>2</td>\n",
       "      <td>14-11-2018 09:21</td>\n",
       "      <td></td>\n",
       "      <td>Website</td>\n",
       "      <td>XXXXXXX</td>\n",
       "      <td>dXXXXXXX@yahoo.com</td>\n",
       "      <td>Sales-Agent-10</td>\n",
       "      <td></td>\n",
       "      <td>Mode-5</td>\n",
       "      <td>Open</td>\n",
       "    </tr>\n",
       "    <tr>\n",
       "      <td>3</td>\n",
       "      <td>14-11-2018 08:46</td>\n",
       "      <td></td>\n",
       "      <td>Website</td>\n",
       "      <td>XXXXXXX</td>\n",
       "      <td>wXXXXXXX@gmail.com</td>\n",
       "      <td>Sales-Agent-10</td>\n",
       "      <td></td>\n",
       "      <td>Mode-5</td>\n",
       "      <td>Open</td>\n",
       "    </tr>\n",
       "    <tr>\n",
       "      <td>4</td>\n",
       "      <td>14-11-2018 07:34</td>\n",
       "      <td></td>\n",
       "      <td>Website</td>\n",
       "      <td>XXXXXXX</td>\n",
       "      <td>cXXXXXXX@gmail.com</td>\n",
       "      <td>Sales-Agent-10</td>\n",
       "      <td></td>\n",
       "      <td>Mode-5</td>\n",
       "      <td>Open</td>\n",
       "    </tr>\n",
       "  </tbody>\n",
       "</table>\n",
       "</div>"
      ],
      "text/plain": [
       "            Created Product_ID   Source      Mobile               EMAIL  \\\n",
       "0  14-11-2018 10:05             Website  984XXXXXXX  aXXXXXXX@gmail.com   \n",
       "1  14-11-2018 09:22             Website     XXXXXXX             #VALUE!   \n",
       "2  14-11-2018 09:21             Website     XXXXXXX  dXXXXXXX@yahoo.com   \n",
       "3  14-11-2018 08:46             Website     XXXXXXX  wXXXXXXX@gmail.com   \n",
       "4  14-11-2018 07:34             Website     XXXXXXX  cXXXXXXX@gmail.com   \n",
       "\n",
       "      Sales_Agent Location Delivery_Mode Status  \n",
       "0  Sales-Agent-11                 Mode-5   Open  \n",
       "1  Sales-Agent-10                 Mode-5   Open  \n",
       "2  Sales-Agent-10                 Mode-5   Open  \n",
       "3  Sales-Agent-10                 Mode-5   Open  \n",
       "4  Sales-Agent-10                 Mode-5   Open  "
      ]
     },
     "execution_count": 13,
     "metadata": {},
     "output_type": "execute_result"
    }
   ],
   "source": [
    "data.head()"
   ]
  },
  {
   "cell_type": "code",
   "execution_count": 14,
   "metadata": {},
   "outputs": [],
   "source": [
    "# first,avoid unwanted features which are not related to output"
   ]
  },
  {
   "cell_type": "code",
   "execution_count": 15,
   "metadata": {
    "scrolled": true
   },
   "outputs": [],
   "source": [
    "data.drop(['Mobile','EMAIL'],axis=1,inplace=True)"
   ]
  },
  {
   "cell_type": "code",
   "execution_count": 16,
   "metadata": {},
   "outputs": [],
   "source": [
    "# work from first column,"
   ]
  },
  {
   "cell_type": "code",
   "execution_count": 17,
   "metadata": {},
   "outputs": [],
   "source": [
    "# date,time needs to set in the right form to do further analysis"
   ]
  },
  {
   "cell_type": "code",
   "execution_count": 18,
   "metadata": {},
   "outputs": [],
   "source": [
    "data['Created']=pd.to_datetime(data.Created)"
   ]
  },
  {
   "cell_type": "code",
   "execution_count": 19,
   "metadata": {},
   "outputs": [
    {
     "data": {
      "text/html": [
       "<div>\n",
       "<style scoped>\n",
       "    .dataframe tbody tr th:only-of-type {\n",
       "        vertical-align: middle;\n",
       "    }\n",
       "\n",
       "    .dataframe tbody tr th {\n",
       "        vertical-align: top;\n",
       "    }\n",
       "\n",
       "    .dataframe thead th {\n",
       "        text-align: right;\n",
       "    }\n",
       "</style>\n",
       "<table border=\"1\" class=\"dataframe\">\n",
       "  <thead>\n",
       "    <tr style=\"text-align: right;\">\n",
       "      <th></th>\n",
       "      <th>Created</th>\n",
       "      <th>Product_ID</th>\n",
       "      <th>Source</th>\n",
       "      <th>Sales_Agent</th>\n",
       "      <th>Location</th>\n",
       "      <th>Delivery_Mode</th>\n",
       "      <th>Status</th>\n",
       "    </tr>\n",
       "  </thead>\n",
       "  <tbody>\n",
       "    <tr>\n",
       "      <td>0</td>\n",
       "      <td>2018-11-14 10:05:00</td>\n",
       "      <td></td>\n",
       "      <td>Website</td>\n",
       "      <td>Sales-Agent-11</td>\n",
       "      <td></td>\n",
       "      <td>Mode-5</td>\n",
       "      <td>Open</td>\n",
       "    </tr>\n",
       "    <tr>\n",
       "      <td>1</td>\n",
       "      <td>2018-11-14 09:22:00</td>\n",
       "      <td></td>\n",
       "      <td>Website</td>\n",
       "      <td>Sales-Agent-10</td>\n",
       "      <td></td>\n",
       "      <td>Mode-5</td>\n",
       "      <td>Open</td>\n",
       "    </tr>\n",
       "  </tbody>\n",
       "</table>\n",
       "</div>"
      ],
      "text/plain": [
       "              Created Product_ID   Source     Sales_Agent Location  \\\n",
       "0 2018-11-14 10:05:00             Website  Sales-Agent-11            \n",
       "1 2018-11-14 09:22:00             Website  Sales-Agent-10            \n",
       "\n",
       "  Delivery_Mode Status  \n",
       "0        Mode-5   Open  \n",
       "1        Mode-5   Open  "
      ]
     },
     "execution_count": 19,
     "metadata": {},
     "output_type": "execute_result"
    }
   ],
   "source": [
    "data.head(2)"
   ]
  },
  {
   "cell_type": "code",
   "execution_count": 20,
   "metadata": {},
   "outputs": [],
   "source": [
    "#to create new columns from date-time  for day,month,year,hour,minute,weekday etc....to get more accurate results"
   ]
  },
  {
   "cell_type": "code",
   "execution_count": 21,
   "metadata": {},
   "outputs": [],
   "source": [
    "data['Day']=data.Created.dt.day\n",
    "data['Month']=data.Created.dt.month\n",
    "data['Weekday']=data.Created.dt.weekday\n",
    "#data['Year']=data.Created.dt.year          everyone same year\n",
    "data['Hour']=data.Created.dt.hour\n",
    "data['Minute']=data.Created.dt.minute"
   ]
  },
  {
   "cell_type": "code",
   "execution_count": 22,
   "metadata": {},
   "outputs": [
    {
     "data": {
      "text/html": [
       "<div>\n",
       "<style scoped>\n",
       "    .dataframe tbody tr th:only-of-type {\n",
       "        vertical-align: middle;\n",
       "    }\n",
       "\n",
       "    .dataframe tbody tr th {\n",
       "        vertical-align: top;\n",
       "    }\n",
       "\n",
       "    .dataframe thead th {\n",
       "        text-align: right;\n",
       "    }\n",
       "</style>\n",
       "<table border=\"1\" class=\"dataframe\">\n",
       "  <thead>\n",
       "    <tr style=\"text-align: right;\">\n",
       "      <th></th>\n",
       "      <th>Created</th>\n",
       "      <th>Product_ID</th>\n",
       "      <th>Source</th>\n",
       "      <th>Sales_Agent</th>\n",
       "      <th>Location</th>\n",
       "      <th>Delivery_Mode</th>\n",
       "      <th>Status</th>\n",
       "      <th>Day</th>\n",
       "      <th>Month</th>\n",
       "      <th>Weekday</th>\n",
       "      <th>Hour</th>\n",
       "      <th>Minute</th>\n",
       "    </tr>\n",
       "  </thead>\n",
       "  <tbody>\n",
       "    <tr>\n",
       "      <td>0</td>\n",
       "      <td>2018-11-14 10:05:00</td>\n",
       "      <td></td>\n",
       "      <td>Website</td>\n",
       "      <td>Sales-Agent-11</td>\n",
       "      <td></td>\n",
       "      <td>Mode-5</td>\n",
       "      <td>Open</td>\n",
       "      <td>14</td>\n",
       "      <td>11</td>\n",
       "      <td>2</td>\n",
       "      <td>10</td>\n",
       "      <td>5</td>\n",
       "    </tr>\n",
       "    <tr>\n",
       "      <td>1</td>\n",
       "      <td>2018-11-14 09:22:00</td>\n",
       "      <td></td>\n",
       "      <td>Website</td>\n",
       "      <td>Sales-Agent-10</td>\n",
       "      <td></td>\n",
       "      <td>Mode-5</td>\n",
       "      <td>Open</td>\n",
       "      <td>14</td>\n",
       "      <td>11</td>\n",
       "      <td>2</td>\n",
       "      <td>9</td>\n",
       "      <td>22</td>\n",
       "    </tr>\n",
       "    <tr>\n",
       "      <td>2</td>\n",
       "      <td>2018-11-14 09:21:00</td>\n",
       "      <td></td>\n",
       "      <td>Website</td>\n",
       "      <td>Sales-Agent-10</td>\n",
       "      <td></td>\n",
       "      <td>Mode-5</td>\n",
       "      <td>Open</td>\n",
       "      <td>14</td>\n",
       "      <td>11</td>\n",
       "      <td>2</td>\n",
       "      <td>9</td>\n",
       "      <td>21</td>\n",
       "    </tr>\n",
       "    <tr>\n",
       "      <td>3</td>\n",
       "      <td>2018-11-14 08:46:00</td>\n",
       "      <td></td>\n",
       "      <td>Website</td>\n",
       "      <td>Sales-Agent-10</td>\n",
       "      <td></td>\n",
       "      <td>Mode-5</td>\n",
       "      <td>Open</td>\n",
       "      <td>14</td>\n",
       "      <td>11</td>\n",
       "      <td>2</td>\n",
       "      <td>8</td>\n",
       "      <td>46</td>\n",
       "    </tr>\n",
       "    <tr>\n",
       "      <td>4</td>\n",
       "      <td>2018-11-14 07:34:00</td>\n",
       "      <td></td>\n",
       "      <td>Website</td>\n",
       "      <td>Sales-Agent-10</td>\n",
       "      <td></td>\n",
       "      <td>Mode-5</td>\n",
       "      <td>Open</td>\n",
       "      <td>14</td>\n",
       "      <td>11</td>\n",
       "      <td>2</td>\n",
       "      <td>7</td>\n",
       "      <td>34</td>\n",
       "    </tr>\n",
       "  </tbody>\n",
       "</table>\n",
       "</div>"
      ],
      "text/plain": [
       "              Created Product_ID   Source     Sales_Agent Location  \\\n",
       "0 2018-11-14 10:05:00             Website  Sales-Agent-11            \n",
       "1 2018-11-14 09:22:00             Website  Sales-Agent-10            \n",
       "2 2018-11-14 09:21:00             Website  Sales-Agent-10            \n",
       "3 2018-11-14 08:46:00             Website  Sales-Agent-10            \n",
       "4 2018-11-14 07:34:00             Website  Sales-Agent-10            \n",
       "\n",
       "  Delivery_Mode Status  Day  Month  Weekday  Hour  Minute  \n",
       "0        Mode-5   Open   14     11        2    10       5  \n",
       "1        Mode-5   Open   14     11        2     9      22  \n",
       "2        Mode-5   Open   14     11        2     9      21  \n",
       "3        Mode-5   Open   14     11        2     8      46  \n",
       "4        Mode-5   Open   14     11        2     7      34  "
      ]
     },
     "execution_count": 22,
     "metadata": {},
     "output_type": "execute_result"
    }
   ],
   "source": [
    "data.head()"
   ]
  },
  {
   "cell_type": "code",
   "execution_count": 23,
   "metadata": {},
   "outputs": [],
   "source": [
    "data.drop(['Created'],axis=1,inplace=True)          #use & throw"
   ]
  },
  {
   "cell_type": "code",
   "execution_count": 24,
   "metadata": {},
   "outputs": [
    {
     "data": {
      "text/html": [
       "<div>\n",
       "<style scoped>\n",
       "    .dataframe tbody tr th:only-of-type {\n",
       "        vertical-align: middle;\n",
       "    }\n",
       "\n",
       "    .dataframe tbody tr th {\n",
       "        vertical-align: top;\n",
       "    }\n",
       "\n",
       "    .dataframe thead th {\n",
       "        text-align: right;\n",
       "    }\n",
       "</style>\n",
       "<table border=\"1\" class=\"dataframe\">\n",
       "  <thead>\n",
       "    <tr style=\"text-align: right;\">\n",
       "      <th></th>\n",
       "      <th>Product_ID</th>\n",
       "      <th>Source</th>\n",
       "      <th>Sales_Agent</th>\n",
       "      <th>Location</th>\n",
       "      <th>Delivery_Mode</th>\n",
       "      <th>Status</th>\n",
       "      <th>Day</th>\n",
       "      <th>Month</th>\n",
       "      <th>Weekday</th>\n",
       "      <th>Hour</th>\n",
       "      <th>Minute</th>\n",
       "    </tr>\n",
       "  </thead>\n",
       "  <tbody>\n",
       "    <tr>\n",
       "      <td>0</td>\n",
       "      <td></td>\n",
       "      <td>Website</td>\n",
       "      <td>Sales-Agent-11</td>\n",
       "      <td></td>\n",
       "      <td>Mode-5</td>\n",
       "      <td>Open</td>\n",
       "      <td>14</td>\n",
       "      <td>11</td>\n",
       "      <td>2</td>\n",
       "      <td>10</td>\n",
       "      <td>5</td>\n",
       "    </tr>\n",
       "    <tr>\n",
       "      <td>1</td>\n",
       "      <td></td>\n",
       "      <td>Website</td>\n",
       "      <td>Sales-Agent-10</td>\n",
       "      <td></td>\n",
       "      <td>Mode-5</td>\n",
       "      <td>Open</td>\n",
       "      <td>14</td>\n",
       "      <td>11</td>\n",
       "      <td>2</td>\n",
       "      <td>9</td>\n",
       "      <td>22</td>\n",
       "    </tr>\n",
       "    <tr>\n",
       "      <td>2</td>\n",
       "      <td></td>\n",
       "      <td>Website</td>\n",
       "      <td>Sales-Agent-10</td>\n",
       "      <td></td>\n",
       "      <td>Mode-5</td>\n",
       "      <td>Open</td>\n",
       "      <td>14</td>\n",
       "      <td>11</td>\n",
       "      <td>2</td>\n",
       "      <td>9</td>\n",
       "      <td>21</td>\n",
       "    </tr>\n",
       "    <tr>\n",
       "      <td>3</td>\n",
       "      <td></td>\n",
       "      <td>Website</td>\n",
       "      <td>Sales-Agent-10</td>\n",
       "      <td></td>\n",
       "      <td>Mode-5</td>\n",
       "      <td>Open</td>\n",
       "      <td>14</td>\n",
       "      <td>11</td>\n",
       "      <td>2</td>\n",
       "      <td>8</td>\n",
       "      <td>46</td>\n",
       "    </tr>\n",
       "    <tr>\n",
       "      <td>4</td>\n",
       "      <td></td>\n",
       "      <td>Website</td>\n",
       "      <td>Sales-Agent-10</td>\n",
       "      <td></td>\n",
       "      <td>Mode-5</td>\n",
       "      <td>Open</td>\n",
       "      <td>14</td>\n",
       "      <td>11</td>\n",
       "      <td>2</td>\n",
       "      <td>7</td>\n",
       "      <td>34</td>\n",
       "    </tr>\n",
       "  </tbody>\n",
       "</table>\n",
       "</div>"
      ],
      "text/plain": [
       "  Product_ID   Source     Sales_Agent Location Delivery_Mode Status  Day  \\\n",
       "0             Website  Sales-Agent-11                 Mode-5   Open   14   \n",
       "1             Website  Sales-Agent-10                 Mode-5   Open   14   \n",
       "2             Website  Sales-Agent-10                 Mode-5   Open   14   \n",
       "3             Website  Sales-Agent-10                 Mode-5   Open   14   \n",
       "4             Website  Sales-Agent-10                 Mode-5   Open   14   \n",
       "\n",
       "   Month  Weekday  Hour  Minute  \n",
       "0     11        2    10       5  \n",
       "1     11        2     9      22  \n",
       "2     11        2     9      21  \n",
       "3     11        2     8      46  \n",
       "4     11        2     7      34  "
      ]
     },
     "execution_count": 24,
     "metadata": {},
     "output_type": "execute_result"
    }
   ],
   "source": [
    "data.head()"
   ]
  },
  {
   "cell_type": "code",
   "execution_count": 25,
   "metadata": {},
   "outputs": [],
   "source": [
    "from collections import Counter            #import all packages to be needed\n",
    "import numpy as np\n",
    "import scipy\n",
    "from scipy import stats\n",
    "import matplotlib.pyplot as plt\n",
    "import seaborn as sb\n",
    "%matplotlib inline\n",
    "sb.set()"
   ]
  },
  {
   "cell_type": "code",
   "execution_count": 26,
   "metadata": {},
   "outputs": [],
   "source": [
    "#we have some empty fields , no more, around 1-2%, just delete those rows"
   ]
  },
  {
   "cell_type": "code",
   "execution_count": 27,
   "metadata": {},
   "outputs": [
    {
     "name": "stderr",
     "output_type": "stream",
     "text": [
      "/home/dell/anaconda3/lib/python3.7/site-packages/pandas/core/ops/__init__.py:1115: FutureWarning: elementwise comparison failed; returning scalar instead, but in the future will perform elementwise comparison\n",
      "  result = method(y)\n"
     ]
    }
   ],
   "source": [
    "data.drop(data[data['Product_ID']==''].index,inplace=True)\n",
    "data.drop(data[data['Location']==''].index,inplace=True)\n",
    "data.drop(data[data['Source']==''].index,inplace=True)\n",
    "data.drop(data[data['Delivery_Mode']==''].index,inplace=True)\n",
    "data.drop(data[data['Sales_Agent']==''].index,inplace=True)\n",
    "data.drop(data[data['Day']==''].index,inplace=True)\n",
    "data.drop(data[data['Month']==''].index,inplace=True)\n",
    "data.drop(data[data['Weekday']==''].index,inplace=True)\n",
    "data.drop(data[data['Hour']==''].index,inplace=True)\n",
    "data.drop(data[data['Minute']==''].index,inplace=True)\n",
    "data.drop(data[data['Status']==''].index,inplace=True)"
   ]
  },
  {
   "cell_type": "code",
   "execution_count": 28,
   "metadata": {},
   "outputs": [
    {
     "data": {
      "text/html": [
       "<div>\n",
       "<style scoped>\n",
       "    .dataframe tbody tr th:only-of-type {\n",
       "        vertical-align: middle;\n",
       "    }\n",
       "\n",
       "    .dataframe tbody tr th {\n",
       "        vertical-align: top;\n",
       "    }\n",
       "\n",
       "    .dataframe thead th {\n",
       "        text-align: right;\n",
       "    }\n",
       "</style>\n",
       "<table border=\"1\" class=\"dataframe\">\n",
       "  <thead>\n",
       "    <tr style=\"text-align: right;\">\n",
       "      <th></th>\n",
       "      <th>Product_ID</th>\n",
       "      <th>Source</th>\n",
       "      <th>Sales_Agent</th>\n",
       "      <th>Location</th>\n",
       "      <th>Delivery_Mode</th>\n",
       "      <th>Status</th>\n",
       "      <th>Day</th>\n",
       "      <th>Month</th>\n",
       "      <th>Weekday</th>\n",
       "      <th>Hour</th>\n",
       "      <th>Minute</th>\n",
       "    </tr>\n",
       "  </thead>\n",
       "  <tbody>\n",
       "    <tr>\n",
       "      <td>18</td>\n",
       "      <td>9</td>\n",
       "      <td>Live Chat-Google Organic</td>\n",
       "      <td>Sales-Agent-3</td>\n",
       "      <td>Bangalore</td>\n",
       "      <td>Mode-1</td>\n",
       "      <td>Potential</td>\n",
       "      <td>13</td>\n",
       "      <td>11</td>\n",
       "      <td>1</td>\n",
       "      <td>18</td>\n",
       "      <td>51</td>\n",
       "    </tr>\n",
       "    <tr>\n",
       "      <td>19</td>\n",
       "      <td>19</td>\n",
       "      <td>Call</td>\n",
       "      <td>Sales-Agent-4</td>\n",
       "      <td>Other Locations</td>\n",
       "      <td>Mode-5</td>\n",
       "      <td>Potential</td>\n",
       "      <td>13</td>\n",
       "      <td>11</td>\n",
       "      <td>1</td>\n",
       "      <td>18</td>\n",
       "      <td>48</td>\n",
       "    </tr>\n",
       "    <tr>\n",
       "      <td>24</td>\n",
       "      <td>18</td>\n",
       "      <td>Website</td>\n",
       "      <td>Sales-Agent-11</td>\n",
       "      <td>Trivandrum</td>\n",
       "      <td>Mode-1</td>\n",
       "      <td>Potential</td>\n",
       "      <td>13</td>\n",
       "      <td>11</td>\n",
       "      <td>1</td>\n",
       "      <td>17</td>\n",
       "      <td>9</td>\n",
       "    </tr>\n",
       "    <tr>\n",
       "      <td>25</td>\n",
       "      <td>15</td>\n",
       "      <td>Website</td>\n",
       "      <td>Sales-Agent-7</td>\n",
       "      <td>Hyderabad</td>\n",
       "      <td>Mode-1</td>\n",
       "      <td>Not Responding</td>\n",
       "      <td>13</td>\n",
       "      <td>11</td>\n",
       "      <td>1</td>\n",
       "      <td>16</td>\n",
       "      <td>49</td>\n",
       "    </tr>\n",
       "    <tr>\n",
       "      <td>26</td>\n",
       "      <td>18</td>\n",
       "      <td>Call</td>\n",
       "      <td>Sales-Agent-7</td>\n",
       "      <td>Bangalore</td>\n",
       "      <td>Mode-1</td>\n",
       "      <td>In Progress Positive</td>\n",
       "      <td>13</td>\n",
       "      <td>11</td>\n",
       "      <td>1</td>\n",
       "      <td>16</td>\n",
       "      <td>37</td>\n",
       "    </tr>\n",
       "    <tr>\n",
       "      <td>...</td>\n",
       "      <td>...</td>\n",
       "      <td>...</td>\n",
       "      <td>...</td>\n",
       "      <td>...</td>\n",
       "      <td>...</td>\n",
       "      <td>...</td>\n",
       "      <td>...</td>\n",
       "      <td>...</td>\n",
       "      <td>...</td>\n",
       "      <td>...</td>\n",
       "      <td>...</td>\n",
       "    </tr>\n",
       "    <tr>\n",
       "      <td>7417</td>\n",
       "      <td>9</td>\n",
       "      <td>Call</td>\n",
       "      <td>Sales-Agent-6</td>\n",
       "      <td>Mumbai</td>\n",
       "      <td>Mode-4</td>\n",
       "      <td>LOST</td>\n",
       "      <td>28</td>\n",
       "      <td>4</td>\n",
       "      <td>5</td>\n",
       "      <td>9</td>\n",
       "      <td>45</td>\n",
       "    </tr>\n",
       "    <tr>\n",
       "      <td>7418</td>\n",
       "      <td>15</td>\n",
       "      <td>Call</td>\n",
       "      <td>Sales-Agent-12</td>\n",
       "      <td>Other Locations</td>\n",
       "      <td>Mode-5</td>\n",
       "      <td>LOST</td>\n",
       "      <td>28</td>\n",
       "      <td>4</td>\n",
       "      <td>5</td>\n",
       "      <td>9</td>\n",
       "      <td>43</td>\n",
       "    </tr>\n",
       "    <tr>\n",
       "      <td>7419</td>\n",
       "      <td>5</td>\n",
       "      <td>Live Chat-Direct</td>\n",
       "      <td>Sales-Agent-11</td>\n",
       "      <td>Bangalore</td>\n",
       "      <td>Mode-1</td>\n",
       "      <td>Not Responding</td>\n",
       "      <td>28</td>\n",
       "      <td>4</td>\n",
       "      <td>5</td>\n",
       "      <td>9</td>\n",
       "      <td>20</td>\n",
       "    </tr>\n",
       "    <tr>\n",
       "      <td>7420</td>\n",
       "      <td>21</td>\n",
       "      <td>CRM form</td>\n",
       "      <td>Sales-Agent-4</td>\n",
       "      <td>Other Locations</td>\n",
       "      <td>Mode-1</td>\n",
       "      <td>Just Enquiry</td>\n",
       "      <td>28</td>\n",
       "      <td>4</td>\n",
       "      <td>5</td>\n",
       "      <td>8</td>\n",
       "      <td>4</td>\n",
       "    </tr>\n",
       "    <tr>\n",
       "      <td>7421</td>\n",
       "      <td>25</td>\n",
       "      <td>Website</td>\n",
       "      <td>Sales-Agent-3</td>\n",
       "      <td>Chennai</td>\n",
       "      <td>Mode-1</td>\n",
       "      <td>CONVERTED</td>\n",
       "      <td>28</td>\n",
       "      <td>4</td>\n",
       "      <td>5</td>\n",
       "      <td>7</td>\n",
       "      <td>54</td>\n",
       "    </tr>\n",
       "  </tbody>\n",
       "</table>\n",
       "<p>7328 rows × 11 columns</p>\n",
       "</div>"
      ],
      "text/plain": [
       "     Product_ID                    Source     Sales_Agent         Location  \\\n",
       "18            9  Live Chat-Google Organic   Sales-Agent-3        Bangalore   \n",
       "19           19                      Call   Sales-Agent-4  Other Locations   \n",
       "24           18                   Website  Sales-Agent-11       Trivandrum   \n",
       "25           15                   Website   Sales-Agent-7        Hyderabad   \n",
       "26           18                      Call   Sales-Agent-7        Bangalore   \n",
       "...         ...                       ...             ...              ...   \n",
       "7417          9                      Call   Sales-Agent-6           Mumbai   \n",
       "7418         15                      Call  Sales-Agent-12  Other Locations   \n",
       "7419          5          Live Chat-Direct  Sales-Agent-11        Bangalore   \n",
       "7420         21                  CRM form   Sales-Agent-4  Other Locations   \n",
       "7421         25                   Website   Sales-Agent-3          Chennai   \n",
       "\n",
       "     Delivery_Mode                Status  Day  Month  Weekday  Hour  Minute  \n",
       "18          Mode-1             Potential   13     11        1    18      51  \n",
       "19          Mode-5             Potential   13     11        1    18      48  \n",
       "24          Mode-1             Potential   13     11        1    17       9  \n",
       "25          Mode-1        Not Responding   13     11        1    16      49  \n",
       "26          Mode-1  In Progress Positive   13     11        1    16      37  \n",
       "...            ...                   ...  ...    ...      ...   ...     ...  \n",
       "7417        Mode-4                  LOST   28      4        5     9      45  \n",
       "7418        Mode-5                  LOST   28      4        5     9      43  \n",
       "7419        Mode-1        Not Responding   28      4        5     9      20  \n",
       "7420        Mode-1          Just Enquiry   28      4        5     8       4  \n",
       "7421        Mode-1             CONVERTED   28      4        5     7      54  \n",
       "\n",
       "[7328 rows x 11 columns]"
      ]
     },
     "execution_count": 28,
     "metadata": {},
     "output_type": "execute_result"
    }
   ],
   "source": [
    "data"
   ]
  },
  {
   "cell_type": "code",
   "execution_count": 29,
   "metadata": {},
   "outputs": [],
   "source": [
    "# rearrage the column for standard"
   ]
  },
  {
   "cell_type": "code",
   "execution_count": 30,
   "metadata": {},
   "outputs": [],
   "source": [
    "data=data.reindex(columns=['Product_ID','Location','Source','Delivery_Mode','Sales_Agent','Day','Month','Weekday','Hour','Minute','Status'])"
   ]
  },
  {
   "cell_type": "code",
   "execution_count": 31,
   "metadata": {},
   "outputs": [
    {
     "data": {
      "text/html": [
       "<div>\n",
       "<style scoped>\n",
       "    .dataframe tbody tr th:only-of-type {\n",
       "        vertical-align: middle;\n",
       "    }\n",
       "\n",
       "    .dataframe tbody tr th {\n",
       "        vertical-align: top;\n",
       "    }\n",
       "\n",
       "    .dataframe thead th {\n",
       "        text-align: right;\n",
       "    }\n",
       "</style>\n",
       "<table border=\"1\" class=\"dataframe\">\n",
       "  <thead>\n",
       "    <tr style=\"text-align: right;\">\n",
       "      <th></th>\n",
       "      <th>Product_ID</th>\n",
       "      <th>Location</th>\n",
       "      <th>Source</th>\n",
       "      <th>Delivery_Mode</th>\n",
       "      <th>Sales_Agent</th>\n",
       "      <th>Day</th>\n",
       "      <th>Month</th>\n",
       "      <th>Weekday</th>\n",
       "      <th>Hour</th>\n",
       "      <th>Minute</th>\n",
       "      <th>Status</th>\n",
       "    </tr>\n",
       "  </thead>\n",
       "  <tbody>\n",
       "    <tr>\n",
       "      <td>18</td>\n",
       "      <td>9</td>\n",
       "      <td>Bangalore</td>\n",
       "      <td>Live Chat-Google Organic</td>\n",
       "      <td>Mode-1</td>\n",
       "      <td>Sales-Agent-3</td>\n",
       "      <td>13</td>\n",
       "      <td>11</td>\n",
       "      <td>1</td>\n",
       "      <td>18</td>\n",
       "      <td>51</td>\n",
       "      <td>Potential</td>\n",
       "    </tr>\n",
       "    <tr>\n",
       "      <td>19</td>\n",
       "      <td>19</td>\n",
       "      <td>Other Locations</td>\n",
       "      <td>Call</td>\n",
       "      <td>Mode-5</td>\n",
       "      <td>Sales-Agent-4</td>\n",
       "      <td>13</td>\n",
       "      <td>11</td>\n",
       "      <td>1</td>\n",
       "      <td>18</td>\n",
       "      <td>48</td>\n",
       "      <td>Potential</td>\n",
       "    </tr>\n",
       "    <tr>\n",
       "      <td>24</td>\n",
       "      <td>18</td>\n",
       "      <td>Trivandrum</td>\n",
       "      <td>Website</td>\n",
       "      <td>Mode-1</td>\n",
       "      <td>Sales-Agent-11</td>\n",
       "      <td>13</td>\n",
       "      <td>11</td>\n",
       "      <td>1</td>\n",
       "      <td>17</td>\n",
       "      <td>9</td>\n",
       "      <td>Potential</td>\n",
       "    </tr>\n",
       "    <tr>\n",
       "      <td>25</td>\n",
       "      <td>15</td>\n",
       "      <td>Hyderabad</td>\n",
       "      <td>Website</td>\n",
       "      <td>Mode-1</td>\n",
       "      <td>Sales-Agent-7</td>\n",
       "      <td>13</td>\n",
       "      <td>11</td>\n",
       "      <td>1</td>\n",
       "      <td>16</td>\n",
       "      <td>49</td>\n",
       "      <td>Not Responding</td>\n",
       "    </tr>\n",
       "    <tr>\n",
       "      <td>26</td>\n",
       "      <td>18</td>\n",
       "      <td>Bangalore</td>\n",
       "      <td>Call</td>\n",
       "      <td>Mode-1</td>\n",
       "      <td>Sales-Agent-7</td>\n",
       "      <td>13</td>\n",
       "      <td>11</td>\n",
       "      <td>1</td>\n",
       "      <td>16</td>\n",
       "      <td>37</td>\n",
       "      <td>In Progress Positive</td>\n",
       "    </tr>\n",
       "    <tr>\n",
       "      <td>...</td>\n",
       "      <td>...</td>\n",
       "      <td>...</td>\n",
       "      <td>...</td>\n",
       "      <td>...</td>\n",
       "      <td>...</td>\n",
       "      <td>...</td>\n",
       "      <td>...</td>\n",
       "      <td>...</td>\n",
       "      <td>...</td>\n",
       "      <td>...</td>\n",
       "      <td>...</td>\n",
       "    </tr>\n",
       "    <tr>\n",
       "      <td>7417</td>\n",
       "      <td>9</td>\n",
       "      <td>Mumbai</td>\n",
       "      <td>Call</td>\n",
       "      <td>Mode-4</td>\n",
       "      <td>Sales-Agent-6</td>\n",
       "      <td>28</td>\n",
       "      <td>4</td>\n",
       "      <td>5</td>\n",
       "      <td>9</td>\n",
       "      <td>45</td>\n",
       "      <td>LOST</td>\n",
       "    </tr>\n",
       "    <tr>\n",
       "      <td>7418</td>\n",
       "      <td>15</td>\n",
       "      <td>Other Locations</td>\n",
       "      <td>Call</td>\n",
       "      <td>Mode-5</td>\n",
       "      <td>Sales-Agent-12</td>\n",
       "      <td>28</td>\n",
       "      <td>4</td>\n",
       "      <td>5</td>\n",
       "      <td>9</td>\n",
       "      <td>43</td>\n",
       "      <td>LOST</td>\n",
       "    </tr>\n",
       "    <tr>\n",
       "      <td>7419</td>\n",
       "      <td>5</td>\n",
       "      <td>Bangalore</td>\n",
       "      <td>Live Chat-Direct</td>\n",
       "      <td>Mode-1</td>\n",
       "      <td>Sales-Agent-11</td>\n",
       "      <td>28</td>\n",
       "      <td>4</td>\n",
       "      <td>5</td>\n",
       "      <td>9</td>\n",
       "      <td>20</td>\n",
       "      <td>Not Responding</td>\n",
       "    </tr>\n",
       "    <tr>\n",
       "      <td>7420</td>\n",
       "      <td>21</td>\n",
       "      <td>Other Locations</td>\n",
       "      <td>CRM form</td>\n",
       "      <td>Mode-1</td>\n",
       "      <td>Sales-Agent-4</td>\n",
       "      <td>28</td>\n",
       "      <td>4</td>\n",
       "      <td>5</td>\n",
       "      <td>8</td>\n",
       "      <td>4</td>\n",
       "      <td>Just Enquiry</td>\n",
       "    </tr>\n",
       "    <tr>\n",
       "      <td>7421</td>\n",
       "      <td>25</td>\n",
       "      <td>Chennai</td>\n",
       "      <td>Website</td>\n",
       "      <td>Mode-1</td>\n",
       "      <td>Sales-Agent-3</td>\n",
       "      <td>28</td>\n",
       "      <td>4</td>\n",
       "      <td>5</td>\n",
       "      <td>7</td>\n",
       "      <td>54</td>\n",
       "      <td>CONVERTED</td>\n",
       "    </tr>\n",
       "  </tbody>\n",
       "</table>\n",
       "<p>7328 rows × 11 columns</p>\n",
       "</div>"
      ],
      "text/plain": [
       "     Product_ID         Location                    Source Delivery_Mode  \\\n",
       "18            9        Bangalore  Live Chat-Google Organic        Mode-1   \n",
       "19           19  Other Locations                      Call        Mode-5   \n",
       "24           18       Trivandrum                   Website        Mode-1   \n",
       "25           15        Hyderabad                   Website        Mode-1   \n",
       "26           18        Bangalore                      Call        Mode-1   \n",
       "...         ...              ...                       ...           ...   \n",
       "7417          9           Mumbai                      Call        Mode-4   \n",
       "7418         15  Other Locations                      Call        Mode-5   \n",
       "7419          5        Bangalore          Live Chat-Direct        Mode-1   \n",
       "7420         21  Other Locations                  CRM form        Mode-1   \n",
       "7421         25          Chennai                   Website        Mode-1   \n",
       "\n",
       "         Sales_Agent  Day  Month  Weekday  Hour  Minute                Status  \n",
       "18     Sales-Agent-3   13     11        1    18      51             Potential  \n",
       "19     Sales-Agent-4   13     11        1    18      48             Potential  \n",
       "24    Sales-Agent-11   13     11        1    17       9             Potential  \n",
       "25     Sales-Agent-7   13     11        1    16      49        Not Responding  \n",
       "26     Sales-Agent-7   13     11        1    16      37  In Progress Positive  \n",
       "...              ...  ...    ...      ...   ...     ...                   ...  \n",
       "7417   Sales-Agent-6   28      4        5     9      45                  LOST  \n",
       "7418  Sales-Agent-12   28      4        5     9      43                  LOST  \n",
       "7419  Sales-Agent-11   28      4        5     9      20        Not Responding  \n",
       "7420   Sales-Agent-4   28      4        5     8       4          Just Enquiry  \n",
       "7421   Sales-Agent-3   28      4        5     7      54             CONVERTED  \n",
       "\n",
       "[7328 rows x 11 columns]"
      ]
     },
     "execution_count": 31,
     "metadata": {},
     "output_type": "execute_result"
    }
   ],
   "source": [
    "data"
   ]
  },
  {
   "cell_type": "code",
   "execution_count": 32,
   "metadata": {},
   "outputs": [],
   "source": [
    "# Lets start to play through columns by columns to visualize and modeling...........EDA"
   ]
  },
  {
   "cell_type": "code",
   "execution_count": 33,
   "metadata": {
    "scrolled": true
   },
   "outputs": [
    {
     "data": {
      "text/plain": [
       "18    1706\n",
       "15    1501\n",
       "19    1188\n",
       "9      990\n",
       "27     737\n",
       "5      484\n",
       "10     168\n",
       "1      104\n",
       "20     101\n",
       "25      90\n",
       "21      65\n",
       "2       38\n",
       "12      36\n",
       "26      31\n",
       "14      27\n",
       "11      12\n",
       "22       8\n",
       "6        7\n",
       "3        7\n",
       "17       6\n",
       "8        6\n",
       "13       4\n",
       "16       3\n",
       "24       2\n",
       "23       2\n",
       "0        2\n",
       "7        1\n",
       "4        1\n",
       "28       1\n",
       "Name: Product_ID, dtype: int64"
      ]
     },
     "execution_count": 33,
     "metadata": {},
     "output_type": "execute_result"
    }
   ],
   "source": [
    "data['Product_ID'].value_counts()"
   ]
  },
  {
   "cell_type": "code",
   "execution_count": 34,
   "metadata": {},
   "outputs": [],
   "source": [
    "data['Product_ID']=data['Product_ID'].astype('int64')           #to sure as an int types to show in plots"
   ]
  },
  {
   "cell_type": "code",
   "execution_count": 35,
   "metadata": {},
   "outputs": [],
   "source": [
    "from sklearn.preprocessing import LabelEncoder               #Label Encoding\n",
    "enc=LabelEncoder()\n",
    "data.Source=enc.fit_transform(data.Source)\n",
    "data.Sales_Agent=enc.fit_transform(data.Sales_Agent)\n",
    "data.Location=enc.fit_transform(data.Location)\n",
    "data.Delivery_Mode=enc.fit_transform(data.Delivery_Mode)"
   ]
  },
  {
   "cell_type": "code",
   "execution_count": 36,
   "metadata": {},
   "outputs": [
    {
     "data": {
      "text/plain": [
       "Junk Lead               1532\n",
       "Not Responding          1119\n",
       "CONVERTED                834\n",
       "Just Enquiry             751\n",
       "Potential                705\n",
       "Long Term                644\n",
       "In Progress Positive     642\n",
       "In Progress Negative     625\n",
       "LOST                     439\n",
       "Open                      19\n",
       "converted                 18\n",
       "Name: Status, dtype: int64"
      ]
     },
     "execution_count": 36,
     "metadata": {},
     "output_type": "execute_result"
    }
   ],
   "source": [
    "data.Status.value_counts()"
   ]
  },
  {
   "cell_type": "code",
   "execution_count": 37,
   "metadata": {},
   "outputs": [],
   "source": [
    "#lets convert into binary classification probs"
   ]
  },
  {
   "cell_type": "code",
   "execution_count": 38,
   "metadata": {},
   "outputs": [],
   "source": [
    "# 0 -----> Low Potential   & 1-------> High Potential"
   ]
  },
  {
   "cell_type": "code",
   "execution_count": 39,
   "metadata": {
    "scrolled": true
   },
   "outputs": [
    {
     "name": "stderr",
     "output_type": "stream",
     "text": [
      "/home/dell/anaconda3/lib/python3.7/site-packages/ipykernel_launcher.py:1: SettingWithCopyWarning: \n",
      "A value is trying to be set on a copy of a slice from a DataFrame\n",
      "\n",
      "See the caveats in the documentation: http://pandas.pydata.org/pandas-docs/stable/user_guide/indexing.html#returning-a-view-versus-a-copy\n",
      "  \"\"\"Entry point for launching an IPython kernel.\n",
      "/home/dell/anaconda3/lib/python3.7/site-packages/ipykernel_launcher.py:2: SettingWithCopyWarning: \n",
      "A value is trying to be set on a copy of a slice from a DataFrame\n",
      "\n",
      "See the caveats in the documentation: http://pandas.pydata.org/pandas-docs/stable/user_guide/indexing.html#returning-a-view-versus-a-copy\n",
      "  \n",
      "/home/dell/anaconda3/lib/python3.7/site-packages/ipykernel_launcher.py:3: SettingWithCopyWarning: \n",
      "A value is trying to be set on a copy of a slice from a DataFrame\n",
      "\n",
      "See the caveats in the documentation: http://pandas.pydata.org/pandas-docs/stable/user_guide/indexing.html#returning-a-view-versus-a-copy\n",
      "  This is separate from the ipykernel package so we can avoid doing imports until\n",
      "/home/dell/anaconda3/lib/python3.7/site-packages/ipykernel_launcher.py:4: SettingWithCopyWarning: \n",
      "A value is trying to be set on a copy of a slice from a DataFrame\n",
      "\n",
      "See the caveats in the documentation: http://pandas.pydata.org/pandas-docs/stable/user_guide/indexing.html#returning-a-view-versus-a-copy\n",
      "  after removing the cwd from sys.path.\n",
      "/home/dell/anaconda3/lib/python3.7/site-packages/ipykernel_launcher.py:5: SettingWithCopyWarning: \n",
      "A value is trying to be set on a copy of a slice from a DataFrame\n",
      "\n",
      "See the caveats in the documentation: http://pandas.pydata.org/pandas-docs/stable/user_guide/indexing.html#returning-a-view-versus-a-copy\n",
      "  \"\"\"\n",
      "/home/dell/anaconda3/lib/python3.7/site-packages/ipykernel_launcher.py:6: SettingWithCopyWarning: \n",
      "A value is trying to be set on a copy of a slice from a DataFrame\n",
      "\n",
      "See the caveats in the documentation: http://pandas.pydata.org/pandas-docs/stable/user_guide/indexing.html#returning-a-view-versus-a-copy\n",
      "  \n",
      "/home/dell/anaconda3/lib/python3.7/site-packages/ipykernel_launcher.py:7: SettingWithCopyWarning: \n",
      "A value is trying to be set on a copy of a slice from a DataFrame\n",
      "\n",
      "See the caveats in the documentation: http://pandas.pydata.org/pandas-docs/stable/user_guide/indexing.html#returning-a-view-versus-a-copy\n",
      "  import sys\n",
      "/home/dell/anaconda3/lib/python3.7/site-packages/ipykernel_launcher.py:8: SettingWithCopyWarning: \n",
      "A value is trying to be set on a copy of a slice from a DataFrame\n",
      "\n",
      "See the caveats in the documentation: http://pandas.pydata.org/pandas-docs/stable/user_guide/indexing.html#returning-a-view-versus-a-copy\n",
      "  \n",
      "/home/dell/anaconda3/lib/python3.7/site-packages/ipykernel_launcher.py:9: SettingWithCopyWarning: \n",
      "A value is trying to be set on a copy of a slice from a DataFrame\n",
      "\n",
      "See the caveats in the documentation: http://pandas.pydata.org/pandas-docs/stable/user_guide/indexing.html#returning-a-view-versus-a-copy\n",
      "  if __name__ == '__main__':\n",
      "/home/dell/anaconda3/lib/python3.7/site-packages/ipykernel_launcher.py:10: SettingWithCopyWarning: \n",
      "A value is trying to be set on a copy of a slice from a DataFrame\n",
      "\n",
      "See the caveats in the documentation: http://pandas.pydata.org/pandas-docs/stable/user_guide/indexing.html#returning-a-view-versus-a-copy\n",
      "  # Remove the CWD from sys.path while we load stuff.\n",
      "/home/dell/anaconda3/lib/python3.7/site-packages/ipykernel_launcher.py:11: SettingWithCopyWarning: \n",
      "A value is trying to be set on a copy of a slice from a DataFrame\n",
      "\n",
      "See the caveats in the documentation: http://pandas.pydata.org/pandas-docs/stable/user_guide/indexing.html#returning-a-view-versus-a-copy\n",
      "  # This is added back by InteractiveShellApp.init_path()\n"
     ]
    }
   ],
   "source": [
    "data.Status[data['Status']=='Junk Lead']=0\n",
    "data.Status[data['Status']=='Not Responding']=0\n",
    "data.Status[data['Status']=='CONVERTED']=1\n",
    "data.Status[data['Status']=='Just Enquiry']=1\n",
    "data.Status[data['Status']=='Potential']=1\n",
    "data.Status[data['Status']=='Long Term']=1\n",
    "data.Status[data['Status']=='In Progress Positive']=1\n",
    "data.Status[data['Status']=='In Progress Negative']=0\n",
    "data.Status[data['Status']=='LOST']=0\n",
    "data.Status[data['Status']=='Open']=1\n",
    "data.Status[data['Status']=='converted']=1"
   ]
  },
  {
   "cell_type": "code",
   "execution_count": 40,
   "metadata": {},
   "outputs": [],
   "source": [
    "data.Status=data['Status'].astype('int64')"
   ]
  },
  {
   "cell_type": "code",
   "execution_count": 41,
   "metadata": {},
   "outputs": [
    {
     "data": {
      "text/html": [
       "<div>\n",
       "<style scoped>\n",
       "    .dataframe tbody tr th:only-of-type {\n",
       "        vertical-align: middle;\n",
       "    }\n",
       "\n",
       "    .dataframe tbody tr th {\n",
       "        vertical-align: top;\n",
       "    }\n",
       "\n",
       "    .dataframe thead th {\n",
       "        text-align: right;\n",
       "    }\n",
       "</style>\n",
       "<table border=\"1\" class=\"dataframe\">\n",
       "  <thead>\n",
       "    <tr style=\"text-align: right;\">\n",
       "      <th></th>\n",
       "      <th>Product_ID</th>\n",
       "      <th>Location</th>\n",
       "      <th>Source</th>\n",
       "      <th>Delivery_Mode</th>\n",
       "      <th>Sales_Agent</th>\n",
       "      <th>Day</th>\n",
       "      <th>Month</th>\n",
       "      <th>Weekday</th>\n",
       "      <th>Hour</th>\n",
       "      <th>Minute</th>\n",
       "      <th>Status</th>\n",
       "    </tr>\n",
       "  </thead>\n",
       "  <tbody>\n",
       "    <tr>\n",
       "      <td>18</td>\n",
       "      <td>9</td>\n",
       "      <td>1</td>\n",
       "      <td>16</td>\n",
       "      <td>0</td>\n",
       "      <td>4</td>\n",
       "      <td>13</td>\n",
       "      <td>11</td>\n",
       "      <td>1</td>\n",
       "      <td>18</td>\n",
       "      <td>51</td>\n",
       "      <td>1</td>\n",
       "    </tr>\n",
       "    <tr>\n",
       "      <td>19</td>\n",
       "      <td>19</td>\n",
       "      <td>10</td>\n",
       "      <td>2</td>\n",
       "      <td>4</td>\n",
       "      <td>5</td>\n",
       "      <td>13</td>\n",
       "      <td>11</td>\n",
       "      <td>1</td>\n",
       "      <td>18</td>\n",
       "      <td>48</td>\n",
       "      <td>1</td>\n",
       "    </tr>\n",
       "    <tr>\n",
       "      <td>24</td>\n",
       "      <td>18</td>\n",
       "      <td>13</td>\n",
       "      <td>24</td>\n",
       "      <td>0</td>\n",
       "      <td>1</td>\n",
       "      <td>13</td>\n",
       "      <td>11</td>\n",
       "      <td>1</td>\n",
       "      <td>17</td>\n",
       "      <td>9</td>\n",
       "      <td>1</td>\n",
       "    </tr>\n",
       "    <tr>\n",
       "      <td>25</td>\n",
       "      <td>15</td>\n",
       "      <td>6</td>\n",
       "      <td>24</td>\n",
       "      <td>0</td>\n",
       "      <td>8</td>\n",
       "      <td>13</td>\n",
       "      <td>11</td>\n",
       "      <td>1</td>\n",
       "      <td>16</td>\n",
       "      <td>49</td>\n",
       "      <td>0</td>\n",
       "    </tr>\n",
       "    <tr>\n",
       "      <td>26</td>\n",
       "      <td>18</td>\n",
       "      <td>1</td>\n",
       "      <td>2</td>\n",
       "      <td>0</td>\n",
       "      <td>8</td>\n",
       "      <td>13</td>\n",
       "      <td>11</td>\n",
       "      <td>1</td>\n",
       "      <td>16</td>\n",
       "      <td>37</td>\n",
       "      <td>1</td>\n",
       "    </tr>\n",
       "    <tr>\n",
       "      <td>...</td>\n",
       "      <td>...</td>\n",
       "      <td>...</td>\n",
       "      <td>...</td>\n",
       "      <td>...</td>\n",
       "      <td>...</td>\n",
       "      <td>...</td>\n",
       "      <td>...</td>\n",
       "      <td>...</td>\n",
       "      <td>...</td>\n",
       "      <td>...</td>\n",
       "      <td>...</td>\n",
       "    </tr>\n",
       "    <tr>\n",
       "      <td>7417</td>\n",
       "      <td>9</td>\n",
       "      <td>9</td>\n",
       "      <td>2</td>\n",
       "      <td>3</td>\n",
       "      <td>7</td>\n",
       "      <td>28</td>\n",
       "      <td>4</td>\n",
       "      <td>5</td>\n",
       "      <td>9</td>\n",
       "      <td>45</td>\n",
       "      <td>0</td>\n",
       "    </tr>\n",
       "    <tr>\n",
       "      <td>7418</td>\n",
       "      <td>15</td>\n",
       "      <td>10</td>\n",
       "      <td>2</td>\n",
       "      <td>4</td>\n",
       "      <td>2</td>\n",
       "      <td>28</td>\n",
       "      <td>4</td>\n",
       "      <td>5</td>\n",
       "      <td>9</td>\n",
       "      <td>43</td>\n",
       "      <td>0</td>\n",
       "    </tr>\n",
       "    <tr>\n",
       "      <td>7419</td>\n",
       "      <td>5</td>\n",
       "      <td>1</td>\n",
       "      <td>14</td>\n",
       "      <td>0</td>\n",
       "      <td>1</td>\n",
       "      <td>28</td>\n",
       "      <td>4</td>\n",
       "      <td>5</td>\n",
       "      <td>9</td>\n",
       "      <td>20</td>\n",
       "      <td>0</td>\n",
       "    </tr>\n",
       "    <tr>\n",
       "      <td>7420</td>\n",
       "      <td>21</td>\n",
       "      <td>10</td>\n",
       "      <td>1</td>\n",
       "      <td>0</td>\n",
       "      <td>5</td>\n",
       "      <td>28</td>\n",
       "      <td>4</td>\n",
       "      <td>5</td>\n",
       "      <td>8</td>\n",
       "      <td>4</td>\n",
       "      <td>1</td>\n",
       "    </tr>\n",
       "    <tr>\n",
       "      <td>7421</td>\n",
       "      <td>25</td>\n",
       "      <td>2</td>\n",
       "      <td>24</td>\n",
       "      <td>0</td>\n",
       "      <td>4</td>\n",
       "      <td>28</td>\n",
       "      <td>4</td>\n",
       "      <td>5</td>\n",
       "      <td>7</td>\n",
       "      <td>54</td>\n",
       "      <td>1</td>\n",
       "    </tr>\n",
       "  </tbody>\n",
       "</table>\n",
       "<p>7328 rows × 11 columns</p>\n",
       "</div>"
      ],
      "text/plain": [
       "      Product_ID  Location  Source  Delivery_Mode  Sales_Agent  Day  Month  \\\n",
       "18             9         1      16              0            4   13     11   \n",
       "19            19        10       2              4            5   13     11   \n",
       "24            18        13      24              0            1   13     11   \n",
       "25            15         6      24              0            8   13     11   \n",
       "26            18         1       2              0            8   13     11   \n",
       "...          ...       ...     ...            ...          ...  ...    ...   \n",
       "7417           9         9       2              3            7   28      4   \n",
       "7418          15        10       2              4            2   28      4   \n",
       "7419           5         1      14              0            1   28      4   \n",
       "7420          21        10       1              0            5   28      4   \n",
       "7421          25         2      24              0            4   28      4   \n",
       "\n",
       "      Weekday  Hour  Minute  Status  \n",
       "18          1    18      51       1  \n",
       "19          1    18      48       1  \n",
       "24          1    17       9       1  \n",
       "25          1    16      49       0  \n",
       "26          1    16      37       1  \n",
       "...       ...   ...     ...     ...  \n",
       "7417        5     9      45       0  \n",
       "7418        5     9      43       0  \n",
       "7419        5     9      20       0  \n",
       "7420        5     8       4       1  \n",
       "7421        5     7      54       1  \n",
       "\n",
       "[7328 rows x 11 columns]"
      ]
     },
     "execution_count": 41,
     "metadata": {},
     "output_type": "execute_result"
    }
   ],
   "source": [
    "data"
   ]
  },
  {
   "cell_type": "code",
   "execution_count": 42,
   "metadata": {},
   "outputs": [
    {
     "data": {
      "text/plain": [
       "0    3715\n",
       "1    3613\n",
       "Name: Status, dtype: int64"
      ]
     },
     "execution_count": 42,
     "metadata": {},
     "output_type": "execute_result"
    }
   ],
   "source": [
    "data.Status.value_counts()"
   ]
  },
  {
   "cell_type": "code",
   "execution_count": 43,
   "metadata": {},
   "outputs": [],
   "source": [
    "# successfully digitalized every data in datasets...beauty"
   ]
  },
  {
   "cell_type": "markdown",
   "metadata": {},
   "source": [
    "# Plotting"
   ]
  },
  {
   "cell_type": "raw",
   "metadata": {},
   "source": [
    "# data plots(inputs)"
   ]
  },
  {
   "cell_type": "code",
   "execution_count": 44,
   "metadata": {},
   "outputs": [],
   "source": [
    "# 1) Box Plot"
   ]
  },
  {
   "cell_type": "code",
   "execution_count": 45,
   "metadata": {},
   "outputs": [
    {
     "data": {
      "text/plain": [
       "<matplotlib.axes._subplots.AxesSubplot at 0x7f364de73750>"
      ]
     },
     "execution_count": 45,
     "metadata": {},
     "output_type": "execute_result"
    },
    {
     "data": {
      "image/png": "[encoded data removed]",
      "text/plain": [
       "<Figure size 720x720 with 1 Axes>"
      ]
     },
     "metadata": {
      "needs_background": "light"
     },
     "output_type": "display_data"
    },
    {
     "data": {
      "image/png": "[encoded data removed]",
      "text/plain": [
       "<Figure size 432x288 with 1 Axes>"
      ]
     },
     "metadata": {
      "needs_background": "light"
     },
     "output_type": "display_data"
    }
   ],
   "source": [
    "data.boxplot(figsize=(10,10))\n",
    "data.plot()"
   ]
  },
  {
   "cell_type": "code",
   "execution_count": 46,
   "metadata": {},
   "outputs": [],
   "source": [
    "# 2)  Histogram plot"
   ]
  },
  {
   "cell_type": "code",
   "execution_count": 47,
   "metadata": {},
   "outputs": [
    {
     "data": {
      "text/plain": [
       "<matplotlib.axes._subplots.AxesSubplot at 0x7f364e6d0ad0>"
      ]
     },
     "execution_count": 47,
     "metadata": {},
     "output_type": "execute_result"
    },
    {
     "data": {
      "image/png": "[encoded data removed]",
      "text/plain": [
       "<Figure size 1440x1440 with 12 Axes>"
      ]
     },
     "metadata": {
      "needs_background": "light"
     },
     "output_type": "display_data"
    },
    {
     "data": {
      "image/png": "[encoded data removed]",
      "text/plain": [
       "<Figure size 432x288 with 1 Axes>"
      ]
     },
     "metadata": {
      "needs_background": "light"
     },
     "output_type": "display_data"
    }
   ],
   "source": [
    "data.hist(bins=20,figsize=(20,20))\n",
    "data.plot()"
   ]
  },
  {
   "cell_type": "raw",
   "metadata": {},
   "source": [
    "# responce plots(inputs with outputs)....seaborn"
   ]
  },
  {
   "cell_type": "code",
   "execution_count": 48,
   "metadata": {},
   "outputs": [],
   "source": [
    "# 3) barplot"
   ]
  },
  {
   "cell_type": "code",
   "execution_count": 49,
   "metadata": {
    "scrolled": true
   },
   "outputs": [
    {
     "data": {
      "text/plain": [
       "<matplotlib.axes._subplots.AxesSubplot at 0x7f364d711d10>"
      ]
     },
     "execution_count": 49,
     "metadata": {},
     "output_type": "execute_result"
    },
    {
     "data": {
      "image/png": "[encoded data removed]",
      "text/plain": [
       "<Figure size 432x288 with 1 Axes>"
      ]
     },
     "metadata": {
      "needs_background": "light"
     },
     "output_type": "display_data"
    },
    {
     "data": {
      "image/png": "[encoded data removed]",
      "text/plain": [
       "<Figure size 432x288 with 1 Axes>"
      ]
     },
     "metadata": {
      "needs_background": "light"
     },
     "output_type": "display_data"
    }
   ],
   "source": [
    "sb.barplot(x=data['Status'],y=data['Product_ID'])\n",
    "data.plot()"
   ]
  },
  {
   "cell_type": "code",
   "execution_count": 50,
   "metadata": {},
   "outputs": [],
   "source": [
    "# subplots-barplot"
   ]
  },
  {
   "cell_type": "code",
   "execution_count": 51,
   "metadata": {},
   "outputs": [
    {
     "data": {
      "image/png": "[encoded data removed]",
      "text/plain": [
       "<Figure size 1440x1440 with 10 Axes>"
      ]
     },
     "metadata": {
      "needs_background": "light"
     },
     "output_type": "display_data"
    }
   ],
   "source": [
    "plt.figure(figsize=(20,20))\n",
    "plt.subplot(4,3,1)\n",
    "sb.barplot(x=data['Status'],y=data['Product_ID'])\n",
    "plt.subplot(4,3,2)\n",
    "sb.barplot(x=data['Status'],y=data['Location'])\n",
    "plt.subplot(4,3,3)\n",
    "sb.barplot(x=data['Status'],y=data['Source'])\n",
    "plt.subplot(4,3,4)\n",
    "sb.barplot(x=data['Status'],y=data['Delivery_Mode'])\n",
    "plt.subplot(4,3,5)\n",
    "sb.barplot(x=data['Status'],y=data['Sales_Agent'])\n",
    "plt.subplot(4,3,6)\n",
    "sb.barplot(x=data['Status'],y=data['Day'])\n",
    "plt.subplot(4,3,7)\n",
    "sb.barplot(x=data['Status'],y=data['Month'])\n",
    "plt.subplot(4,3,8)\n",
    "sb.barplot(x=data['Status'],y=data['Weekday'])\n",
    "plt.subplot(4,3,9)\n",
    "sb.barplot(x=data['Status'],y=data['Hour'])\n",
    "plt.subplot(4,3,10)\n",
    "sb.barplot(x=data['Status'],y=data['Minute'])\n",
    "\n",
    "plt.show()"
   ]
  },
  {
   "cell_type": "code",
   "execution_count": 52,
   "metadata": {},
   "outputs": [],
   "source": [
    "# 4) countplot"
   ]
  },
  {
   "cell_type": "code",
   "execution_count": 53,
   "metadata": {},
   "outputs": [
    {
     "data": {
      "text/plain": [
       "<matplotlib.axes._subplots.AxesSubplot at 0x7f364cbe52d0>"
      ]
     },
     "execution_count": 53,
     "metadata": {},
     "output_type": "execute_result"
    },
    {
     "data": {
      "image/png": "[encoded data removed]",
      "text/plain": [
       "<Figure size 432x288 with 1 Axes>"
      ]
     },
     "metadata": {
      "needs_background": "light"
     },
     "output_type": "display_data"
    },
    {
     "data": {
      "image/png": "[encoded data removed]",
      "text/plain": [
       "<Figure size 432x288 with 1 Axes>"
      ]
     },
     "metadata": {
      "needs_background": "light"
     },
     "output_type": "display_data"
    }
   ],
   "source": [
    "sb.countplot(x='Source',hue='Status',data=data)\n",
    "data.plot()"
   ]
  },
  {
   "cell_type": "code",
   "execution_count": 54,
   "metadata": {},
   "outputs": [],
   "source": [
    "#subplots-countplot"
   ]
  },
  {
   "cell_type": "code",
   "execution_count": 57,
   "metadata": {},
   "outputs": [
    {
     "data": {
      "image/png": "[encoded data removed]",
      "text/plain": [
       "<Figure size 1440x1440 with 10 Axes>"
      ]
     },
     "metadata": {
      "needs_background": "light"
     },
     "output_type": "display_data"
    }
   ],
   "source": [
    "plt.figure(figsize=(20,20))\n",
    "plt.subplot(4,3,1)\n",
    "sb.countplot(x='Product_ID',hue='Status',data=data)\n",
    "plt.subplot(4,3,2)\n",
    "sb.countplot(x='Location',hue='Status',data=data)\n",
    "plt.subplot(4,3,3)\n",
    "sb.countplot(x='Source',hue='Status',data=data)\n",
    "plt.subplot(4,3,4)\n",
    "sb.countplot(x='Delivery_Mode',hue='Status',data=data)\n",
    "plt.subplot(4,3,5)\n",
    "sb.countplot(x='Sales_Agent',hue='Status',data=data)\n",
    "plt.subplot(4,3,6)\n",
    "sb.countplot(x='Day',hue='Status',data=data)\n",
    "plt.subplot(4,3,7)\n",
    "sb.countplot(x='Month',hue='Status',data=data)\n",
    "plt.subplot(4,3,8)\n",
    "sb.countplot(x='Weekday',hue='Status',data=data)\n",
    "plt.subplot(4,3,9)\n",
    "sb.countplot(x='Hour',hue='Status',data=data)\n",
    "plt.subplot(4,3,10)\n",
    "sb.countplot(x='Minute',hue='Status',data=data)\n",
    "\n",
    "plt.show()"
   ]
  },
  {
   "cell_type": "code",
   "execution_count": 58,
   "metadata": {},
   "outputs": [],
   "source": [
    "# 5) boxplot response with subplot"
   ]
  },
  {
   "cell_type": "code",
   "execution_count": 59,
   "metadata": {},
   "outputs": [
    {
     "data": {
      "text/plain": [
       "<matplotlib.axes._subplots.AxesSubplot at 0x7f364c1459d0>"
      ]
     },
     "execution_count": 59,
     "metadata": {},
     "output_type": "execute_result"
    },
    {
     "data": {
      "image/png": "[encoded data removed]",
      "text/plain": [
       "<Figure size 720x360 with 1 Axes>"
      ]
     },
     "metadata": {
      "needs_background": "light"
     },
     "output_type": "display_data"
    }
   ],
   "source": [
    "plt.figure(figsize=(10,5))\n",
    "sb.boxplot(data['Source'])"
   ]
  },
  {
   "cell_type": "code",
   "execution_count": 60,
   "metadata": {},
   "outputs": [
    {
     "data": {
      "image/png": "[encoded data removed]",
      "text/plain": [
       "<Figure size 1440x1440 with 10 Axes>"
      ]
     },
     "metadata": {
      "needs_background": "light"
     },
     "output_type": "display_data"
    }
   ],
   "source": [
    "plt.figure(figsize=(20,20))\n",
    "plt.subplot(4,3,1)\n",
    "sb.boxplot(data['Product_ID'])\n",
    "plt.subplot(4,3,2)\n",
    "sb.boxplot(data['Location'])\n",
    "plt.subplot(4,3,3)\n",
    "sb.boxplot(data['Source'])\n",
    "plt.subplot(4,3,4)\n",
    "sb.boxplot(data['Delivery_Mode'])\n",
    "plt.subplot(4,3,5)\n",
    "sb.boxplot(data['Sales_Agent'])\n",
    "plt.subplot(4,3,6)\n",
    "sb.boxplot(data['Day'])\n",
    "plt.subplot(4,3,7)\n",
    "sb.boxplot(data['Month'])\n",
    "plt.subplot(4,3,8)\n",
    "sb.boxplot(data['Weekday'])\n",
    "plt.subplot(4,3,9)\n",
    "sb.boxplot(data['Hour'])\n",
    "plt.subplot(4,3,10)\n",
    "sb.boxplot(data['Minute'])\n",
    "\n",
    "plt.show()"
   ]
  },
  {
   "cell_type": "markdown",
   "metadata": {},
   "source": [
    "# Modelling"
   ]
  },
  {
   "cell_type": "code",
   "execution_count": 61,
   "metadata": {},
   "outputs": [],
   "source": [
    "#Logistic Regression, KNN, Decision Tree,Random Forest, SVM,XGBoost,AdaBoosting,Naive bayes,NN"
   ]
  },
  {
   "cell_type": "markdown",
   "metadata": {},
   "source": [
    "# 1)Logistic Regression"
   ]
  },
  {
   "cell_type": "code",
   "execution_count": 62,
   "metadata": {},
   "outputs": [],
   "source": [
    "\n",
    "from sklearn.linear_model import LogisticRegression\n",
    "from sklearn.model_selection import train_test_split\n",
    "from sklearn.metrics import confusion_matrix,accuracy_score,classification_report"
   ]
  },
  {
   "cell_type": "code",
   "execution_count": 63,
   "metadata": {},
   "outputs": [
    {
     "data": {
      "text/html": [
       "<div>\n",
       "<style scoped>\n",
       "    .dataframe tbody tr th:only-of-type {\n",
       "        vertical-align: middle;\n",
       "    }\n",
       "\n",
       "    .dataframe tbody tr th {\n",
       "        vertical-align: top;\n",
       "    }\n",
       "\n",
       "    .dataframe thead th {\n",
       "        text-align: right;\n",
       "    }\n",
       "</style>\n",
       "<table border=\"1\" class=\"dataframe\">\n",
       "  <thead>\n",
       "    <tr style=\"text-align: right;\">\n",
       "      <th></th>\n",
       "      <th>Product_ID</th>\n",
       "      <th>Location</th>\n",
       "      <th>Source</th>\n",
       "      <th>Delivery_Mode</th>\n",
       "      <th>Sales_Agent</th>\n",
       "      <th>Day</th>\n",
       "      <th>Month</th>\n",
       "      <th>Weekday</th>\n",
       "      <th>Hour</th>\n",
       "      <th>Minute</th>\n",
       "      <th>Status</th>\n",
       "    </tr>\n",
       "  </thead>\n",
       "  <tbody>\n",
       "    <tr>\n",
       "      <td>18</td>\n",
       "      <td>9</td>\n",
       "      <td>1</td>\n",
       "      <td>16</td>\n",
       "      <td>0</td>\n",
       "      <td>4</td>\n",
       "      <td>13</td>\n",
       "      <td>11</td>\n",
       "      <td>1</td>\n",
       "      <td>18</td>\n",
       "      <td>51</td>\n",
       "      <td>1</td>\n",
       "    </tr>\n",
       "    <tr>\n",
       "      <td>19</td>\n",
       "      <td>19</td>\n",
       "      <td>10</td>\n",
       "      <td>2</td>\n",
       "      <td>4</td>\n",
       "      <td>5</td>\n",
       "      <td>13</td>\n",
       "      <td>11</td>\n",
       "      <td>1</td>\n",
       "      <td>18</td>\n",
       "      <td>48</td>\n",
       "      <td>1</td>\n",
       "    </tr>\n",
       "    <tr>\n",
       "      <td>24</td>\n",
       "      <td>18</td>\n",
       "      <td>13</td>\n",
       "      <td>24</td>\n",
       "      <td>0</td>\n",
       "      <td>1</td>\n",
       "      <td>13</td>\n",
       "      <td>11</td>\n",
       "      <td>1</td>\n",
       "      <td>17</td>\n",
       "      <td>9</td>\n",
       "      <td>1</td>\n",
       "    </tr>\n",
       "    <tr>\n",
       "      <td>25</td>\n",
       "      <td>15</td>\n",
       "      <td>6</td>\n",
       "      <td>24</td>\n",
       "      <td>0</td>\n",
       "      <td>8</td>\n",
       "      <td>13</td>\n",
       "      <td>11</td>\n",
       "      <td>1</td>\n",
       "      <td>16</td>\n",
       "      <td>49</td>\n",
       "      <td>0</td>\n",
       "    </tr>\n",
       "    <tr>\n",
       "      <td>26</td>\n",
       "      <td>18</td>\n",
       "      <td>1</td>\n",
       "      <td>2</td>\n",
       "      <td>0</td>\n",
       "      <td>8</td>\n",
       "      <td>13</td>\n",
       "      <td>11</td>\n",
       "      <td>1</td>\n",
       "      <td>16</td>\n",
       "      <td>37</td>\n",
       "      <td>1</td>\n",
       "    </tr>\n",
       "  </tbody>\n",
       "</table>\n",
       "</div>"
      ],
      "text/plain": [
       "    Product_ID  Location  Source  Delivery_Mode  Sales_Agent  Day  Month  \\\n",
       "18           9         1      16              0            4   13     11   \n",
       "19          19        10       2              4            5   13     11   \n",
       "24          18        13      24              0            1   13     11   \n",
       "25          15         6      24              0            8   13     11   \n",
       "26          18         1       2              0            8   13     11   \n",
       "\n",
       "    Weekday  Hour  Minute  Status  \n",
       "18        1    18      51       1  \n",
       "19        1    18      48       1  \n",
       "24        1    17       9       1  \n",
       "25        1    16      49       0  \n",
       "26        1    16      37       1  "
      ]
     },
     "execution_count": 63,
     "metadata": {},
     "output_type": "execute_result"
    }
   ],
   "source": [
    "data.head()"
   ]
  },
  {
   "cell_type": "code",
   "execution_count": 64,
   "metadata": {},
   "outputs": [],
   "source": [
    "x=data.iloc[:,:-1]\n",
    "y=data.Status"
   ]
  },
  {
   "cell_type": "code",
   "execution_count": 65,
   "metadata": {},
   "outputs": [],
   "source": [
    "from sklearn.preprocessing import StandardScaler\n",
    "sc=StandardScaler()\n",
    "x=sc.fit_transform(x)"
   ]
  },
  {
   "cell_type": "code",
   "execution_count": 66,
   "metadata": {},
   "outputs": [
    {
     "data": {
      "text/plain": [
       "18    1\n",
       "19    1\n",
       "24    1\n",
       "25    0\n",
       "26    1\n",
       "Name: Status, dtype: int64"
      ]
     },
     "execution_count": 66,
     "metadata": {},
     "output_type": "execute_result"
    }
   ],
   "source": [
    "y.head()"
   ]
  },
  {
   "cell_type": "code",
   "execution_count": 67,
   "metadata": {},
   "outputs": [],
   "source": [
    "#we need check the performance accuracy,precision,recall,specificity  from confusion matrix"
   ]
  },
  {
   "cell_type": "code",
   "execution_count": 69,
   "metadata": {},
   "outputs": [],
   "source": [
    "def performance(cm):\n",
    "    a,b,c,d=cm.ravel()           #2 classifier....2x2=4\n",
    "    accuracy=(a+d)/cm.sum()      \n",
    "    precision=d/(d+b)            #PPV , 1-FDR                             fdr-false discovery r\n",
    "    recall=d/(d+c)               #sensitivity, TPR , hit rate, 1-FNR      fnr-miss rate\n",
    "    specificity=a/(a+b)          #selectivity, TNR ,1-FPR                 fpr-fall out\n",
    "    F1_score=(2*precision*recall)/(precision+recall)       # HM of precision and recall\n",
    "    print('Accuracy=',accuracy)\n",
    "    print('Precision=',precision)\n",
    "    print('Recall=',recall)\n",
    "    print('Specificity=',specificity)\n",
    "    print('F1-Score=',F1_score)"
   ]
  },
  {
   "cell_type": "code",
   "execution_count": 70,
   "metadata": {},
   "outputs": [],
   "source": [
    "x_train,x_test,y_train,y_test=train_test_split(x,y,test_size=0.2,random_state=32)"
   ]
  },
  {
   "cell_type": "code",
   "execution_count": 71,
   "metadata": {},
   "outputs": [
    {
     "name": "stderr",
     "output_type": "stream",
     "text": [
      "/home/dell/anaconda3/lib/python3.7/site-packages/sklearn/linear_model/logistic.py:432: FutureWarning: Default solver will be changed to 'lbfgs' in 0.22. Specify a solver to silence this warning.\n",
      "  FutureWarning)\n"
     ]
    },
    {
     "data": {
      "text/plain": [
       "LogisticRegression(C=1.0, class_weight=None, dual=False, fit_intercept=True,\n",
       "                   intercept_scaling=1, l1_ratio=None, max_iter=100,\n",
       "                   multi_class='warn', n_jobs=None, penalty='l2',\n",
       "                   random_state=None, solver='warn', tol=0.0001, verbose=0,\n",
       "                   warm_start=False)"
      ]
     },
     "execution_count": 71,
     "metadata": {},
     "output_type": "execute_result"
    }
   ],
   "source": [
    "model=LogisticRegression()\n",
    "model.fit(x_train,y_train)"
   ]
  },
  {
   "cell_type": "code",
   "execution_count": 72,
   "metadata": {},
   "outputs": [
    {
     "name": "stdout",
     "output_type": "stream",
     "text": [
      "Accuracy= 0.6418826739427013\n",
      "Precision= 0.6281690140845071\n",
      "Recall= 0.6308345120226309\n",
      "Specificity= 0.6521739130434783\n",
      "F1-Score= 0.629498941425547\n"
     ]
    }
   ],
   "source": [
    "y_pred=model.predict(x_test)\n",
    "cm=confusion_matrix(y_test,y_pred)\n",
    "performance(cm)"
   ]
  },
  {
   "cell_type": "markdown",
   "metadata": {},
   "source": [
    "# 2) KNN"
   ]
  },
  {
   "cell_type": "code",
   "execution_count": 73,
   "metadata": {},
   "outputs": [],
   "source": [
    "from sklearn.neighbors import KNeighborsClassifier\n",
    "from sklearn.model_selection import train_test_split\n",
    "from sklearn.metrics import confusion_matrix,accuracy_score,classification_report\n",
    "from sklearn.preprocessing import scale"
   ]
  },
  {
   "cell_type": "code",
   "execution_count": 74,
   "metadata": {},
   "outputs": [
    {
     "data": {
      "text/html": [
       "<div>\n",
       "<style scoped>\n",
       "    .dataframe tbody tr th:only-of-type {\n",
       "        vertical-align: middle;\n",
       "    }\n",
       "\n",
       "    .dataframe tbody tr th {\n",
       "        vertical-align: top;\n",
       "    }\n",
       "\n",
       "    .dataframe thead th {\n",
       "        text-align: right;\n",
       "    }\n",
       "</style>\n",
       "<table border=\"1\" class=\"dataframe\">\n",
       "  <thead>\n",
       "    <tr style=\"text-align: right;\">\n",
       "      <th></th>\n",
       "      <th>Product_ID</th>\n",
       "      <th>Location</th>\n",
       "      <th>Source</th>\n",
       "      <th>Delivery_Mode</th>\n",
       "      <th>Sales_Agent</th>\n",
       "      <th>Day</th>\n",
       "      <th>Month</th>\n",
       "      <th>Weekday</th>\n",
       "      <th>Hour</th>\n",
       "      <th>Minute</th>\n",
       "      <th>Status</th>\n",
       "    </tr>\n",
       "  </thead>\n",
       "  <tbody>\n",
       "    <tr>\n",
       "      <td>18</td>\n",
       "      <td>9</td>\n",
       "      <td>1</td>\n",
       "      <td>16</td>\n",
       "      <td>0</td>\n",
       "      <td>4</td>\n",
       "      <td>13</td>\n",
       "      <td>11</td>\n",
       "      <td>1</td>\n",
       "      <td>18</td>\n",
       "      <td>51</td>\n",
       "      <td>1</td>\n",
       "    </tr>\n",
       "    <tr>\n",
       "      <td>19</td>\n",
       "      <td>19</td>\n",
       "      <td>10</td>\n",
       "      <td>2</td>\n",
       "      <td>4</td>\n",
       "      <td>5</td>\n",
       "      <td>13</td>\n",
       "      <td>11</td>\n",
       "      <td>1</td>\n",
       "      <td>18</td>\n",
       "      <td>48</td>\n",
       "      <td>1</td>\n",
       "    </tr>\n",
       "    <tr>\n",
       "      <td>24</td>\n",
       "      <td>18</td>\n",
       "      <td>13</td>\n",
       "      <td>24</td>\n",
       "      <td>0</td>\n",
       "      <td>1</td>\n",
       "      <td>13</td>\n",
       "      <td>11</td>\n",
       "      <td>1</td>\n",
       "      <td>17</td>\n",
       "      <td>9</td>\n",
       "      <td>1</td>\n",
       "    </tr>\n",
       "    <tr>\n",
       "      <td>25</td>\n",
       "      <td>15</td>\n",
       "      <td>6</td>\n",
       "      <td>24</td>\n",
       "      <td>0</td>\n",
       "      <td>8</td>\n",
       "      <td>13</td>\n",
       "      <td>11</td>\n",
       "      <td>1</td>\n",
       "      <td>16</td>\n",
       "      <td>49</td>\n",
       "      <td>0</td>\n",
       "    </tr>\n",
       "    <tr>\n",
       "      <td>26</td>\n",
       "      <td>18</td>\n",
       "      <td>1</td>\n",
       "      <td>2</td>\n",
       "      <td>0</td>\n",
       "      <td>8</td>\n",
       "      <td>13</td>\n",
       "      <td>11</td>\n",
       "      <td>1</td>\n",
       "      <td>16</td>\n",
       "      <td>37</td>\n",
       "      <td>1</td>\n",
       "    </tr>\n",
       "  </tbody>\n",
       "</table>\n",
       "</div>"
      ],
      "text/plain": [
       "    Product_ID  Location  Source  Delivery_Mode  Sales_Agent  Day  Month  \\\n",
       "18           9         1      16              0            4   13     11   \n",
       "19          19        10       2              4            5   13     11   \n",
       "24          18        13      24              0            1   13     11   \n",
       "25          15         6      24              0            8   13     11   \n",
       "26          18         1       2              0            8   13     11   \n",
       "\n",
       "    Weekday  Hour  Minute  Status  \n",
       "18        1    18      51       1  \n",
       "19        1    18      48       1  \n",
       "24        1    17       9       1  \n",
       "25        1    16      49       0  \n",
       "26        1    16      37       1  "
      ]
     },
     "execution_count": 74,
     "metadata": {},
     "output_type": "execute_result"
    }
   ],
   "source": [
    "data.head()"
   ]
  },
  {
   "cell_type": "code",
   "execution_count": 75,
   "metadata": {},
   "outputs": [],
   "source": [
    "x=data.iloc[:,[1,2,3,4]]\n",
    "y=data.Status"
   ]
  },
  {
   "cell_type": "code",
   "execution_count": 76,
   "metadata": {},
   "outputs": [],
   "source": [
    "x_train,x_test,y_train,y_test=train_test_split(x,y,test_size=0.3,random_state=32)"
   ]
  },
  {
   "cell_type": "code",
   "execution_count": 77,
   "metadata": {},
   "outputs": [],
   "source": [
    "model=KNeighborsClassifier(n_neighbors=1,metric='euclidean')"
   ]
  },
  {
   "cell_type": "code",
   "execution_count": 78,
   "metadata": {},
   "outputs": [
    {
     "data": {
      "text/plain": [
       "KNeighborsClassifier(algorithm='auto', leaf_size=30, metric='euclidean',\n",
       "                     metric_params=None, n_jobs=None, n_neighbors=1, p=2,\n",
       "                     weights='uniform')"
      ]
     },
     "execution_count": 78,
     "metadata": {},
     "output_type": "execute_result"
    }
   ],
   "source": [
    "model.fit(x_train,y_train)"
   ]
  },
  {
   "cell_type": "code",
   "execution_count": 79,
   "metadata": {},
   "outputs": [],
   "source": [
    "y_pred=model.predict(x_test)"
   ]
  },
  {
   "cell_type": "code",
   "execution_count": 80,
   "metadata": {},
   "outputs": [],
   "source": [
    "cm=confusion_matrix(y_test,y_pred)"
   ]
  },
  {
   "cell_type": "code",
   "execution_count": 81,
   "metadata": {
    "scrolled": true
   },
   "outputs": [
    {
     "name": "stdout",
     "output_type": "stream",
     "text": [
      "Accuracy= 0.6157344247385175\n",
      "Precision= 0.6015108593012276\n",
      "Recall= 0.6009433962264151\n",
      "Specificity= 0.6294995610184372\n",
      "F1-Score= 0.6012269938650308\n"
     ]
    }
   ],
   "source": [
    "performance(cm)"
   ]
  },
  {
   "cell_type": "markdown",
   "metadata": {},
   "source": [
    "# 3)Decision Tree"
   ]
  },
  {
   "cell_type": "code",
   "execution_count": 82,
   "metadata": {},
   "outputs": [
    {
     "name": "stderr",
     "output_type": "stream",
     "text": [
      "/home/dell/anaconda3/lib/python3.7/site-packages/sklearn/externals/six.py:31: DeprecationWarning: The module is deprecated in version 0.21 and will be removed in version 0.23 since we've dropped support for Python 2.7. Please rely on the official version of six (https://pypi.org/project/six/).\n",
      "  \"(https://pypi.org/project/six/).\", DeprecationWarning)\n"
     ]
    }
   ],
   "source": [
    "from sklearn.tree import DecisionTreeClassifier,export_graphviz     #to visualize\n",
    "from IPython.display import Image                                   #to show in image\n",
    "import pydotplus                                                    #to visualize as well\n",
    "from sklearn.model_selection import train_test_split\n",
    "from sklearn.metrics import confusion_matrix,accuracy_score,classification_report\n",
    "from sklearn.externals.six import StringIO"
   ]
  },
  {
   "cell_type": "code",
   "execution_count": 83,
   "metadata": {},
   "outputs": [
    {
     "data": {
      "text/html": [
       "<div>\n",
       "<style scoped>\n",
       "    .dataframe tbody tr th:only-of-type {\n",
       "        vertical-align: middle;\n",
       "    }\n",
       "\n",
       "    .dataframe tbody tr th {\n",
       "        vertical-align: top;\n",
       "    }\n",
       "\n",
       "    .dataframe thead th {\n",
       "        text-align: right;\n",
       "    }\n",
       "</style>\n",
       "<table border=\"1\" class=\"dataframe\">\n",
       "  <thead>\n",
       "    <tr style=\"text-align: right;\">\n",
       "      <th></th>\n",
       "      <th>Product_ID</th>\n",
       "      <th>Location</th>\n",
       "      <th>Source</th>\n",
       "      <th>Delivery_Mode</th>\n",
       "      <th>Sales_Agent</th>\n",
       "      <th>Day</th>\n",
       "      <th>Month</th>\n",
       "      <th>Weekday</th>\n",
       "      <th>Hour</th>\n",
       "      <th>Minute</th>\n",
       "      <th>Status</th>\n",
       "    </tr>\n",
       "  </thead>\n",
       "  <tbody>\n",
       "    <tr>\n",
       "      <td>18</td>\n",
       "      <td>9</td>\n",
       "      <td>1</td>\n",
       "      <td>16</td>\n",
       "      <td>0</td>\n",
       "      <td>4</td>\n",
       "      <td>13</td>\n",
       "      <td>11</td>\n",
       "      <td>1</td>\n",
       "      <td>18</td>\n",
       "      <td>51</td>\n",
       "      <td>1</td>\n",
       "    </tr>\n",
       "    <tr>\n",
       "      <td>19</td>\n",
       "      <td>19</td>\n",
       "      <td>10</td>\n",
       "      <td>2</td>\n",
       "      <td>4</td>\n",
       "      <td>5</td>\n",
       "      <td>13</td>\n",
       "      <td>11</td>\n",
       "      <td>1</td>\n",
       "      <td>18</td>\n",
       "      <td>48</td>\n",
       "      <td>1</td>\n",
       "    </tr>\n",
       "    <tr>\n",
       "      <td>24</td>\n",
       "      <td>18</td>\n",
       "      <td>13</td>\n",
       "      <td>24</td>\n",
       "      <td>0</td>\n",
       "      <td>1</td>\n",
       "      <td>13</td>\n",
       "      <td>11</td>\n",
       "      <td>1</td>\n",
       "      <td>17</td>\n",
       "      <td>9</td>\n",
       "      <td>1</td>\n",
       "    </tr>\n",
       "  </tbody>\n",
       "</table>\n",
       "</div>"
      ],
      "text/plain": [
       "    Product_ID  Location  Source  Delivery_Mode  Sales_Agent  Day  Month  \\\n",
       "18           9         1      16              0            4   13     11   \n",
       "19          19        10       2              4            5   13     11   \n",
       "24          18        13      24              0            1   13     11   \n",
       "\n",
       "    Weekday  Hour  Minute  Status  \n",
       "18        1    18      51       1  \n",
       "19        1    18      48       1  \n",
       "24        1    17       9       1  "
      ]
     },
     "execution_count": 83,
     "metadata": {},
     "output_type": "execute_result"
    }
   ],
   "source": [
    "data.head(3)"
   ]
  },
  {
   "cell_type": "code",
   "execution_count": 84,
   "metadata": {},
   "outputs": [],
   "source": [
    "model=DecisionTreeClassifier( max_depth=4)"
   ]
  },
  {
   "cell_type": "code",
   "execution_count": 92,
   "metadata": {},
   "outputs": [
    {
     "ename": "ValueError",
     "evalue": "Length of feature_names, 10 does not match number of features, 4",
     "output_type": "error",
     "traceback": [
      "\u001b[0;31m---------------------------------------------------------------------------\u001b[0m",
      "\u001b[0;31mValueError\u001b[0m                                Traceback (most recent call last)",
      "\u001b[0;32m<ipython-input-92-7f2a9e107259>\u001b[0m in \u001b[0;36m<module>\u001b[0;34m\u001b[0m\n\u001b[1;32m      1\u001b[0m \u001b[0;31m#to visualize tree as image\u001b[0m\u001b[0;34m\u001b[0m\u001b[0;34m\u001b[0m\u001b[0;34m\u001b[0m\u001b[0m\n\u001b[1;32m      2\u001b[0m \u001b[0mnode_data\u001b[0m\u001b[0;34m=\u001b[0m\u001b[0mStringIO\u001b[0m\u001b[0;34m(\u001b[0m\u001b[0;34m)\u001b[0m\u001b[0;34m\u001b[0m\u001b[0;34m\u001b[0m\u001b[0m\n\u001b[0;32m----> 3\u001b[0;31m \u001b[0mexport_graphviz\u001b[0m\u001b[0;34m(\u001b[0m\u001b[0mmodel\u001b[0m\u001b[0;34m,\u001b[0m\u001b[0mout_file\u001b[0m\u001b[0;34m=\u001b[0m\u001b[0mnode_data\u001b[0m\u001b[0;34m,\u001b[0m\u001b[0mfilled\u001b[0m\u001b[0;34m=\u001b[0m\u001b[0;32mTrue\u001b[0m\u001b[0;34m,\u001b[0m\u001b[0mrounded\u001b[0m\u001b[0;34m=\u001b[0m\u001b[0;32mTrue\u001b[0m\u001b[0;34m,\u001b[0m\u001b[0mfeature_names\u001b[0m\u001b[0;34m=\u001b[0m\u001b[0;34m[\u001b[0m\u001b[0;34m'Product_ID'\u001b[0m\u001b[0;34m,\u001b[0m\u001b[0;34m'Location'\u001b[0m\u001b[0;34m,\u001b[0m\u001b[0;34m'Source'\u001b[0m\u001b[0;34m,\u001b[0m\u001b[0;34m'Delivery_Mode'\u001b[0m\u001b[0;34m,\u001b[0m\u001b[0;34m'Sales_Agent'\u001b[0m\u001b[0;34m,\u001b[0m\u001b[0;34m'Day'\u001b[0m\u001b[0;34m,\u001b[0m\u001b[0;34m'Month'\u001b[0m\u001b[0;34m,\u001b[0m\u001b[0;34m'Weekday'\u001b[0m\u001b[0;34m,\u001b[0m\u001b[0;34m'Hour'\u001b[0m\u001b[0;34m,\u001b[0m\u001b[0;34m'Minute'\u001b[0m\u001b[0;34m]\u001b[0m\u001b[0;34m,\u001b[0m\u001b[0mclass_names\u001b[0m\u001b[0;34m=\u001b[0m\u001b[0;34m[\u001b[0m\u001b[0;34m'0'\u001b[0m\u001b[0;34m,\u001b[0m\u001b[0;34m'1'\u001b[0m\u001b[0;34m]\u001b[0m\u001b[0;34m)\u001b[0m\u001b[0;34m\u001b[0m\u001b[0;34m\u001b[0m\u001b[0m\n\u001b[0m\u001b[1;32m      4\u001b[0m \u001b[0mnode_data\u001b[0m\u001b[0;34m.\u001b[0m\u001b[0mgetvalue\u001b[0m\u001b[0;34m(\u001b[0m\u001b[0;34m)\u001b[0m\u001b[0;34m\u001b[0m\u001b[0;34m\u001b[0m\u001b[0m\n\u001b[1;32m      5\u001b[0m \u001b[0mgraph\u001b[0m\u001b[0;34m=\u001b[0m\u001b[0mpydotplus\u001b[0m\u001b[0;34m.\u001b[0m\u001b[0mgraph_from_dot_data\u001b[0m\u001b[0;34m(\u001b[0m\u001b[0mnode_data\u001b[0m\u001b[0;34m.\u001b[0m\u001b[0mgetvalue\u001b[0m\u001b[0;34m(\u001b[0m\u001b[0;34m)\u001b[0m\u001b[0;34m)\u001b[0m\u001b[0;34m\u001b[0m\u001b[0;34m\u001b[0m\u001b[0m\n",
      "\u001b[0;32m~/anaconda3/lib/python3.7/site-packages/sklearn/tree/export.py\u001b[0m in \u001b[0;36mexport_graphviz\u001b[0;34m(decision_tree, out_file, max_depth, feature_names, class_names, label, filled, leaves_parallel, impurity, node_ids, proportion, rotate, rounded, special_characters, precision)\u001b[0m\n\u001b[1;32m    774\u001b[0m             \u001b[0mrounded\u001b[0m\u001b[0;34m=\u001b[0m\u001b[0mrounded\u001b[0m\u001b[0;34m,\u001b[0m \u001b[0mspecial_characters\u001b[0m\u001b[0;34m=\u001b[0m\u001b[0mspecial_characters\u001b[0m\u001b[0;34m,\u001b[0m\u001b[0;34m\u001b[0m\u001b[0;34m\u001b[0m\u001b[0m\n\u001b[1;32m    775\u001b[0m             precision=precision)\n\u001b[0;32m--> 776\u001b[0;31m         \u001b[0mexporter\u001b[0m\u001b[0;34m.\u001b[0m\u001b[0mexport\u001b[0m\u001b[0;34m(\u001b[0m\u001b[0mdecision_tree\u001b[0m\u001b[0;34m)\u001b[0m\u001b[0;34m\u001b[0m\u001b[0;34m\u001b[0m\u001b[0m\n\u001b[0m\u001b[1;32m    777\u001b[0m \u001b[0;34m\u001b[0m\u001b[0m\n\u001b[1;32m    778\u001b[0m         \u001b[0;32mif\u001b[0m \u001b[0mreturn_string\u001b[0m\u001b[0;34m:\u001b[0m\u001b[0;34m\u001b[0m\u001b[0;34m\u001b[0m\u001b[0m\n",
      "\u001b[0;32m~/anaconda3/lib/python3.7/site-packages/sklearn/tree/export.py\u001b[0m in \u001b[0;36mexport\u001b[0;34m(self, decision_tree)\u001b[0m\n\u001b[1;32m    399\u001b[0m                                  \u001b[0;34m\"does not match number of features, %d\"\u001b[0m\u001b[0;34m\u001b[0m\u001b[0;34m\u001b[0m\u001b[0m\n\u001b[1;32m    400\u001b[0m                                  % (len(self.feature_names),\n\u001b[0;32m--> 401\u001b[0;31m                                     decision_tree.n_features_))\n\u001b[0m\u001b[1;32m    402\u001b[0m         \u001b[0;31m# each part writes to out_file\u001b[0m\u001b[0;34m\u001b[0m\u001b[0;34m\u001b[0m\u001b[0;34m\u001b[0m\u001b[0m\n\u001b[1;32m    403\u001b[0m         \u001b[0mself\u001b[0m\u001b[0;34m.\u001b[0m\u001b[0mhead\u001b[0m\u001b[0;34m(\u001b[0m\u001b[0;34m)\u001b[0m\u001b[0;34m\u001b[0m\u001b[0;34m\u001b[0m\u001b[0m\n",
      "\u001b[0;31mValueError\u001b[0m: Length of feature_names, 10 does not match number of features, 4"
     ]
    }
   ],
   "source": [
    "#to visualize tree as image\n",
    "node_data=StringIO()\n",
    "export_graphviz(model,out_file=node_data,filled=True,rounded=True,feature_names=['Product_ID','Location','Source','Delivery_Mode','Sales_Agent','Day','Month','Weekday','Hour','Minute'],class_names=['0','1'])\n",
    "node_data.getvalue()\n",
    "graph=pydotplus.graph_from_dot_data(node_data.getvalue())\n",
    "Image(graph.create_png())"
   ]
  },
  {
   "cell_type": "code",
   "execution_count": 118,
   "metadata": {},
   "outputs": [],
   "source": [
    "#test"
   ]
  },
  {
   "cell_type": "code",
   "execution_count": 93,
   "metadata": {},
   "outputs": [],
   "source": [
    "x_train,x_test,y_train,y_test=train_test_split(x,y,test_size=0.2,random_state=32)"
   ]
  },
  {
   "cell_type": "code",
   "execution_count": 94,
   "metadata": {},
   "outputs": [
    {
     "data": {
      "text/plain": [
       "DecisionTreeClassifier(class_weight=None, criterion='gini', max_depth=4,\n",
       "                       max_features=None, max_leaf_nodes=None,\n",
       "                       min_impurity_decrease=0.0, min_impurity_split=None,\n",
       "                       min_samples_leaf=1, min_samples_split=2,\n",
       "                       min_weight_fraction_leaf=0.0, presort=False,\n",
       "                       random_state=None, splitter='best')"
      ]
     },
     "execution_count": 94,
     "metadata": {},
     "output_type": "execute_result"
    }
   ],
   "source": [
    "model.fit(x_train,y_train)"
   ]
  },
  {
   "cell_type": "code",
   "execution_count": 95,
   "metadata": {},
   "outputs": [],
   "source": [
    "y_pred=model.predict(x_test)"
   ]
  },
  {
   "cell_type": "code",
   "execution_count": 96,
   "metadata": {},
   "outputs": [],
   "source": [
    "cm=confusion_matrix(y_test,y_pred)"
   ]
  },
  {
   "cell_type": "code",
   "execution_count": 97,
   "metadata": {},
   "outputs": [
    {
     "name": "stdout",
     "output_type": "stream",
     "text": [
      "Accuracy= 0.6343792633015006\n",
      "Precision= 0.5824493731918997\n",
      "Recall= 0.8543140028288543\n",
      "Specificity= 0.4295125164690382\n",
      "F1-Score= 0.6926605504587154\n"
     ]
    }
   ],
   "source": [
    "performance(cm)"
   ]
  },
  {
   "cell_type": "markdown",
   "metadata": {},
   "source": [
    "# 4) Random Forest"
   ]
  },
  {
   "cell_type": "code",
   "execution_count": 98,
   "metadata": {},
   "outputs": [],
   "source": [
    "from sklearn.ensemble import RandomForestClassifier\n",
    "from sklearn.model_selection import train_test_split#,GridSearchCV\n",
    "from sklearn.metrics import confusion_matrix,accuracy_score,classification_report"
   ]
  },
  {
   "cell_type": "code",
   "execution_count": 99,
   "metadata": {},
   "outputs": [
    {
     "data": {
      "text/html": [
       "<div>\n",
       "<style scoped>\n",
       "    .dataframe tbody tr th:only-of-type {\n",
       "        vertical-align: middle;\n",
       "    }\n",
       "\n",
       "    .dataframe tbody tr th {\n",
       "        vertical-align: top;\n",
       "    }\n",
       "\n",
       "    .dataframe thead th {\n",
       "        text-align: right;\n",
       "    }\n",
       "</style>\n",
       "<table border=\"1\" class=\"dataframe\">\n",
       "  <thead>\n",
       "    <tr style=\"text-align: right;\">\n",
       "      <th></th>\n",
       "      <th>Product_ID</th>\n",
       "      <th>Location</th>\n",
       "      <th>Source</th>\n",
       "      <th>Delivery_Mode</th>\n",
       "      <th>Sales_Agent</th>\n",
       "      <th>Day</th>\n",
       "      <th>Month</th>\n",
       "      <th>Weekday</th>\n",
       "      <th>Hour</th>\n",
       "      <th>Minute</th>\n",
       "      <th>Status</th>\n",
       "    </tr>\n",
       "  </thead>\n",
       "  <tbody>\n",
       "    <tr>\n",
       "      <td>18</td>\n",
       "      <td>9</td>\n",
       "      <td>1</td>\n",
       "      <td>16</td>\n",
       "      <td>0</td>\n",
       "      <td>4</td>\n",
       "      <td>13</td>\n",
       "      <td>11</td>\n",
       "      <td>1</td>\n",
       "      <td>18</td>\n",
       "      <td>51</td>\n",
       "      <td>1</td>\n",
       "    </tr>\n",
       "    <tr>\n",
       "      <td>19</td>\n",
       "      <td>19</td>\n",
       "      <td>10</td>\n",
       "      <td>2</td>\n",
       "      <td>4</td>\n",
       "      <td>5</td>\n",
       "      <td>13</td>\n",
       "      <td>11</td>\n",
       "      <td>1</td>\n",
       "      <td>18</td>\n",
       "      <td>48</td>\n",
       "      <td>1</td>\n",
       "    </tr>\n",
       "    <tr>\n",
       "      <td>24</td>\n",
       "      <td>18</td>\n",
       "      <td>13</td>\n",
       "      <td>24</td>\n",
       "      <td>0</td>\n",
       "      <td>1</td>\n",
       "      <td>13</td>\n",
       "      <td>11</td>\n",
       "      <td>1</td>\n",
       "      <td>17</td>\n",
       "      <td>9</td>\n",
       "      <td>1</td>\n",
       "    </tr>\n",
       "  </tbody>\n",
       "</table>\n",
       "</div>"
      ],
      "text/plain": [
       "    Product_ID  Location  Source  Delivery_Mode  Sales_Agent  Day  Month  \\\n",
       "18           9         1      16              0            4   13     11   \n",
       "19          19        10       2              4            5   13     11   \n",
       "24          18        13      24              0            1   13     11   \n",
       "\n",
       "    Weekday  Hour  Minute  Status  \n",
       "18        1    18      51       1  \n",
       "19        1    18      48       1  \n",
       "24        1    17       9       1  "
      ]
     },
     "execution_count": 99,
     "metadata": {},
     "output_type": "execute_result"
    }
   ],
   "source": [
    "data.head(3)"
   ]
  },
  {
   "cell_type": "code",
   "execution_count": 100,
   "metadata": {},
   "outputs": [],
   "source": [
    "x=data.iloc[:,:-1]"
   ]
  },
  {
   "cell_type": "code",
   "execution_count": 101,
   "metadata": {},
   "outputs": [],
   "source": [
    "y=data.Status"
   ]
  },
  {
   "cell_type": "code",
   "execution_count": 102,
   "metadata": {},
   "outputs": [],
   "source": [
    "x_train,x_test,y_train,y_test=train_test_split(x,y,test_size=0.2,random_state=32)"
   ]
  },
  {
   "cell_type": "code",
   "execution_count": 103,
   "metadata": {},
   "outputs": [],
   "source": [
    "model=RandomForestClassifier(n_estimators=40,random_state=42)"
   ]
  },
  {
   "cell_type": "code",
   "execution_count": 104,
   "metadata": {},
   "outputs": [
    {
     "data": {
      "text/plain": [
       "RandomForestClassifier(bootstrap=True, class_weight=None, criterion='gini',\n",
       "                       max_depth=None, max_features='auto', max_leaf_nodes=None,\n",
       "                       min_impurity_decrease=0.0, min_impurity_split=None,\n",
       "                       min_samples_leaf=1, min_samples_split=2,\n",
       "                       min_weight_fraction_leaf=0.0, n_estimators=40,\n",
       "                       n_jobs=None, oob_score=False, random_state=42, verbose=0,\n",
       "                       warm_start=False)"
      ]
     },
     "execution_count": 104,
     "metadata": {},
     "output_type": "execute_result"
    }
   ],
   "source": [
    "model.fit(x_train,y_train)"
   ]
  },
  {
   "cell_type": "code",
   "execution_count": 105,
   "metadata": {},
   "outputs": [],
   "source": [
    "y_pred=model.predict(x_test)"
   ]
  },
  {
   "cell_type": "code",
   "execution_count": 106,
   "metadata": {},
   "outputs": [],
   "source": [
    "cm=confusion_matrix(y_test,y_pred)"
   ]
  },
  {
   "cell_type": "code",
   "execution_count": 107,
   "metadata": {},
   "outputs": [
    {
     "name": "stdout",
     "output_type": "stream",
     "text": [
      "Accuracy= 0.6616643929058663\n",
      "Precision= 0.6467315716272601\n",
      "Recall= 0.6577086280056577\n",
      "Specificity= 0.6653491436100132\n",
      "F1-Score= 0.6521739130434783\n"
     ]
    }
   ],
   "source": [
    "performance(cm)"
   ]
  },
  {
   "cell_type": "markdown",
   "metadata": {},
   "source": [
    "# 5) SVM"
   ]
  },
  {
   "cell_type": "code",
   "execution_count": 108,
   "metadata": {},
   "outputs": [],
   "source": [
    "from sklearn.svm import SVC\n",
    "from sklearn.model_selection import train_test_split\n",
    "from sklearn.metrics import confusion_matrix,accuracy_score,classification_report\n",
    "from sklearn.preprocessing import scale"
   ]
  },
  {
   "cell_type": "code",
   "execution_count": 109,
   "metadata": {},
   "outputs": [],
   "source": [
    "x=scale(x)"
   ]
  },
  {
   "cell_type": "code",
   "execution_count": 110,
   "metadata": {},
   "outputs": [],
   "source": [
    "x_train,x_test,y_train,y_test=train_test_split(x,y,test_size=0.3,random_state=32)"
   ]
  },
  {
   "cell_type": "code",
   "execution_count": 111,
   "metadata": {},
   "outputs": [],
   "source": [
    "model=SVC(kernel='rbf',C=10, gamma=0.8)"
   ]
  },
  {
   "cell_type": "code",
   "execution_count": 112,
   "metadata": {},
   "outputs": [
    {
     "data": {
      "text/plain": [
       "SVC(C=10, cache_size=200, class_weight=None, coef0=0.0,\n",
       "    decision_function_shape='ovr', degree=3, gamma=0.8, kernel='rbf',\n",
       "    max_iter=-1, probability=False, random_state=None, shrinking=True,\n",
       "    tol=0.001, verbose=False)"
      ]
     },
     "execution_count": 112,
     "metadata": {},
     "output_type": "execute_result"
    }
   ],
   "source": [
    "model.fit(x_train,y_train)"
   ]
  },
  {
   "cell_type": "code",
   "execution_count": 113,
   "metadata": {},
   "outputs": [
    {
     "name": "stdout",
     "output_type": "stream",
     "text": [
      "Accuracy= 0.616643929058663\n",
      "Precision= 0.5945945945945946\n",
      "Recall= 0.6433962264150943\n",
      "Specificity= 0.591747146619842\n",
      "F1-Score= 0.6180335296782963\n"
     ]
    }
   ],
   "source": [
    "y_pred=model.predict(x_test)\n",
    "cm=confusion_matrix(y_test,y_pred)\n",
    "performance(cm)"
   ]
  },
  {
   "cell_type": "markdown",
   "metadata": {},
   "source": [
    "# 6) Neural Network"
   ]
  },
  {
   "cell_type": "code",
   "execution_count": 162,
   "metadata": {},
   "outputs": [],
   "source": [
    "from sklearn.neural_network import MLPClassifier"
   ]
  },
  {
   "cell_type": "code",
   "execution_count": 171,
   "metadata": {},
   "outputs": [],
   "source": [
    "x_train,x_test,y_train,y_test=train_test_split(x,y,test_size=0.2,random_state=32)"
   ]
  },
  {
   "cell_type": "code",
   "execution_count": 175,
   "metadata": {},
   "outputs": [],
   "source": [
    "model=MLPClassifier(hidden_layer_sizes=(100,100,100),random_state=10,learning_rate_init=0.01,batch_size=50)"
   ]
  },
  {
   "cell_type": "code",
   "execution_count": 176,
   "metadata": {},
   "outputs": [
    {
     "data": {
      "text/plain": [
       "MLPClassifier(activation='relu', alpha=0.0001, batch_size=50, beta_1=0.9,\n",
       "              beta_2=0.999, early_stopping=False, epsilon=1e-08,\n",
       "              hidden_layer_sizes=(100, 100, 100), learning_rate='constant',\n",
       "              learning_rate_init=0.01, max_iter=200, momentum=0.9,\n",
       "              n_iter_no_change=10, nesterovs_momentum=True, power_t=0.5,\n",
       "              random_state=10, shuffle=True, solver='adam', tol=0.0001,\n",
       "              validation_fraction=0.1, verbose=False, warm_start=False)"
      ]
     },
     "execution_count": 176,
     "metadata": {},
     "output_type": "execute_result"
    }
   ],
   "source": [
    "model.fit(x_train,y_train)"
   ]
  },
  {
   "cell_type": "code",
   "execution_count": 177,
   "metadata": {},
   "outputs": [
    {
     "name": "stdout",
     "output_type": "stream",
     "text": [
      "Accuracy= 0.6043656207366985\n",
      "Precision= 0.5993740219092332\n",
      "Recall= 0.5417256011315418\n",
      "Specificity= 0.6627140974967062\n",
      "F1-Score= 0.5690936106983655\n"
     ]
    }
   ],
   "source": [
    "y_pred=model.predict(x_test)\n",
    "cm=confusion_matrix(y_test,y_pred)\n",
    "performance(cm)"
   ]
  },
  {
   "cell_type": "markdown",
   "metadata": {},
   "source": [
    "# 7) XGBoost"
   ]
  },
  {
   "cell_type": "code",
   "execution_count": 119,
   "metadata": {},
   "outputs": [],
   "source": [
    "from xgboost import XGBClassifier"
   ]
  },
  {
   "cell_type": "code",
   "execution_count": 120,
   "metadata": {},
   "outputs": [],
   "source": [
    "from sklearn.model_selection import train_test_split\n",
    "from sklearn.metrics import *"
   ]
  },
  {
   "cell_type": "code",
   "execution_count": 161,
   "metadata": {},
   "outputs": [],
   "source": [
    "model=XGBClassifier(learning_rate=0.1,random_state=32,n_estimators=200)"
   ]
  },
  {
   "cell_type": "code",
   "execution_count": 157,
   "metadata": {},
   "outputs": [
    {
     "data": {
      "text/plain": [
       "XGBClassifier(base_score=0.5, booster='gbtree', colsample_bylevel=1,\n",
       "              colsample_bynode=1, colsample_bytree=1, gamma=0,\n",
       "              learning_rate=0.1, max_delta_step=0, max_depth=3,\n",
       "              min_child_weight=1, missing=None, n_estimators=200, n_jobs=1,\n",
       "              nthread=None, objective='binary:logistic', random_state=50,\n",
       "              reg_alpha=0, reg_lambda=1, scale_pos_weight=1, seed=None,\n",
       "              silent=None, subsample=1, verbosity=1)"
      ]
     },
     "execution_count": 157,
     "metadata": {},
     "output_type": "execute_result"
    }
   ],
   "source": [
    "model.fit(x_train,y_train)"
   ]
  },
  {
   "cell_type": "code",
   "execution_count": 158,
   "metadata": {},
   "outputs": [],
   "source": [
    "y_pred=model.predict(x_test)"
   ]
  },
  {
   "cell_type": "code",
   "execution_count": 159,
   "metadata": {},
   "outputs": [],
   "source": [
    "cm=confusion_matrix(y_test,y_pred)"
   ]
  },
  {
   "cell_type": "code",
   "execution_count": 160,
   "metadata": {},
   "outputs": [
    {
     "name": "stdout",
     "output_type": "stream",
     "text": [
      "Accuracy= 0.6834924965893588\n",
      "Precision= 0.6658031088082902\n",
      "Recall= 0.7138888888888889\n",
      "Specificity= 0.6541554959785523\n",
      "F1-Score= 0.6890080428954424\n"
     ]
    }
   ],
   "source": [
    "performance(cm)"
   ]
  },
  {
   "cell_type": "code",
   "execution_count": null,
   "metadata": {},
   "outputs": [],
   "source": []
  }
 ],
 "metadata": {
  "kernelspec": {
   "display_name": "Python 3",
   "language": "python",
   "name": "python3"
  },
  "language_info": {
   "codemirror_mode": {
    "name": "ipython",
    "version": 3
   },
   "file_extension": ".py",
   "mimetype": "text/x-python",
   "name": "python",
   "nbconvert_exporter": "python",
   "pygments_lexer": "ipython3",
   "version": "3.7.4"
  }
 },
 "nbformat": 4,
 "nbformat_minor": 2
}
