{
 "cells": [
  {
   "cell_type": "code",
   "execution_count": 1,
   "metadata": {
    "executionInfo": {
     "elapsed": 1440,
     "status": "ok",
     "timestamp": 1615700545467,
     "user": {
      "displayName": "Rajesh A",
      "photoUrl": "https://lh3.googleusercontent.com/a-/AOh14Ghp8xxZxWnVTEQ4-dSM_R9CyHOjsw21b9UqgSl2=s64",
      "userId": "15854343511969692267"
     },
     "user_tz": -330
    },
    "id": "z8tI4oOEC04N"
   },
   "outputs": [],
   "source": [
    "from IPython.display import Image\n",
    "import pandas as pd\n",
    "import numpy as np\n",
    "import warnings\n",
    "warnings.filterwarnings('ignore')\n",
    "from sklearn.metrics import confusion_matrix\n",
    "from sklearn.feature_selection import SelectFromModel\n",
    "from sklearn.model_selection import train_test_split, cross_val_score\n",
    "from sklearn.ensemble import RandomForestClassifier\n",
    "import seaborn as sns\n",
    "import matplotlib.pyplot as plt\n",
    "import xgboost as xgb\n",
    "from sklearn.metrics import log_loss\n",
    "from sklearn.tree import DecisionTreeClassifier\n",
    "from sklearn.neighbors import KNeighborsClassifier\n",
    "from sklearn.svm import SVC\n",
    "from sklearn.naive_bayes import GaussianNB\n",
    "from sklearn.discriminant_analysis import QuadraticDiscriminantAnalysis\n",
    "from sklearn.metrics import accuracy_score\n",
    "from sklearn import preprocessing\n",
    "from sklearn.linear_model import LinearRegression,LogisticRegression\n",
    "#Loading all Libraries:-\n",
    "\n",
    "import os\n",
    "import numpy as np\n",
    "import pandas as pd\n",
    "import seaborn as sns\n",
    "import matplotlib.pyplot as plt\n",
    "import lightgbm as lgb\n",
    "\n",
    "\n",
    "from sklearn.ensemble import RandomForestClassifier\n",
    "#from pdpbox import pdp, get_dataset, info_plots\n",
    "from sklearn.model_selection import StratifiedKFold\n",
    "from sklearn.linear_model import LogisticRegression\n",
    "from sklearn.metrics import confusion_matrix,roc_auc_score,roc_curve,classification_report,roc_curve,auc\n",
    "\n",
    "\n",
    "random_state=42\n",
    "np.random.seed(random_state)\n",
    "import warnings\n",
    "from sklearn.model_selection import StratifiedShuffleSplit, StratifiedKFold\n",
    "from sklearn.preprocessing import StandardScaler, MinMaxScaler\n",
    "from sklearn.metrics import roc_auc_score\n",
    "from sklearn.model_selection import KFold\n",
    "import time\n",
    "from scipy import stats\n",
    "from scipy.stats import norm\n",
    "from copy import deepcopy\n",
    "warnings.filterwarnings('ignore')"
   ]
  },
  {
   "cell_type": "code",
   "execution_count": 2,
   "metadata": {
    "executionInfo": {
     "elapsed": 1526,
     "status": "ok",
     "timestamp": 1615700546073,
     "user": {
      "displayName": "Rajesh A",
      "photoUrl": "https://lh3.googleusercontent.com/a-/AOh14Ghp8xxZxWnVTEQ4-dSM_R9CyHOjsw21b9UqgSl2=s64",
      "userId": "15854343511969692267"
     },
     "user_tz": -330
    },
    "id": "bZxE9U5iC04R"
   },
   "outputs": [],
   "source": [
    "data = pd.read_csv('HealthCareAnalytics.csv',index_col=0) #importing data"
   ]
  },
  {
   "cell_type": "code",
   "execution_count": 3,
   "metadata": {
    "colab": {
     "base_uri": "https://localhost:8080/",
     "height": 619
    },
    "executionInfo": {
     "elapsed": 1296,
     "status": "ok",
     "timestamp": 1615700546975,
     "user": {
      "displayName": "Rajesh A",
      "photoUrl": "https://lh3.googleusercontent.com/a-/AOh14Ghp8xxZxWnVTEQ4-dSM_R9CyHOjsw21b9UqgSl2=s64",
      "userId": "15854343511969692267"
     },
     "user_tz": -330
    },
    "id": "SzEUQ0oaC04S",
    "outputId": "39d54745-189c-4278-9630-cf0a644217ed"
   },
   "outputs": [
    {
     "data": {
      "text/html": [
       "<div>\n",
       "<style scoped>\n",
       "    .dataframe tbody tr th:only-of-type {\n",
       "        vertical-align: middle;\n",
       "    }\n",
       "\n",
       "    .dataframe tbody tr th {\n",
       "        vertical-align: top;\n",
       "    }\n",
       "\n",
       "    .dataframe thead th {\n",
       "        text-align: right;\n",
       "    }\n",
       "</style>\n",
       "<table border=\"1\" class=\"dataframe\">\n",
       "  <thead>\n",
       "    <tr style=\"text-align: right;\">\n",
       "      <th></th>\n",
       "      <th>Hospital_code</th>\n",
       "      <th>Hospital_type_code</th>\n",
       "      <th>City_Code_Hospital</th>\n",
       "      <th>Hospital_region_code</th>\n",
       "      <th>Available_Extra_Rooms_in_Hospital</th>\n",
       "      <th>Department</th>\n",
       "      <th>Ward_Type</th>\n",
       "      <th>Ward_Facility_Code</th>\n",
       "      <th>Bed_Grade</th>\n",
       "      <th>patientid</th>\n",
       "      <th>City_Code_Patient</th>\n",
       "      <th>Type_of_Admission</th>\n",
       "      <th>Severity_of_Illness</th>\n",
       "      <th>Visitors_with_Patient</th>\n",
       "      <th>Age</th>\n",
       "      <th>Admission_Deposit</th>\n",
       "      <th>Stay</th>\n",
       "    </tr>\n",
       "    <tr>\n",
       "      <th>case_id</th>\n",
       "      <th></th>\n",
       "      <th></th>\n",
       "      <th></th>\n",
       "      <th></th>\n",
       "      <th></th>\n",
       "      <th></th>\n",
       "      <th></th>\n",
       "      <th></th>\n",
       "      <th></th>\n",
       "      <th></th>\n",
       "      <th></th>\n",
       "      <th></th>\n",
       "      <th></th>\n",
       "      <th></th>\n",
       "      <th></th>\n",
       "      <th></th>\n",
       "      <th></th>\n",
       "    </tr>\n",
       "  </thead>\n",
       "  <tbody>\n",
       "    <tr>\n",
       "      <th>1</th>\n",
       "      <td>8</td>\n",
       "      <td>c</td>\n",
       "      <td>3</td>\n",
       "      <td>Z</td>\n",
       "      <td>3</td>\n",
       "      <td>radiotherapy</td>\n",
       "      <td>R</td>\n",
       "      <td>F</td>\n",
       "      <td>2.0</td>\n",
       "      <td>31397</td>\n",
       "      <td>7.0</td>\n",
       "      <td>Emergency</td>\n",
       "      <td>Extreme</td>\n",
       "      <td>2</td>\n",
       "      <td>51-60</td>\n",
       "      <td>4911</td>\n",
       "      <td>0-10</td>\n",
       "    </tr>\n",
       "    <tr>\n",
       "      <th>2</th>\n",
       "      <td>2</td>\n",
       "      <td>c</td>\n",
       "      <td>5</td>\n",
       "      <td>Z</td>\n",
       "      <td>2</td>\n",
       "      <td>radiotherapy</td>\n",
       "      <td>S</td>\n",
       "      <td>F</td>\n",
       "      <td>2.0</td>\n",
       "      <td>31397</td>\n",
       "      <td>7.0</td>\n",
       "      <td>Trauma</td>\n",
       "      <td>Extreme</td>\n",
       "      <td>2</td>\n",
       "      <td>51-60</td>\n",
       "      <td>5954</td>\n",
       "      <td>41-50</td>\n",
       "    </tr>\n",
       "    <tr>\n",
       "      <th>3</th>\n",
       "      <td>10</td>\n",
       "      <td>e</td>\n",
       "      <td>1</td>\n",
       "      <td>X</td>\n",
       "      <td>2</td>\n",
       "      <td>anesthesia</td>\n",
       "      <td>S</td>\n",
       "      <td>E</td>\n",
       "      <td>2.0</td>\n",
       "      <td>31397</td>\n",
       "      <td>7.0</td>\n",
       "      <td>Trauma</td>\n",
       "      <td>Extreme</td>\n",
       "      <td>2</td>\n",
       "      <td>51-60</td>\n",
       "      <td>4745</td>\n",
       "      <td>31-40</td>\n",
       "    </tr>\n",
       "    <tr>\n",
       "      <th>4</th>\n",
       "      <td>26</td>\n",
       "      <td>b</td>\n",
       "      <td>2</td>\n",
       "      <td>Y</td>\n",
       "      <td>2</td>\n",
       "      <td>radiotherapy</td>\n",
       "      <td>R</td>\n",
       "      <td>D</td>\n",
       "      <td>2.0</td>\n",
       "      <td>31397</td>\n",
       "      <td>7.0</td>\n",
       "      <td>Trauma</td>\n",
       "      <td>Extreme</td>\n",
       "      <td>2</td>\n",
       "      <td>51-60</td>\n",
       "      <td>7272</td>\n",
       "      <td>41-50</td>\n",
       "    </tr>\n",
       "    <tr>\n",
       "      <th>5</th>\n",
       "      <td>26</td>\n",
       "      <td>b</td>\n",
       "      <td>2</td>\n",
       "      <td>Y</td>\n",
       "      <td>2</td>\n",
       "      <td>radiotherapy</td>\n",
       "      <td>S</td>\n",
       "      <td>D</td>\n",
       "      <td>2.0</td>\n",
       "      <td>31397</td>\n",
       "      <td>7.0</td>\n",
       "      <td>Trauma</td>\n",
       "      <td>Extreme</td>\n",
       "      <td>2</td>\n",
       "      <td>51-60</td>\n",
       "      <td>5558</td>\n",
       "      <td>41-50</td>\n",
       "    </tr>\n",
       "    <tr>\n",
       "      <th>...</th>\n",
       "      <td>...</td>\n",
       "      <td>...</td>\n",
       "      <td>...</td>\n",
       "      <td>...</td>\n",
       "      <td>...</td>\n",
       "      <td>...</td>\n",
       "      <td>...</td>\n",
       "      <td>...</td>\n",
       "      <td>...</td>\n",
       "      <td>...</td>\n",
       "      <td>...</td>\n",
       "      <td>...</td>\n",
       "      <td>...</td>\n",
       "      <td>...</td>\n",
       "      <td>...</td>\n",
       "      <td>...</td>\n",
       "      <td>...</td>\n",
       "    </tr>\n",
       "    <tr>\n",
       "      <th>318434</th>\n",
       "      <td>6</td>\n",
       "      <td>a</td>\n",
       "      <td>6</td>\n",
       "      <td>X</td>\n",
       "      <td>3</td>\n",
       "      <td>radiotherapy</td>\n",
       "      <td>Q</td>\n",
       "      <td>F</td>\n",
       "      <td>4.0</td>\n",
       "      <td>86499</td>\n",
       "      <td>23.0</td>\n",
       "      <td>Emergency</td>\n",
       "      <td>Moderate</td>\n",
       "      <td>3</td>\n",
       "      <td>41-50</td>\n",
       "      <td>4144</td>\n",
       "      <td>Nov-20</td>\n",
       "    </tr>\n",
       "    <tr>\n",
       "      <th>318435</th>\n",
       "      <td>24</td>\n",
       "      <td>a</td>\n",
       "      <td>1</td>\n",
       "      <td>X</td>\n",
       "      <td>2</td>\n",
       "      <td>anesthesia</td>\n",
       "      <td>Q</td>\n",
       "      <td>E</td>\n",
       "      <td>4.0</td>\n",
       "      <td>325</td>\n",
       "      <td>8.0</td>\n",
       "      <td>Urgent</td>\n",
       "      <td>Moderate</td>\n",
       "      <td>4</td>\n",
       "      <td>81-90</td>\n",
       "      <td>6699</td>\n",
       "      <td>31-40</td>\n",
       "    </tr>\n",
       "    <tr>\n",
       "      <th>318436</th>\n",
       "      <td>7</td>\n",
       "      <td>a</td>\n",
       "      <td>4</td>\n",
       "      <td>X</td>\n",
       "      <td>3</td>\n",
       "      <td>gynecology</td>\n",
       "      <td>R</td>\n",
       "      <td>F</td>\n",
       "      <td>4.0</td>\n",
       "      <td>125235</td>\n",
       "      <td>10.0</td>\n",
       "      <td>Emergency</td>\n",
       "      <td>Minor</td>\n",
       "      <td>3</td>\n",
       "      <td>71-80</td>\n",
       "      <td>4235</td>\n",
       "      <td>Nov-20</td>\n",
       "    </tr>\n",
       "    <tr>\n",
       "      <th>318437</th>\n",
       "      <td>11</td>\n",
       "      <td>b</td>\n",
       "      <td>2</td>\n",
       "      <td>Y</td>\n",
       "      <td>3</td>\n",
       "      <td>anesthesia</td>\n",
       "      <td>Q</td>\n",
       "      <td>D</td>\n",
       "      <td>3.0</td>\n",
       "      <td>91081</td>\n",
       "      <td>8.0</td>\n",
       "      <td>Trauma</td>\n",
       "      <td>Minor</td>\n",
       "      <td>5</td>\n",
       "      <td>Nov-20</td>\n",
       "      <td>3761</td>\n",
       "      <td>Nov-20</td>\n",
       "    </tr>\n",
       "    <tr>\n",
       "      <th>318438</th>\n",
       "      <td>19</td>\n",
       "      <td>a</td>\n",
       "      <td>7</td>\n",
       "      <td>Y</td>\n",
       "      <td>5</td>\n",
       "      <td>gynecology</td>\n",
       "      <td>Q</td>\n",
       "      <td>C</td>\n",
       "      <td>2.0</td>\n",
       "      <td>21641</td>\n",
       "      <td>8.0</td>\n",
       "      <td>Emergency</td>\n",
       "      <td>Minor</td>\n",
       "      <td>2</td>\n",
       "      <td>Nov-20</td>\n",
       "      <td>4752</td>\n",
       "      <td>0-10</td>\n",
       "    </tr>\n",
       "  </tbody>\n",
       "</table>\n",
       "<p>318438 rows × 17 columns</p>\n",
       "</div>"
      ],
      "text/plain": [
       "         Hospital_code Hospital_type_code  City_Code_Hospital  \\\n",
       "case_id                                                         \n",
       "1                    8                  c                   3   \n",
       "2                    2                  c                   5   \n",
       "3                   10                  e                   1   \n",
       "4                   26                  b                   2   \n",
       "5                   26                  b                   2   \n",
       "...                ...                ...                 ...   \n",
       "318434               6                  a                   6   \n",
       "318435              24                  a                   1   \n",
       "318436               7                  a                   4   \n",
       "318437              11                  b                   2   \n",
       "318438              19                  a                   7   \n",
       "\n",
       "        Hospital_region_code  Available_Extra_Rooms_in_Hospital    Department  \\\n",
       "case_id                                                                         \n",
       "1                          Z                                  3  radiotherapy   \n",
       "2                          Z                                  2  radiotherapy   \n",
       "3                          X                                  2    anesthesia   \n",
       "4                          Y                                  2  radiotherapy   \n",
       "5                          Y                                  2  radiotherapy   \n",
       "...                      ...                                ...           ...   \n",
       "318434                     X                                  3  radiotherapy   \n",
       "318435                     X                                  2    anesthesia   \n",
       "318436                     X                                  3    gynecology   \n",
       "318437                     Y                                  3    anesthesia   \n",
       "318438                     Y                                  5    gynecology   \n",
       "\n",
       "        Ward_Type Ward_Facility_Code  Bed_Grade  patientid  City_Code_Patient  \\\n",
       "case_id                                                                         \n",
       "1               R                  F        2.0      31397                7.0   \n",
       "2               S                  F        2.0      31397                7.0   \n",
       "3               S                  E        2.0      31397                7.0   \n",
       "4               R                  D        2.0      31397                7.0   \n",
       "5               S                  D        2.0      31397                7.0   \n",
       "...           ...                ...        ...        ...                ...   \n",
       "318434          Q                  F        4.0      86499               23.0   \n",
       "318435          Q                  E        4.0        325                8.0   \n",
       "318436          R                  F        4.0     125235               10.0   \n",
       "318437          Q                  D        3.0      91081                8.0   \n",
       "318438          Q                  C        2.0      21641                8.0   \n",
       "\n",
       "        Type_of_Admission Severity_of_Illness  Visitors_with_Patient     Age  \\\n",
       "case_id                                                                        \n",
       "1               Emergency             Extreme                      2   51-60   \n",
       "2                  Trauma             Extreme                      2   51-60   \n",
       "3                  Trauma             Extreme                      2   51-60   \n",
       "4                  Trauma             Extreme                      2   51-60   \n",
       "5                  Trauma             Extreme                      2   51-60   \n",
       "...                   ...                 ...                    ...     ...   \n",
       "318434          Emergency            Moderate                      3   41-50   \n",
       "318435             Urgent            Moderate                      4   81-90   \n",
       "318436          Emergency               Minor                      3   71-80   \n",
       "318437             Trauma               Minor                      5  Nov-20   \n",
       "318438          Emergency               Minor                      2  Nov-20   \n",
       "\n",
       "         Admission_Deposit    Stay  \n",
       "case_id                             \n",
       "1                     4911    0-10  \n",
       "2                     5954   41-50  \n",
       "3                     4745   31-40  \n",
       "4                     7272   41-50  \n",
       "5                     5558   41-50  \n",
       "...                    ...     ...  \n",
       "318434                4144  Nov-20  \n",
       "318435                6699   31-40  \n",
       "318436                4235  Nov-20  \n",
       "318437                3761  Nov-20  \n",
       "318438                4752    0-10  \n",
       "\n",
       "[318438 rows x 17 columns]"
      ]
     },
     "execution_count": 3,
     "metadata": {},
     "output_type": "execute_result"
    }
   ],
   "source": [
    "data"
   ]
  },
  {
   "cell_type": "code",
   "execution_count": 4,
   "metadata": {
    "colab": {
     "base_uri": "https://localhost:8080/"
    },
    "executionInfo": {
     "elapsed": 1230,
     "status": "ok",
     "timestamp": 1615698500824,
     "user": {
      "displayName": "Rajesh A",
      "photoUrl": "https://lh3.googleusercontent.com/a-/AOh14Ghp8xxZxWnVTEQ4-dSM_R9CyHOjsw21b9UqgSl2=s64",
      "userId": "15854343511969692267"
     },
     "user_tz": -330
    },
    "id": "El2t2SZMC04T",
    "outputId": "8b84ace6-916e-4e6c-a396-c00189a3881c"
   },
   "outputs": [
    {
     "data": {
      "text/plain": [
       "Hospital_code                           0\n",
       "Hospital_type_code                      0\n",
       "City_Code_Hospital                      0\n",
       "Hospital_region_code                    0\n",
       "Available_Extra_Rooms_in_Hospital       0\n",
       "Department                              0\n",
       "Ward_Type                               0\n",
       "Ward_Facility_Code                      0\n",
       "Bed_Grade                             113\n",
       "patientid                               0\n",
       "City_Code_Patient                    4532\n",
       "Type_of_Admission                       0\n",
       "Severity_of_Illness                     0\n",
       "Visitors_with_Patient                   0\n",
       "Age                                     0\n",
       "Admission_Deposit                       0\n",
       "Stay                                    0\n",
       "dtype: int64"
      ]
     },
     "execution_count": 4,
     "metadata": {},
     "output_type": "execute_result"
    }
   ],
   "source": [
    "data.isna().sum() #Detect missing values"
   ]
  },
  {
   "cell_type": "code",
   "execution_count": 5,
   "metadata": {
    "colab": {
     "base_uri": "https://localhost:8080/"
    },
    "executionInfo": {
     "elapsed": 892,
     "status": "ok",
     "timestamp": 1615698537271,
     "user": {
      "displayName": "Rajesh A",
      "photoUrl": "https://lh3.googleusercontent.com/a-/AOh14Ghp8xxZxWnVTEQ4-dSM_R9CyHOjsw21b9UqgSl2=s64",
      "userId": "15854343511969692267"
     },
     "user_tz": -330
    },
    "id": "mlKWxor4FgMt",
    "outputId": "273d280f-0085-4cb5-801e-233b53c076fb"
   },
   "outputs": [
    {
     "data": {
      "text/plain": [
       "Hospital_code                           0\n",
       "Hospital_type_code                      0\n",
       "City_Code_Hospital                      0\n",
       "Hospital_region_code                    0\n",
       "Available_Extra_Rooms_in_Hospital       0\n",
       "Department                              0\n",
       "Ward_Type                               0\n",
       "Ward_Facility_Code                      0\n",
       "Bed_Grade                             113\n",
       "patientid                               0\n",
       "City_Code_Patient                    4532\n",
       "Type_of_Admission                       0\n",
       "Severity_of_Illness                     0\n",
       "Visitors_with_Patient                   0\n",
       "Age                                     0\n",
       "Admission_Deposit                       0\n",
       "Stay                                    0\n",
       "dtype: int64"
      ]
     },
     "execution_count": 5,
     "metadata": {},
     "output_type": "execute_result"
    }
   ],
   "source": [
    "data.isnull().sum()"
   ]
  },
  {
   "cell_type": "code",
   "execution_count": 6,
   "metadata": {
    "colab": {
     "base_uri": "https://localhost:8080/"
    },
    "executionInfo": {
     "elapsed": 900,
     "status": "ok",
     "timestamp": 1615698538596,
     "user": {
      "displayName": "Rajesh A",
      "photoUrl": "https://lh3.googleusercontent.com/a-/AOh14Ghp8xxZxWnVTEQ4-dSM_R9CyHOjsw21b9UqgSl2=s64",
      "userId": "15854343511969692267"
     },
     "user_tz": -330
    },
    "id": "O93cqVweFCDs",
    "outputId": "9ba324be-1677-4c74-dd2e-b2f644cf0fdb"
   },
   "outputs": [
    {
     "data": {
      "text/plain": [
       "21-30                 87491\n",
       "Nov-20                78139\n",
       "31-40                 55159\n",
       "51-60                 35018\n",
       "0-10                  23604\n",
       "41-50                 11743\n",
       "71-80                 10254\n",
       "More than 100 Days     6683\n",
       "81-90                  4838\n",
       "91-100                 2765\n",
       "61-70                  2744\n",
       "Name: Stay, dtype: int64"
      ]
     },
     "execution_count": 6,
     "metadata": {},
     "output_type": "execute_result"
    }
   ],
   "source": [
    "data.Stay.value_counts()"
   ]
  },
  {
   "cell_type": "code",
   "execution_count": 7,
   "metadata": {
    "colab": {
     "base_uri": "https://localhost:8080/"
    },
    "executionInfo": {
     "elapsed": 982,
     "status": "ok",
     "timestamp": 1615698540104,
     "user": {
      "displayName": "Rajesh A",
      "photoUrl": "https://lh3.googleusercontent.com/a-/AOh14Ghp8xxZxWnVTEQ4-dSM_R9CyHOjsw21b9UqgSl2=s64",
      "userId": "15854343511969692267"
     },
     "user_tz": -330
    },
    "id": "Z4u3I8O1C04T",
    "outputId": "d9690343-2ef4-4759-e86f-a9a4f26c060f"
   },
   "outputs": [
    {
     "data": {
      "text/plain": [
       "array(['0-10', '41-50', '31-40', 'Nov-20', '51-60', '21-30', '71-80',\n",
       "       'More than 100 Days', '81-90', '61-70', '91-100'], dtype=object)"
      ]
     },
     "execution_count": 7,
     "metadata": {},
     "output_type": "execute_result"
    }
   ],
   "source": [
    "data.Stay.unique()\n"
   ]
  },
  {
   "cell_type": "code",
   "execution_count": 8,
   "metadata": {
    "executionInfo": {
     "elapsed": 646,
     "status": "ok",
     "timestamp": 1615698540700,
     "user": {
      "displayName": "Rajesh A",
      "photoUrl": "https://lh3.googleusercontent.com/a-/AOh14Ghp8xxZxWnVTEQ4-dSM_R9CyHOjsw21b9UqgSl2=s64",
      "userId": "15854343511969692267"
     },
     "user_tz": -330
    },
    "id": "pMHfM_hHC04T"
   },
   "outputs": [],
   "source": [
    "data.replace(to_replace =\"Nov-20\", \n",
    "                 value =\"11-20\", inplace=True) "
   ]
  },
  {
   "cell_type": "code",
   "execution_count": 9,
   "metadata": {
    "colab": {
     "base_uri": "https://localhost:8080/",
     "height": 619
    },
    "executionInfo": {
     "elapsed": 780,
     "status": "ok",
     "timestamp": 1615698541639,
     "user": {
      "displayName": "Rajesh A",
      "photoUrl": "https://lh3.googleusercontent.com/a-/AOh14Ghp8xxZxWnVTEQ4-dSM_R9CyHOjsw21b9UqgSl2=s64",
      "userId": "15854343511969692267"
     },
     "user_tz": -330
    },
    "id": "yBnCC0jRC04U",
    "outputId": "a8a2f7cd-3312-4800-df32-79fe9090eed6"
   },
   "outputs": [
    {
     "data": {
      "text/html": [
       "<div>\n",
       "<style scoped>\n",
       "    .dataframe tbody tr th:only-of-type {\n",
       "        vertical-align: middle;\n",
       "    }\n",
       "\n",
       "    .dataframe tbody tr th {\n",
       "        vertical-align: top;\n",
       "    }\n",
       "\n",
       "    .dataframe thead th {\n",
       "        text-align: right;\n",
       "    }\n",
       "</style>\n",
       "<table border=\"1\" class=\"dataframe\">\n",
       "  <thead>\n",
       "    <tr style=\"text-align: right;\">\n",
       "      <th></th>\n",
       "      <th>Hospital_code</th>\n",
       "      <th>Hospital_type_code</th>\n",
       "      <th>City_Code_Hospital</th>\n",
       "      <th>Hospital_region_code</th>\n",
       "      <th>Available_Extra_Rooms_in_Hospital</th>\n",
       "      <th>Department</th>\n",
       "      <th>Ward_Type</th>\n",
       "      <th>Ward_Facility_Code</th>\n",
       "      <th>Bed_Grade</th>\n",
       "      <th>patientid</th>\n",
       "      <th>City_Code_Patient</th>\n",
       "      <th>Type_of_Admission</th>\n",
       "      <th>Severity_of_Illness</th>\n",
       "      <th>Visitors_with_Patient</th>\n",
       "      <th>Age</th>\n",
       "      <th>Admission_Deposit</th>\n",
       "      <th>Stay</th>\n",
       "    </tr>\n",
       "    <tr>\n",
       "      <th>case_id</th>\n",
       "      <th></th>\n",
       "      <th></th>\n",
       "      <th></th>\n",
       "      <th></th>\n",
       "      <th></th>\n",
       "      <th></th>\n",
       "      <th></th>\n",
       "      <th></th>\n",
       "      <th></th>\n",
       "      <th></th>\n",
       "      <th></th>\n",
       "      <th></th>\n",
       "      <th></th>\n",
       "      <th></th>\n",
       "      <th></th>\n",
       "      <th></th>\n",
       "      <th></th>\n",
       "    </tr>\n",
       "  </thead>\n",
       "  <tbody>\n",
       "    <tr>\n",
       "      <th>1</th>\n",
       "      <td>8</td>\n",
       "      <td>c</td>\n",
       "      <td>3</td>\n",
       "      <td>Z</td>\n",
       "      <td>3</td>\n",
       "      <td>radiotherapy</td>\n",
       "      <td>R</td>\n",
       "      <td>F</td>\n",
       "      <td>2.0</td>\n",
       "      <td>31397</td>\n",
       "      <td>7.0</td>\n",
       "      <td>Emergency</td>\n",
       "      <td>Extreme</td>\n",
       "      <td>2</td>\n",
       "      <td>51-60</td>\n",
       "      <td>4911</td>\n",
       "      <td>0-10</td>\n",
       "    </tr>\n",
       "    <tr>\n",
       "      <th>2</th>\n",
       "      <td>2</td>\n",
       "      <td>c</td>\n",
       "      <td>5</td>\n",
       "      <td>Z</td>\n",
       "      <td>2</td>\n",
       "      <td>radiotherapy</td>\n",
       "      <td>S</td>\n",
       "      <td>F</td>\n",
       "      <td>2.0</td>\n",
       "      <td>31397</td>\n",
       "      <td>7.0</td>\n",
       "      <td>Trauma</td>\n",
       "      <td>Extreme</td>\n",
       "      <td>2</td>\n",
       "      <td>51-60</td>\n",
       "      <td>5954</td>\n",
       "      <td>41-50</td>\n",
       "    </tr>\n",
       "    <tr>\n",
       "      <th>3</th>\n",
       "      <td>10</td>\n",
       "      <td>e</td>\n",
       "      <td>1</td>\n",
       "      <td>X</td>\n",
       "      <td>2</td>\n",
       "      <td>anesthesia</td>\n",
       "      <td>S</td>\n",
       "      <td>E</td>\n",
       "      <td>2.0</td>\n",
       "      <td>31397</td>\n",
       "      <td>7.0</td>\n",
       "      <td>Trauma</td>\n",
       "      <td>Extreme</td>\n",
       "      <td>2</td>\n",
       "      <td>51-60</td>\n",
       "      <td>4745</td>\n",
       "      <td>31-40</td>\n",
       "    </tr>\n",
       "    <tr>\n",
       "      <th>4</th>\n",
       "      <td>26</td>\n",
       "      <td>b</td>\n",
       "      <td>2</td>\n",
       "      <td>Y</td>\n",
       "      <td>2</td>\n",
       "      <td>radiotherapy</td>\n",
       "      <td>R</td>\n",
       "      <td>D</td>\n",
       "      <td>2.0</td>\n",
       "      <td>31397</td>\n",
       "      <td>7.0</td>\n",
       "      <td>Trauma</td>\n",
       "      <td>Extreme</td>\n",
       "      <td>2</td>\n",
       "      <td>51-60</td>\n",
       "      <td>7272</td>\n",
       "      <td>41-50</td>\n",
       "    </tr>\n",
       "    <tr>\n",
       "      <th>5</th>\n",
       "      <td>26</td>\n",
       "      <td>b</td>\n",
       "      <td>2</td>\n",
       "      <td>Y</td>\n",
       "      <td>2</td>\n",
       "      <td>radiotherapy</td>\n",
       "      <td>S</td>\n",
       "      <td>D</td>\n",
       "      <td>2.0</td>\n",
       "      <td>31397</td>\n",
       "      <td>7.0</td>\n",
       "      <td>Trauma</td>\n",
       "      <td>Extreme</td>\n",
       "      <td>2</td>\n",
       "      <td>51-60</td>\n",
       "      <td>5558</td>\n",
       "      <td>41-50</td>\n",
       "    </tr>\n",
       "    <tr>\n",
       "      <th>...</th>\n",
       "      <td>...</td>\n",
       "      <td>...</td>\n",
       "      <td>...</td>\n",
       "      <td>...</td>\n",
       "      <td>...</td>\n",
       "      <td>...</td>\n",
       "      <td>...</td>\n",
       "      <td>...</td>\n",
       "      <td>...</td>\n",
       "      <td>...</td>\n",
       "      <td>...</td>\n",
       "      <td>...</td>\n",
       "      <td>...</td>\n",
       "      <td>...</td>\n",
       "      <td>...</td>\n",
       "      <td>...</td>\n",
       "      <td>...</td>\n",
       "    </tr>\n",
       "    <tr>\n",
       "      <th>318434</th>\n",
       "      <td>6</td>\n",
       "      <td>a</td>\n",
       "      <td>6</td>\n",
       "      <td>X</td>\n",
       "      <td>3</td>\n",
       "      <td>radiotherapy</td>\n",
       "      <td>Q</td>\n",
       "      <td>F</td>\n",
       "      <td>4.0</td>\n",
       "      <td>86499</td>\n",
       "      <td>23.0</td>\n",
       "      <td>Emergency</td>\n",
       "      <td>Moderate</td>\n",
       "      <td>3</td>\n",
       "      <td>41-50</td>\n",
       "      <td>4144</td>\n",
       "      <td>11-20</td>\n",
       "    </tr>\n",
       "    <tr>\n",
       "      <th>318435</th>\n",
       "      <td>24</td>\n",
       "      <td>a</td>\n",
       "      <td>1</td>\n",
       "      <td>X</td>\n",
       "      <td>2</td>\n",
       "      <td>anesthesia</td>\n",
       "      <td>Q</td>\n",
       "      <td>E</td>\n",
       "      <td>4.0</td>\n",
       "      <td>325</td>\n",
       "      <td>8.0</td>\n",
       "      <td>Urgent</td>\n",
       "      <td>Moderate</td>\n",
       "      <td>4</td>\n",
       "      <td>81-90</td>\n",
       "      <td>6699</td>\n",
       "      <td>31-40</td>\n",
       "    </tr>\n",
       "    <tr>\n",
       "      <th>318436</th>\n",
       "      <td>7</td>\n",
       "      <td>a</td>\n",
       "      <td>4</td>\n",
       "      <td>X</td>\n",
       "      <td>3</td>\n",
       "      <td>gynecology</td>\n",
       "      <td>R</td>\n",
       "      <td>F</td>\n",
       "      <td>4.0</td>\n",
       "      <td>125235</td>\n",
       "      <td>10.0</td>\n",
       "      <td>Emergency</td>\n",
       "      <td>Minor</td>\n",
       "      <td>3</td>\n",
       "      <td>71-80</td>\n",
       "      <td>4235</td>\n",
       "      <td>11-20</td>\n",
       "    </tr>\n",
       "    <tr>\n",
       "      <th>318437</th>\n",
       "      <td>11</td>\n",
       "      <td>b</td>\n",
       "      <td>2</td>\n",
       "      <td>Y</td>\n",
       "      <td>3</td>\n",
       "      <td>anesthesia</td>\n",
       "      <td>Q</td>\n",
       "      <td>D</td>\n",
       "      <td>3.0</td>\n",
       "      <td>91081</td>\n",
       "      <td>8.0</td>\n",
       "      <td>Trauma</td>\n",
       "      <td>Minor</td>\n",
       "      <td>5</td>\n",
       "      <td>11-20</td>\n",
       "      <td>3761</td>\n",
       "      <td>11-20</td>\n",
       "    </tr>\n",
       "    <tr>\n",
       "      <th>318438</th>\n",
       "      <td>19</td>\n",
       "      <td>a</td>\n",
       "      <td>7</td>\n",
       "      <td>Y</td>\n",
       "      <td>5</td>\n",
       "      <td>gynecology</td>\n",
       "      <td>Q</td>\n",
       "      <td>C</td>\n",
       "      <td>2.0</td>\n",
       "      <td>21641</td>\n",
       "      <td>8.0</td>\n",
       "      <td>Emergency</td>\n",
       "      <td>Minor</td>\n",
       "      <td>2</td>\n",
       "      <td>11-20</td>\n",
       "      <td>4752</td>\n",
       "      <td>0-10</td>\n",
       "    </tr>\n",
       "  </tbody>\n",
       "</table>\n",
       "<p>318438 rows × 17 columns</p>\n",
       "</div>"
      ],
      "text/plain": [
       "         Hospital_code Hospital_type_code  City_Code_Hospital  \\\n",
       "case_id                                                         \n",
       "1                    8                  c                   3   \n",
       "2                    2                  c                   5   \n",
       "3                   10                  e                   1   \n",
       "4                   26                  b                   2   \n",
       "5                   26                  b                   2   \n",
       "...                ...                ...                 ...   \n",
       "318434               6                  a                   6   \n",
       "318435              24                  a                   1   \n",
       "318436               7                  a                   4   \n",
       "318437              11                  b                   2   \n",
       "318438              19                  a                   7   \n",
       "\n",
       "        Hospital_region_code  Available_Extra_Rooms_in_Hospital    Department  \\\n",
       "case_id                                                                         \n",
       "1                          Z                                  3  radiotherapy   \n",
       "2                          Z                                  2  radiotherapy   \n",
       "3                          X                                  2    anesthesia   \n",
       "4                          Y                                  2  radiotherapy   \n",
       "5                          Y                                  2  radiotherapy   \n",
       "...                      ...                                ...           ...   \n",
       "318434                     X                                  3  radiotherapy   \n",
       "318435                     X                                  2    anesthesia   \n",
       "318436                     X                                  3    gynecology   \n",
       "318437                     Y                                  3    anesthesia   \n",
       "318438                     Y                                  5    gynecology   \n",
       "\n",
       "        Ward_Type Ward_Facility_Code  Bed_Grade  patientid  City_Code_Patient  \\\n",
       "case_id                                                                         \n",
       "1               R                  F        2.0      31397                7.0   \n",
       "2               S                  F        2.0      31397                7.0   \n",
       "3               S                  E        2.0      31397                7.0   \n",
       "4               R                  D        2.0      31397                7.0   \n",
       "5               S                  D        2.0      31397                7.0   \n",
       "...           ...                ...        ...        ...                ...   \n",
       "318434          Q                  F        4.0      86499               23.0   \n",
       "318435          Q                  E        4.0        325                8.0   \n",
       "318436          R                  F        4.0     125235               10.0   \n",
       "318437          Q                  D        3.0      91081                8.0   \n",
       "318438          Q                  C        2.0      21641                8.0   \n",
       "\n",
       "        Type_of_Admission Severity_of_Illness  Visitors_with_Patient    Age  \\\n",
       "case_id                                                                       \n",
       "1               Emergency             Extreme                      2  51-60   \n",
       "2                  Trauma             Extreme                      2  51-60   \n",
       "3                  Trauma             Extreme                      2  51-60   \n",
       "4                  Trauma             Extreme                      2  51-60   \n",
       "5                  Trauma             Extreme                      2  51-60   \n",
       "...                   ...                 ...                    ...    ...   \n",
       "318434          Emergency            Moderate                      3  41-50   \n",
       "318435             Urgent            Moderate                      4  81-90   \n",
       "318436          Emergency               Minor                      3  71-80   \n",
       "318437             Trauma               Minor                      5  11-20   \n",
       "318438          Emergency               Minor                      2  11-20   \n",
       "\n",
       "         Admission_Deposit   Stay  \n",
       "case_id                            \n",
       "1                     4911   0-10  \n",
       "2                     5954  41-50  \n",
       "3                     4745  31-40  \n",
       "4                     7272  41-50  \n",
       "5                     5558  41-50  \n",
       "...                    ...    ...  \n",
       "318434                4144  11-20  \n",
       "318435                6699  31-40  \n",
       "318436                4235  11-20  \n",
       "318437                3761  11-20  \n",
       "318438                4752   0-10  \n",
       "\n",
       "[318438 rows x 17 columns]"
      ]
     },
     "execution_count": 9,
     "metadata": {},
     "output_type": "execute_result"
    }
   ],
   "source": [
    "data"
   ]
  },
  {
   "cell_type": "code",
   "execution_count": 10,
   "metadata": {
    "colab": {
     "base_uri": "https://localhost:8080/"
    },
    "executionInfo": {
     "elapsed": 1149,
     "status": "ok",
     "timestamp": 1615698543416,
     "user": {
      "displayName": "Rajesh A",
      "photoUrl": "https://lh3.googleusercontent.com/a-/AOh14Ghp8xxZxWnVTEQ4-dSM_R9CyHOjsw21b9UqgSl2=s64",
      "userId": "15854343511969692267"
     },
     "user_tz": -330
    },
    "id": "cjGzZWAhC04U",
    "outputId": "ca80d445-f1d1-4c9c-a70b-705366cfb782"
   },
   "outputs": [
    {
     "data": {
      "text/plain": [
       "array(['0-10', '41-50', '31-40', '11-20', '51-60', '21-30', '71-80',\n",
       "       'More than 100 Days', '81-90', '61-70', '91-100'], dtype=object)"
      ]
     },
     "execution_count": 10,
     "metadata": {},
     "output_type": "execute_result"
    }
   ],
   "source": [
    "data.Stay.unique()"
   ]
  },
  {
   "cell_type": "code",
   "execution_count": 11,
   "metadata": {
    "colab": {
     "base_uri": "https://localhost:8080/"
    },
    "executionInfo": {
     "elapsed": 771,
     "status": "ok",
     "timestamp": 1615698544795,
     "user": {
      "displayName": "Rajesh A",
      "photoUrl": "https://lh3.googleusercontent.com/a-/AOh14Ghp8xxZxWnVTEQ4-dSM_R9CyHOjsw21b9UqgSl2=s64",
      "userId": "15854343511969692267"
     },
     "user_tz": -330
    },
    "id": "KiiL34Q4C04V",
    "outputId": "7fd284c6-6706-42d4-be11-abb687f677c2"
   },
   "outputs": [
    {
     "data": {
      "text/plain": [
       "21-30                 87491\n",
       "11-20                 78139\n",
       "31-40                 55159\n",
       "51-60                 35018\n",
       "0-10                  23604\n",
       "41-50                 11743\n",
       "71-80                 10254\n",
       "More than 100 Days     6683\n",
       "81-90                  4838\n",
       "91-100                 2765\n",
       "61-70                  2744\n",
       "Name: Stay, dtype: int64"
      ]
     },
     "execution_count": 11,
     "metadata": {},
     "output_type": "execute_result"
    }
   ],
   "source": [
    "data['Stay'].value_counts()\n"
   ]
  },
  {
   "cell_type": "markdown",
   "metadata": {
    "id": "ftFPOiOkHBYP"
   },
   "source": [
    "## Features"
   ]
  },
  {
   "cell_type": "code",
   "execution_count": 12,
   "metadata": {
    "colab": {
     "base_uri": "https://localhost:8080/",
     "height": 431
    },
    "executionInfo": {
     "elapsed": 1155,
     "status": "ok",
     "timestamp": 1615698547542,
     "user": {
      "displayName": "Rajesh A",
      "photoUrl": "https://lh3.googleusercontent.com/a-/AOh14Ghp8xxZxWnVTEQ4-dSM_R9CyHOjsw21b9UqgSl2=s64",
      "userId": "15854343511969692267"
     },
     "user_tz": -330
    },
    "id": "1bGCYc3ZG9yz",
    "outputId": "72abc17b-72ef-4115-f30a-48e8890dc488"
   },
   "outputs": [
    {
     "data": {
      "text/html": [
       "<div>\n",
       "<style scoped>\n",
       "    .dataframe tbody tr th:only-of-type {\n",
       "        vertical-align: middle;\n",
       "    }\n",
       "\n",
       "    .dataframe tbody tr th {\n",
       "        vertical-align: top;\n",
       "    }\n",
       "\n",
       "    .dataframe thead th {\n",
       "        text-align: right;\n",
       "    }\n",
       "</style>\n",
       "<table border=\"1\" class=\"dataframe\">\n",
       "  <thead>\n",
       "    <tr style=\"text-align: right;\">\n",
       "      <th></th>\n",
       "      <th>Hospital_code</th>\n",
       "      <th>City_Code_Hospital</th>\n",
       "      <th>Available_Extra_Rooms_in_Hospital</th>\n",
       "      <th>Bed_Grade</th>\n",
       "      <th>patientid</th>\n",
       "      <th>City_Code_Patient</th>\n",
       "      <th>Visitors_with_Patient</th>\n",
       "      <th>Admission_Deposit</th>\n",
       "    </tr>\n",
       "    <tr>\n",
       "      <th>case_id</th>\n",
       "      <th></th>\n",
       "      <th></th>\n",
       "      <th></th>\n",
       "      <th></th>\n",
       "      <th></th>\n",
       "      <th></th>\n",
       "      <th></th>\n",
       "      <th></th>\n",
       "    </tr>\n",
       "  </thead>\n",
       "  <tbody>\n",
       "    <tr>\n",
       "      <th>1</th>\n",
       "      <td>8</td>\n",
       "      <td>3</td>\n",
       "      <td>3</td>\n",
       "      <td>2.0</td>\n",
       "      <td>31397</td>\n",
       "      <td>7.0</td>\n",
       "      <td>2</td>\n",
       "      <td>4911</td>\n",
       "    </tr>\n",
       "    <tr>\n",
       "      <th>2</th>\n",
       "      <td>2</td>\n",
       "      <td>5</td>\n",
       "      <td>2</td>\n",
       "      <td>2.0</td>\n",
       "      <td>31397</td>\n",
       "      <td>7.0</td>\n",
       "      <td>2</td>\n",
       "      <td>5954</td>\n",
       "    </tr>\n",
       "    <tr>\n",
       "      <th>3</th>\n",
       "      <td>10</td>\n",
       "      <td>1</td>\n",
       "      <td>2</td>\n",
       "      <td>2.0</td>\n",
       "      <td>31397</td>\n",
       "      <td>7.0</td>\n",
       "      <td>2</td>\n",
       "      <td>4745</td>\n",
       "    </tr>\n",
       "    <tr>\n",
       "      <th>4</th>\n",
       "      <td>26</td>\n",
       "      <td>2</td>\n",
       "      <td>2</td>\n",
       "      <td>2.0</td>\n",
       "      <td>31397</td>\n",
       "      <td>7.0</td>\n",
       "      <td>2</td>\n",
       "      <td>7272</td>\n",
       "    </tr>\n",
       "    <tr>\n",
       "      <th>5</th>\n",
       "      <td>26</td>\n",
       "      <td>2</td>\n",
       "      <td>2</td>\n",
       "      <td>2.0</td>\n",
       "      <td>31397</td>\n",
       "      <td>7.0</td>\n",
       "      <td>2</td>\n",
       "      <td>5558</td>\n",
       "    </tr>\n",
       "    <tr>\n",
       "      <th>...</th>\n",
       "      <td>...</td>\n",
       "      <td>...</td>\n",
       "      <td>...</td>\n",
       "      <td>...</td>\n",
       "      <td>...</td>\n",
       "      <td>...</td>\n",
       "      <td>...</td>\n",
       "      <td>...</td>\n",
       "    </tr>\n",
       "    <tr>\n",
       "      <th>318434</th>\n",
       "      <td>6</td>\n",
       "      <td>6</td>\n",
       "      <td>3</td>\n",
       "      <td>4.0</td>\n",
       "      <td>86499</td>\n",
       "      <td>23.0</td>\n",
       "      <td>3</td>\n",
       "      <td>4144</td>\n",
       "    </tr>\n",
       "    <tr>\n",
       "      <th>318435</th>\n",
       "      <td>24</td>\n",
       "      <td>1</td>\n",
       "      <td>2</td>\n",
       "      <td>4.0</td>\n",
       "      <td>325</td>\n",
       "      <td>8.0</td>\n",
       "      <td>4</td>\n",
       "      <td>6699</td>\n",
       "    </tr>\n",
       "    <tr>\n",
       "      <th>318436</th>\n",
       "      <td>7</td>\n",
       "      <td>4</td>\n",
       "      <td>3</td>\n",
       "      <td>4.0</td>\n",
       "      <td>125235</td>\n",
       "      <td>10.0</td>\n",
       "      <td>3</td>\n",
       "      <td>4235</td>\n",
       "    </tr>\n",
       "    <tr>\n",
       "      <th>318437</th>\n",
       "      <td>11</td>\n",
       "      <td>2</td>\n",
       "      <td>3</td>\n",
       "      <td>3.0</td>\n",
       "      <td>91081</td>\n",
       "      <td>8.0</td>\n",
       "      <td>5</td>\n",
       "      <td>3761</td>\n",
       "    </tr>\n",
       "    <tr>\n",
       "      <th>318438</th>\n",
       "      <td>19</td>\n",
       "      <td>7</td>\n",
       "      <td>5</td>\n",
       "      <td>2.0</td>\n",
       "      <td>21641</td>\n",
       "      <td>8.0</td>\n",
       "      <td>2</td>\n",
       "      <td>4752</td>\n",
       "    </tr>\n",
       "  </tbody>\n",
       "</table>\n",
       "<p>318438 rows × 8 columns</p>\n",
       "</div>"
      ],
      "text/plain": [
       "         Hospital_code  City_Code_Hospital  Available_Extra_Rooms_in_Hospital  \\\n",
       "case_id                                                                         \n",
       "1                    8                   3                                  3   \n",
       "2                    2                   5                                  2   \n",
       "3                   10                   1                                  2   \n",
       "4                   26                   2                                  2   \n",
       "5                   26                   2                                  2   \n",
       "...                ...                 ...                                ...   \n",
       "318434               6                   6                                  3   \n",
       "318435              24                   1                                  2   \n",
       "318436               7                   4                                  3   \n",
       "318437              11                   2                                  3   \n",
       "318438              19                   7                                  5   \n",
       "\n",
       "         Bed_Grade  patientid  City_Code_Patient  Visitors_with_Patient  \\\n",
       "case_id                                                                   \n",
       "1              2.0      31397                7.0                      2   \n",
       "2              2.0      31397                7.0                      2   \n",
       "3              2.0      31397                7.0                      2   \n",
       "4              2.0      31397                7.0                      2   \n",
       "5              2.0      31397                7.0                      2   \n",
       "...            ...        ...                ...                    ...   \n",
       "318434         4.0      86499               23.0                      3   \n",
       "318435         4.0        325                8.0                      4   \n",
       "318436         4.0     125235               10.0                      3   \n",
       "318437         3.0      91081                8.0                      5   \n",
       "318438         2.0      21641                8.0                      2   \n",
       "\n",
       "         Admission_Deposit  \n",
       "case_id                     \n",
       "1                     4911  \n",
       "2                     5954  \n",
       "3                     4745  \n",
       "4                     7272  \n",
       "5                     5558  \n",
       "...                    ...  \n",
       "318434                4144  \n",
       "318435                6699  \n",
       "318436                4235  \n",
       "318437                3761  \n",
       "318438                4752  \n",
       "\n",
       "[318438 rows x 8 columns]"
      ]
     },
     "execution_count": 12,
     "metadata": {},
     "output_type": "execute_result"
    }
   ],
   "source": [
    "data_num = data.select_dtypes(exclude='object')\n",
    "data_num"
   ]
  },
  {
   "cell_type": "code",
   "execution_count": 13,
   "metadata": {
    "colab": {
     "base_uri": "https://localhost:8080/"
    },
    "executionInfo": {
     "elapsed": 662,
     "status": "ok",
     "timestamp": 1615698547925,
     "user": {
      "displayName": "Rajesh A",
      "photoUrl": "https://lh3.googleusercontent.com/a-/AOh14Ghp8xxZxWnVTEQ4-dSM_R9CyHOjsw21b9UqgSl2=s64",
      "userId": "15854343511969692267"
     },
     "user_tz": -330
    },
    "id": "DOG6m-UhSwOK",
    "outputId": "35be02b5-b789-49f1-e01e-f10a25d40b80"
   },
   "outputs": [
    {
     "data": {
      "text/plain": [
       "66714     50\n",
       "91292     43\n",
       "38525     39\n",
       "101359    36\n",
       "33491     34\n",
       "          ..\n",
       "63360      1\n",
       "85687      1\n",
       "89781      1\n",
       "97969      1\n",
       "58524      1\n",
       "Name: patientid, Length: 92017, dtype: int64"
      ]
     },
     "execution_count": 13,
     "metadata": {},
     "output_type": "execute_result"
    }
   ],
   "source": [
    "data_num.patientid.value_counts()"
   ]
  },
  {
   "cell_type": "code",
   "execution_count": 14,
   "metadata": {
    "executionInfo": {
     "elapsed": 1208,
     "status": "ok",
     "timestamp": 1615698549565,
     "user": {
      "displayName": "Rajesh A",
      "photoUrl": "https://lh3.googleusercontent.com/a-/AOh14Ghp8xxZxWnVTEQ4-dSM_R9CyHOjsw21b9UqgSl2=s64",
      "userId": "15854343511969692267"
     },
     "user_tz": -330
    },
    "id": "d3HqOl0ETNKI"
   },
   "outputs": [],
   "source": [
    "# patient id must be unique, so we drop this column\n",
    "data_num.drop(['patientid'],axis=1, inplace=True)"
   ]
  },
  {
   "cell_type": "code",
   "execution_count": 15,
   "metadata": {
    "colab": {
     "base_uri": "https://localhost:8080/"
    },
    "executionInfo": {
     "elapsed": 705,
     "status": "ok",
     "timestamp": 1615698549933,
     "user": {
      "displayName": "Rajesh A",
      "photoUrl": "https://lh3.googleusercontent.com/a-/AOh14Ghp8xxZxWnVTEQ4-dSM_R9CyHOjsw21b9UqgSl2=s64",
      "userId": "15854343511969692267"
     },
     "user_tz": -330
    },
    "id": "neS2SSC9G9vg",
    "outputId": "85fdf25f-1612-4d7b-9bbd-b5b72f53e7fb"
   },
   "outputs": [
    {
     "data": {
      "text/plain": [
       "Hospital_code                           0\n",
       "City_Code_Hospital                      0\n",
       "Available_Extra_Rooms_in_Hospital       0\n",
       "Bed_Grade                             113\n",
       "City_Code_Patient                    4532\n",
       "Visitors_with_Patient                   0\n",
       "Admission_Deposit                       0\n",
       "dtype: int64"
      ]
     },
     "execution_count": 15,
     "metadata": {},
     "output_type": "execute_result"
    }
   ],
   "source": [
    "data_num.isna().sum()"
   ]
  },
  {
   "cell_type": "code",
   "execution_count": 16,
   "metadata": {
    "colab": {
     "base_uri": "https://localhost:8080/"
    },
    "executionInfo": {
     "elapsed": 749,
     "status": "ok",
     "timestamp": 1615698551099,
     "user": {
      "displayName": "Rajesh A",
      "photoUrl": "https://lh3.googleusercontent.com/a-/AOh14Ghp8xxZxWnVTEQ4-dSM_R9CyHOjsw21b9UqgSl2=s64",
      "userId": "15854343511969692267"
     },
     "user_tz": -330
    },
    "id": "ASRU4VpiHp9a",
    "outputId": "e315d489-a01f-4ea8-bb5d-c552c34a9b8b"
   },
   "outputs": [
    {
     "data": {
      "text/plain": [
       "2.0    123671\n",
       "3.0    110583\n",
       "4.0     57566\n",
       "1.0     26505\n",
       "Name: Bed_Grade, dtype: int64"
      ]
     },
     "execution_count": 16,
     "metadata": {},
     "output_type": "execute_result"
    }
   ],
   "source": [
    "data_num.Bed_Grade.value_counts()"
   ]
  },
  {
   "cell_type": "code",
   "execution_count": 17,
   "metadata": {
    "colab": {
     "base_uri": "https://localhost:8080/"
    },
    "executionInfo": {
     "elapsed": 885,
     "status": "ok",
     "timestamp": 1615698552480,
     "user": {
      "displayName": "Rajesh A",
      "photoUrl": "https://lh3.googleusercontent.com/a-/AOh14Ghp8xxZxWnVTEQ4-dSM_R9CyHOjsw21b9UqgSl2=s64",
      "userId": "15854343511969692267"
     },
     "user_tz": -330
    },
    "id": "pmxAkVizJeiZ",
    "outputId": "6ba6f523-0dd5-4711-cbaf-8fe7c2f5dcd9"
   },
   "outputs": [
    {
     "data": {
      "text/plain": [
       "3.0"
      ]
     },
     "execution_count": 17,
     "metadata": {},
     "output_type": "execute_result"
    }
   ],
   "source": [
    "data_num.Bed_Grade.median()"
   ]
  },
  {
   "cell_type": "code",
   "execution_count": 18,
   "metadata": {
    "executionInfo": {
     "elapsed": 1881,
     "status": "ok",
     "timestamp": 1615698554627,
     "user": {
      "displayName": "Rajesh A",
      "photoUrl": "https://lh3.googleusercontent.com/a-/AOh14Ghp8xxZxWnVTEQ4-dSM_R9CyHOjsw21b9UqgSl2=s64",
      "userId": "15854343511969692267"
     },
     "user_tz": -330
    },
    "id": "dkWQCv-uG9sV"
   },
   "outputs": [],
   "source": [
    "# preprocessing\n",
    "from sklearn.impute import SimpleImputer\n",
    "imputer = SimpleImputer(missing_values=np.nan,strategy='median')\n",
    "data_num.iloc[:,:] = imputer.fit_transform(data_num)"
   ]
  },
  {
   "cell_type": "code",
   "execution_count": 19,
   "metadata": {
    "colab": {
     "base_uri": "https://localhost:8080/"
    },
    "executionInfo": {
     "elapsed": 830,
     "status": "ok",
     "timestamp": 1615698554629,
     "user": {
      "displayName": "Rajesh A",
      "photoUrl": "https://lh3.googleusercontent.com/a-/AOh14Ghp8xxZxWnVTEQ4-dSM_R9CyHOjsw21b9UqgSl2=s64",
      "userId": "15854343511969692267"
     },
     "user_tz": -330
    },
    "id": "NnbBsVT2G9o-",
    "outputId": "f560908a-6a0e-4597-d03f-cd7da3c4f2e0"
   },
   "outputs": [
    {
     "data": {
      "text/plain": [
       "Hospital_code                        0\n",
       "City_Code_Hospital                   0\n",
       "Available_Extra_Rooms_in_Hospital    0\n",
       "Bed_Grade                            0\n",
       "City_Code_Patient                    0\n",
       "Visitors_with_Patient                0\n",
       "Admission_Deposit                    0\n",
       "dtype: int64"
      ]
     },
     "execution_count": 19,
     "metadata": {},
     "output_type": "execute_result"
    }
   ],
   "source": [
    "data_num.isna().sum()"
   ]
  },
  {
   "cell_type": "code",
   "execution_count": 20,
   "metadata": {
    "colab": {
     "base_uri": "https://localhost:8080/",
     "height": 431
    },
    "executionInfo": {
     "elapsed": 744,
     "status": "ok",
     "timestamp": 1615698555850,
     "user": {
      "displayName": "Rajesh A",
      "photoUrl": "https://lh3.googleusercontent.com/a-/AOh14Ghp8xxZxWnVTEQ4-dSM_R9CyHOjsw21b9UqgSl2=s64",
      "userId": "15854343511969692267"
     },
     "user_tz": -330
    },
    "id": "npWCWY6sG9lm",
    "outputId": "982fa5e9-1e38-4aa5-fe24-801f0e96d038"
   },
   "outputs": [
    {
     "data": {
      "text/html": [
       "<div>\n",
       "<style scoped>\n",
       "    .dataframe tbody tr th:only-of-type {\n",
       "        vertical-align: middle;\n",
       "    }\n",
       "\n",
       "    .dataframe tbody tr th {\n",
       "        vertical-align: top;\n",
       "    }\n",
       "\n",
       "    .dataframe thead th {\n",
       "        text-align: right;\n",
       "    }\n",
       "</style>\n",
       "<table border=\"1\" class=\"dataframe\">\n",
       "  <thead>\n",
       "    <tr style=\"text-align: right;\">\n",
       "      <th></th>\n",
       "      <th>Hospital_type_code</th>\n",
       "      <th>Hospital_region_code</th>\n",
       "      <th>Department</th>\n",
       "      <th>Ward_Type</th>\n",
       "      <th>Ward_Facility_Code</th>\n",
       "      <th>Type_of_Admission</th>\n",
       "      <th>Severity_of_Illness</th>\n",
       "      <th>Age</th>\n",
       "      <th>Stay</th>\n",
       "    </tr>\n",
       "    <tr>\n",
       "      <th>case_id</th>\n",
       "      <th></th>\n",
       "      <th></th>\n",
       "      <th></th>\n",
       "      <th></th>\n",
       "      <th></th>\n",
       "      <th></th>\n",
       "      <th></th>\n",
       "      <th></th>\n",
       "      <th></th>\n",
       "    </tr>\n",
       "  </thead>\n",
       "  <tbody>\n",
       "    <tr>\n",
       "      <th>1</th>\n",
       "      <td>c</td>\n",
       "      <td>Z</td>\n",
       "      <td>radiotherapy</td>\n",
       "      <td>R</td>\n",
       "      <td>F</td>\n",
       "      <td>Emergency</td>\n",
       "      <td>Extreme</td>\n",
       "      <td>51-60</td>\n",
       "      <td>0-10</td>\n",
       "    </tr>\n",
       "    <tr>\n",
       "      <th>2</th>\n",
       "      <td>c</td>\n",
       "      <td>Z</td>\n",
       "      <td>radiotherapy</td>\n",
       "      <td>S</td>\n",
       "      <td>F</td>\n",
       "      <td>Trauma</td>\n",
       "      <td>Extreme</td>\n",
       "      <td>51-60</td>\n",
       "      <td>41-50</td>\n",
       "    </tr>\n",
       "    <tr>\n",
       "      <th>3</th>\n",
       "      <td>e</td>\n",
       "      <td>X</td>\n",
       "      <td>anesthesia</td>\n",
       "      <td>S</td>\n",
       "      <td>E</td>\n",
       "      <td>Trauma</td>\n",
       "      <td>Extreme</td>\n",
       "      <td>51-60</td>\n",
       "      <td>31-40</td>\n",
       "    </tr>\n",
       "    <tr>\n",
       "      <th>4</th>\n",
       "      <td>b</td>\n",
       "      <td>Y</td>\n",
       "      <td>radiotherapy</td>\n",
       "      <td>R</td>\n",
       "      <td>D</td>\n",
       "      <td>Trauma</td>\n",
       "      <td>Extreme</td>\n",
       "      <td>51-60</td>\n",
       "      <td>41-50</td>\n",
       "    </tr>\n",
       "    <tr>\n",
       "      <th>5</th>\n",
       "      <td>b</td>\n",
       "      <td>Y</td>\n",
       "      <td>radiotherapy</td>\n",
       "      <td>S</td>\n",
       "      <td>D</td>\n",
       "      <td>Trauma</td>\n",
       "      <td>Extreme</td>\n",
       "      <td>51-60</td>\n",
       "      <td>41-50</td>\n",
       "    </tr>\n",
       "    <tr>\n",
       "      <th>...</th>\n",
       "      <td>...</td>\n",
       "      <td>...</td>\n",
       "      <td>...</td>\n",
       "      <td>...</td>\n",
       "      <td>...</td>\n",
       "      <td>...</td>\n",
       "      <td>...</td>\n",
       "      <td>...</td>\n",
       "      <td>...</td>\n",
       "    </tr>\n",
       "    <tr>\n",
       "      <th>318434</th>\n",
       "      <td>a</td>\n",
       "      <td>X</td>\n",
       "      <td>radiotherapy</td>\n",
       "      <td>Q</td>\n",
       "      <td>F</td>\n",
       "      <td>Emergency</td>\n",
       "      <td>Moderate</td>\n",
       "      <td>41-50</td>\n",
       "      <td>11-20</td>\n",
       "    </tr>\n",
       "    <tr>\n",
       "      <th>318435</th>\n",
       "      <td>a</td>\n",
       "      <td>X</td>\n",
       "      <td>anesthesia</td>\n",
       "      <td>Q</td>\n",
       "      <td>E</td>\n",
       "      <td>Urgent</td>\n",
       "      <td>Moderate</td>\n",
       "      <td>81-90</td>\n",
       "      <td>31-40</td>\n",
       "    </tr>\n",
       "    <tr>\n",
       "      <th>318436</th>\n",
       "      <td>a</td>\n",
       "      <td>X</td>\n",
       "      <td>gynecology</td>\n",
       "      <td>R</td>\n",
       "      <td>F</td>\n",
       "      <td>Emergency</td>\n",
       "      <td>Minor</td>\n",
       "      <td>71-80</td>\n",
       "      <td>11-20</td>\n",
       "    </tr>\n",
       "    <tr>\n",
       "      <th>318437</th>\n",
       "      <td>b</td>\n",
       "      <td>Y</td>\n",
       "      <td>anesthesia</td>\n",
       "      <td>Q</td>\n",
       "      <td>D</td>\n",
       "      <td>Trauma</td>\n",
       "      <td>Minor</td>\n",
       "      <td>11-20</td>\n",
       "      <td>11-20</td>\n",
       "    </tr>\n",
       "    <tr>\n",
       "      <th>318438</th>\n",
       "      <td>a</td>\n",
       "      <td>Y</td>\n",
       "      <td>gynecology</td>\n",
       "      <td>Q</td>\n",
       "      <td>C</td>\n",
       "      <td>Emergency</td>\n",
       "      <td>Minor</td>\n",
       "      <td>11-20</td>\n",
       "      <td>0-10</td>\n",
       "    </tr>\n",
       "  </tbody>\n",
       "</table>\n",
       "<p>318438 rows × 9 columns</p>\n",
       "</div>"
      ],
      "text/plain": [
       "        Hospital_type_code Hospital_region_code    Department Ward_Type  \\\n",
       "case_id                                                                   \n",
       "1                        c                    Z  radiotherapy         R   \n",
       "2                        c                    Z  radiotherapy         S   \n",
       "3                        e                    X    anesthesia         S   \n",
       "4                        b                    Y  radiotherapy         R   \n",
       "5                        b                    Y  radiotherapy         S   \n",
       "...                    ...                  ...           ...       ...   \n",
       "318434                   a                    X  radiotherapy         Q   \n",
       "318435                   a                    X    anesthesia         Q   \n",
       "318436                   a                    X    gynecology         R   \n",
       "318437                   b                    Y    anesthesia         Q   \n",
       "318438                   a                    Y    gynecology         Q   \n",
       "\n",
       "        Ward_Facility_Code Type_of_Admission Severity_of_Illness    Age   Stay  \n",
       "case_id                                                                         \n",
       "1                        F         Emergency             Extreme  51-60   0-10  \n",
       "2                        F            Trauma             Extreme  51-60  41-50  \n",
       "3                        E            Trauma             Extreme  51-60  31-40  \n",
       "4                        D            Trauma             Extreme  51-60  41-50  \n",
       "5                        D            Trauma             Extreme  51-60  41-50  \n",
       "...                    ...               ...                 ...    ...    ...  \n",
       "318434                   F         Emergency            Moderate  41-50  11-20  \n",
       "318435                   E            Urgent            Moderate  81-90  31-40  \n",
       "318436                   F         Emergency               Minor  71-80  11-20  \n",
       "318437                   D            Trauma               Minor  11-20  11-20  \n",
       "318438                   C         Emergency               Minor  11-20   0-10  \n",
       "\n",
       "[318438 rows x 9 columns]"
      ]
     },
     "execution_count": 20,
     "metadata": {},
     "output_type": "execute_result"
    }
   ],
   "source": [
    "data_obj = data.select_dtypes(include='object')\n",
    "data_obj"
   ]
  },
  {
   "cell_type": "code",
   "execution_count": 21,
   "metadata": {
    "colab": {
     "base_uri": "https://localhost:8080/"
    },
    "executionInfo": {
     "elapsed": 717,
     "status": "ok",
     "timestamp": 1615698557271,
     "user": {
      "displayName": "Rajesh A",
      "photoUrl": "https://lh3.googleusercontent.com/a-/AOh14Ghp8xxZxWnVTEQ4-dSM_R9CyHOjsw21b9UqgSl2=s64",
      "userId": "15854343511969692267"
     },
     "user_tz": -330
    },
    "id": "qP-8j59PG9ix",
    "outputId": "b1cf7d1c-1fb1-4c2b-e005-34d9e7e80bad"
   },
   "outputs": [
    {
     "data": {
      "text/plain": [
       "Hospital_type_code      0\n",
       "Hospital_region_code    0\n",
       "Department              0\n",
       "Ward_Type               0\n",
       "Ward_Facility_Code      0\n",
       "Type_of_Admission       0\n",
       "Severity_of_Illness     0\n",
       "Age                     0\n",
       "Stay                    0\n",
       "dtype: int64"
      ]
     },
     "execution_count": 21,
     "metadata": {},
     "output_type": "execute_result"
    }
   ],
   "source": [
    "data_obj.isna().sum()"
   ]
  },
  {
   "cell_type": "code",
   "execution_count": 22,
   "metadata": {
    "executionInfo": {
     "elapsed": 1322,
     "status": "ok",
     "timestamp": 1615698559337,
     "user": {
      "displayName": "Rajesh A",
      "photoUrl": "https://lh3.googleusercontent.com/a-/AOh14Ghp8xxZxWnVTEQ4-dSM_R9CyHOjsw21b9UqgSl2=s64",
      "userId": "15854343511969692267"
     },
     "user_tz": -330
    },
    "id": "H6yZohdIDgND"
   },
   "outputs": [],
   "source": [
    "#droping nan value \n",
    "## Stay column consist only one nan value \n",
    "data_obj.dropna(inplace=True)"
   ]
  },
  {
   "cell_type": "code",
   "execution_count": 23,
   "metadata": {
    "colab": {
     "base_uri": "https://localhost:8080/"
    },
    "executionInfo": {
     "elapsed": 1282,
     "status": "ok",
     "timestamp": 1615698560446,
     "user": {
      "displayName": "Rajesh A",
      "photoUrl": "https://lh3.googleusercontent.com/a-/AOh14Ghp8xxZxWnVTEQ4-dSM_R9CyHOjsw21b9UqgSl2=s64",
      "userId": "15854343511969692267"
     },
     "user_tz": -330
    },
    "id": "IHc75VN9D7dc",
    "outputId": "380d1fac-00e6-4e4b-a2cc-860490baad2e"
   },
   "outputs": [
    {
     "data": {
      "text/plain": [
       "Hospital_type_code      0\n",
       "Hospital_region_code    0\n",
       "Department              0\n",
       "Ward_Type               0\n",
       "Ward_Facility_Code      0\n",
       "Type_of_Admission       0\n",
       "Severity_of_Illness     0\n",
       "Age                     0\n",
       "Stay                    0\n",
       "dtype: int64"
      ]
     },
     "execution_count": 23,
     "metadata": {},
     "output_type": "execute_result"
    }
   ],
   "source": [
    "data_obj.isna().sum()"
   ]
  },
  {
   "cell_type": "code",
   "execution_count": 24,
   "metadata": {
    "colab": {
     "base_uri": "https://localhost:8080/",
     "height": 431
    },
    "executionInfo": {
     "elapsed": 1289,
     "status": "ok",
     "timestamp": 1615698562817,
     "user": {
      "displayName": "Rajesh A",
      "photoUrl": "https://lh3.googleusercontent.com/a-/AOh14Ghp8xxZxWnVTEQ4-dSM_R9CyHOjsw21b9UqgSl2=s64",
      "userId": "15854343511969692267"
     },
     "user_tz": -330
    },
    "id": "cfXhUV-TG9fW",
    "outputId": "4a7c13a5-e55a-4dea-cbd7-5295b7f90cfc"
   },
   "outputs": [
    {
     "data": {
      "text/html": [
       "<div>\n",
       "<style scoped>\n",
       "    .dataframe tbody tr th:only-of-type {\n",
       "        vertical-align: middle;\n",
       "    }\n",
       "\n",
       "    .dataframe tbody tr th {\n",
       "        vertical-align: top;\n",
       "    }\n",
       "\n",
       "    .dataframe thead th {\n",
       "        text-align: right;\n",
       "    }\n",
       "</style>\n",
       "<table border=\"1\" class=\"dataframe\">\n",
       "  <thead>\n",
       "    <tr style=\"text-align: right;\">\n",
       "      <th></th>\n",
       "      <th>Hospital_type_code</th>\n",
       "      <th>Hospital_region_code</th>\n",
       "      <th>Department</th>\n",
       "      <th>Ward_Type</th>\n",
       "      <th>Ward_Facility_Code</th>\n",
       "      <th>Type_of_Admission</th>\n",
       "      <th>Severity_of_Illness</th>\n",
       "      <th>Age</th>\n",
       "      <th>Stay</th>\n",
       "    </tr>\n",
       "    <tr>\n",
       "      <th>case_id</th>\n",
       "      <th></th>\n",
       "      <th></th>\n",
       "      <th></th>\n",
       "      <th></th>\n",
       "      <th></th>\n",
       "      <th></th>\n",
       "      <th></th>\n",
       "      <th></th>\n",
       "      <th></th>\n",
       "    </tr>\n",
       "  </thead>\n",
       "  <tbody>\n",
       "    <tr>\n",
       "      <th>1</th>\n",
       "      <td>2</td>\n",
       "      <td>2</td>\n",
       "      <td>3</td>\n",
       "      <td>2</td>\n",
       "      <td>5</td>\n",
       "      <td>0</td>\n",
       "      <td>0</td>\n",
       "      <td>5</td>\n",
       "      <td>0</td>\n",
       "    </tr>\n",
       "    <tr>\n",
       "      <th>2</th>\n",
       "      <td>2</td>\n",
       "      <td>2</td>\n",
       "      <td>3</td>\n",
       "      <td>3</td>\n",
       "      <td>5</td>\n",
       "      <td>1</td>\n",
       "      <td>0</td>\n",
       "      <td>5</td>\n",
       "      <td>4</td>\n",
       "    </tr>\n",
       "    <tr>\n",
       "      <th>3</th>\n",
       "      <td>4</td>\n",
       "      <td>0</td>\n",
       "      <td>1</td>\n",
       "      <td>3</td>\n",
       "      <td>4</td>\n",
       "      <td>1</td>\n",
       "      <td>0</td>\n",
       "      <td>5</td>\n",
       "      <td>3</td>\n",
       "    </tr>\n",
       "    <tr>\n",
       "      <th>4</th>\n",
       "      <td>1</td>\n",
       "      <td>1</td>\n",
       "      <td>3</td>\n",
       "      <td>2</td>\n",
       "      <td>3</td>\n",
       "      <td>1</td>\n",
       "      <td>0</td>\n",
       "      <td>5</td>\n",
       "      <td>4</td>\n",
       "    </tr>\n",
       "    <tr>\n",
       "      <th>5</th>\n",
       "      <td>1</td>\n",
       "      <td>1</td>\n",
       "      <td>3</td>\n",
       "      <td>3</td>\n",
       "      <td>3</td>\n",
       "      <td>1</td>\n",
       "      <td>0</td>\n",
       "      <td>5</td>\n",
       "      <td>4</td>\n",
       "    </tr>\n",
       "    <tr>\n",
       "      <th>...</th>\n",
       "      <td>...</td>\n",
       "      <td>...</td>\n",
       "      <td>...</td>\n",
       "      <td>...</td>\n",
       "      <td>...</td>\n",
       "      <td>...</td>\n",
       "      <td>...</td>\n",
       "      <td>...</td>\n",
       "      <td>...</td>\n",
       "    </tr>\n",
       "    <tr>\n",
       "      <th>318434</th>\n",
       "      <td>0</td>\n",
       "      <td>0</td>\n",
       "      <td>3</td>\n",
       "      <td>1</td>\n",
       "      <td>5</td>\n",
       "      <td>0</td>\n",
       "      <td>2</td>\n",
       "      <td>4</td>\n",
       "      <td>1</td>\n",
       "    </tr>\n",
       "    <tr>\n",
       "      <th>318435</th>\n",
       "      <td>0</td>\n",
       "      <td>0</td>\n",
       "      <td>1</td>\n",
       "      <td>1</td>\n",
       "      <td>4</td>\n",
       "      <td>2</td>\n",
       "      <td>2</td>\n",
       "      <td>8</td>\n",
       "      <td>3</td>\n",
       "    </tr>\n",
       "    <tr>\n",
       "      <th>318436</th>\n",
       "      <td>0</td>\n",
       "      <td>0</td>\n",
       "      <td>2</td>\n",
       "      <td>2</td>\n",
       "      <td>5</td>\n",
       "      <td>0</td>\n",
       "      <td>1</td>\n",
       "      <td>7</td>\n",
       "      <td>1</td>\n",
       "    </tr>\n",
       "    <tr>\n",
       "      <th>318437</th>\n",
       "      <td>1</td>\n",
       "      <td>1</td>\n",
       "      <td>1</td>\n",
       "      <td>1</td>\n",
       "      <td>3</td>\n",
       "      <td>1</td>\n",
       "      <td>1</td>\n",
       "      <td>1</td>\n",
       "      <td>1</td>\n",
       "    </tr>\n",
       "    <tr>\n",
       "      <th>318438</th>\n",
       "      <td>0</td>\n",
       "      <td>1</td>\n",
       "      <td>2</td>\n",
       "      <td>1</td>\n",
       "      <td>2</td>\n",
       "      <td>0</td>\n",
       "      <td>1</td>\n",
       "      <td>1</td>\n",
       "      <td>0</td>\n",
       "    </tr>\n",
       "  </tbody>\n",
       "</table>\n",
       "<p>318438 rows × 9 columns</p>\n",
       "</div>"
      ],
      "text/plain": [
       "         Hospital_type_code  Hospital_region_code  Department  Ward_Type  \\\n",
       "case_id                                                                    \n",
       "1                         2                     2           3          2   \n",
       "2                         2                     2           3          3   \n",
       "3                         4                     0           1          3   \n",
       "4                         1                     1           3          2   \n",
       "5                         1                     1           3          3   \n",
       "...                     ...                   ...         ...        ...   \n",
       "318434                    0                     0           3          1   \n",
       "318435                    0                     0           1          1   \n",
       "318436                    0                     0           2          2   \n",
       "318437                    1                     1           1          1   \n",
       "318438                    0                     1           2          1   \n",
       "\n",
       "         Ward_Facility_Code  Type_of_Admission  Severity_of_Illness  Age  Stay  \n",
       "case_id                                                                         \n",
       "1                         5                  0                    0    5     0  \n",
       "2                         5                  1                    0    5     4  \n",
       "3                         4                  1                    0    5     3  \n",
       "4                         3                  1                    0    5     4  \n",
       "5                         3                  1                    0    5     4  \n",
       "...                     ...                ...                  ...  ...   ...  \n",
       "318434                    5                  0                    2    4     1  \n",
       "318435                    4                  2                    2    8     3  \n",
       "318436                    5                  0                    1    7     1  \n",
       "318437                    3                  1                    1    1     1  \n",
       "318438                    2                  0                    1    1     0  \n",
       "\n",
       "[318438 rows x 9 columns]"
      ]
     },
     "execution_count": 24,
     "metadata": {},
     "output_type": "execute_result"
    }
   ],
   "source": [
    "# Encoding object type data\n",
    "from sklearn.preprocessing import LabelEncoder\n",
    "label = LabelEncoder()\n",
    "data_obj.iloc[:,:] = data_obj.iloc[:,:].apply(label.fit_transform)\n",
    "data_obj"
   ]
  },
  {
   "cell_type": "code",
   "execution_count": 25,
   "metadata": {
    "colab": {
     "base_uri": "https://localhost:8080/",
     "height": 245
    },
    "executionInfo": {
     "elapsed": 868,
     "status": "ok",
     "timestamp": 1615698564299,
     "user": {
      "displayName": "Rajesh A",
      "photoUrl": "https://lh3.googleusercontent.com/a-/AOh14Ghp8xxZxWnVTEQ4-dSM_R9CyHOjsw21b9UqgSl2=s64",
      "userId": "15854343511969692267"
     },
     "user_tz": -330
    },
    "id": "aoEURZDoG9cQ",
    "outputId": "317c9030-0be7-490d-a5cb-a8ceff8461bc"
   },
   "outputs": [
    {
     "data": {
      "text/html": [
       "<div>\n",
       "<style scoped>\n",
       "    .dataframe tbody tr th:only-of-type {\n",
       "        vertical-align: middle;\n",
       "    }\n",
       "\n",
       "    .dataframe tbody tr th {\n",
       "        vertical-align: top;\n",
       "    }\n",
       "\n",
       "    .dataframe thead th {\n",
       "        text-align: right;\n",
       "    }\n",
       "</style>\n",
       "<table border=\"1\" class=\"dataframe\">\n",
       "  <thead>\n",
       "    <tr style=\"text-align: right;\">\n",
       "      <th></th>\n",
       "      <th>Hospital_code</th>\n",
       "      <th>City_Code_Hospital</th>\n",
       "      <th>Available_Extra_Rooms_in_Hospital</th>\n",
       "      <th>Bed_Grade</th>\n",
       "      <th>City_Code_Patient</th>\n",
       "      <th>Visitors_with_Patient</th>\n",
       "      <th>Admission_Deposit</th>\n",
       "      <th>Hospital_type_code</th>\n",
       "      <th>Hospital_region_code</th>\n",
       "      <th>Department</th>\n",
       "      <th>Ward_Type</th>\n",
       "      <th>Ward_Facility_Code</th>\n",
       "      <th>Type_of_Admission</th>\n",
       "      <th>Severity_of_Illness</th>\n",
       "      <th>Age</th>\n",
       "      <th>Stay</th>\n",
       "    </tr>\n",
       "    <tr>\n",
       "      <th>case_id</th>\n",
       "      <th></th>\n",
       "      <th></th>\n",
       "      <th></th>\n",
       "      <th></th>\n",
       "      <th></th>\n",
       "      <th></th>\n",
       "      <th></th>\n",
       "      <th></th>\n",
       "      <th></th>\n",
       "      <th></th>\n",
       "      <th></th>\n",
       "      <th></th>\n",
       "      <th></th>\n",
       "      <th></th>\n",
       "      <th></th>\n",
       "      <th></th>\n",
       "    </tr>\n",
       "  </thead>\n",
       "  <tbody>\n",
       "    <tr>\n",
       "      <th>1</th>\n",
       "      <td>8.0</td>\n",
       "      <td>3.0</td>\n",
       "      <td>3.0</td>\n",
       "      <td>2.0</td>\n",
       "      <td>7.0</td>\n",
       "      <td>2.0</td>\n",
       "      <td>4911.0</td>\n",
       "      <td>2</td>\n",
       "      <td>2</td>\n",
       "      <td>3</td>\n",
       "      <td>2</td>\n",
       "      <td>5</td>\n",
       "      <td>0</td>\n",
       "      <td>0</td>\n",
       "      <td>5</td>\n",
       "      <td>0</td>\n",
       "    </tr>\n",
       "    <tr>\n",
       "      <th>2</th>\n",
       "      <td>2.0</td>\n",
       "      <td>5.0</td>\n",
       "      <td>2.0</td>\n",
       "      <td>2.0</td>\n",
       "      <td>7.0</td>\n",
       "      <td>2.0</td>\n",
       "      <td>5954.0</td>\n",
       "      <td>2</td>\n",
       "      <td>2</td>\n",
       "      <td>3</td>\n",
       "      <td>3</td>\n",
       "      <td>5</td>\n",
       "      <td>1</td>\n",
       "      <td>0</td>\n",
       "      <td>5</td>\n",
       "      <td>4</td>\n",
       "    </tr>\n",
       "    <tr>\n",
       "      <th>3</th>\n",
       "      <td>10.0</td>\n",
       "      <td>1.0</td>\n",
       "      <td>2.0</td>\n",
       "      <td>2.0</td>\n",
       "      <td>7.0</td>\n",
       "      <td>2.0</td>\n",
       "      <td>4745.0</td>\n",
       "      <td>4</td>\n",
       "      <td>0</td>\n",
       "      <td>1</td>\n",
       "      <td>3</td>\n",
       "      <td>4</td>\n",
       "      <td>1</td>\n",
       "      <td>0</td>\n",
       "      <td>5</td>\n",
       "      <td>3</td>\n",
       "    </tr>\n",
       "    <tr>\n",
       "      <th>4</th>\n",
       "      <td>26.0</td>\n",
       "      <td>2.0</td>\n",
       "      <td>2.0</td>\n",
       "      <td>2.0</td>\n",
       "      <td>7.0</td>\n",
       "      <td>2.0</td>\n",
       "      <td>7272.0</td>\n",
       "      <td>1</td>\n",
       "      <td>1</td>\n",
       "      <td>3</td>\n",
       "      <td>2</td>\n",
       "      <td>3</td>\n",
       "      <td>1</td>\n",
       "      <td>0</td>\n",
       "      <td>5</td>\n",
       "      <td>4</td>\n",
       "    </tr>\n",
       "    <tr>\n",
       "      <th>5</th>\n",
       "      <td>26.0</td>\n",
       "      <td>2.0</td>\n",
       "      <td>2.0</td>\n",
       "      <td>2.0</td>\n",
       "      <td>7.0</td>\n",
       "      <td>2.0</td>\n",
       "      <td>5558.0</td>\n",
       "      <td>1</td>\n",
       "      <td>1</td>\n",
       "      <td>3</td>\n",
       "      <td>3</td>\n",
       "      <td>3</td>\n",
       "      <td>1</td>\n",
       "      <td>0</td>\n",
       "      <td>5</td>\n",
       "      <td>4</td>\n",
       "    </tr>\n",
       "  </tbody>\n",
       "</table>\n",
       "</div>"
      ],
      "text/plain": [
       "         Hospital_code  City_Code_Hospital  Available_Extra_Rooms_in_Hospital  \\\n",
       "case_id                                                                         \n",
       "1                  8.0                 3.0                                3.0   \n",
       "2                  2.0                 5.0                                2.0   \n",
       "3                 10.0                 1.0                                2.0   \n",
       "4                 26.0                 2.0                                2.0   \n",
       "5                 26.0                 2.0                                2.0   \n",
       "\n",
       "         Bed_Grade  City_Code_Patient  Visitors_with_Patient  \\\n",
       "case_id                                                        \n",
       "1              2.0                7.0                    2.0   \n",
       "2              2.0                7.0                    2.0   \n",
       "3              2.0                7.0                    2.0   \n",
       "4              2.0                7.0                    2.0   \n",
       "5              2.0                7.0                    2.0   \n",
       "\n",
       "         Admission_Deposit  Hospital_type_code  Hospital_region_code  \\\n",
       "case_id                                                                \n",
       "1                   4911.0                   2                     2   \n",
       "2                   5954.0                   2                     2   \n",
       "3                   4745.0                   4                     0   \n",
       "4                   7272.0                   1                     1   \n",
       "5                   5558.0                   1                     1   \n",
       "\n",
       "         Department  Ward_Type  Ward_Facility_Code  Type_of_Admission  \\\n",
       "case_id                                                                 \n",
       "1                 3          2                   5                  0   \n",
       "2                 3          3                   5                  1   \n",
       "3                 1          3                   4                  1   \n",
       "4                 3          2                   3                  1   \n",
       "5                 3          3                   3                  1   \n",
       "\n",
       "         Severity_of_Illness  Age  Stay  \n",
       "case_id                                  \n",
       "1                          0    5     0  \n",
       "2                          0    5     4  \n",
       "3                          0    5     3  \n",
       "4                          0    5     4  \n",
       "5                          0    5     4  "
      ]
     },
     "execution_count": 25,
     "metadata": {},
     "output_type": "execute_result"
    }
   ],
   "source": [
    "df = pd.concat([data_num,data_obj],axis=1)\n",
    "df.head()"
   ]
  },
  {
   "cell_type": "code",
   "execution_count": 26,
   "metadata": {
    "colab": {
     "base_uri": "https://localhost:8080/"
    },
    "executionInfo": {
     "elapsed": 1151,
     "status": "ok",
     "timestamp": 1615698566163,
     "user": {
      "displayName": "Rajesh A",
      "photoUrl": "https://lh3.googleusercontent.com/a-/AOh14Ghp8xxZxWnVTEQ4-dSM_R9CyHOjsw21b9UqgSl2=s64",
      "userId": "15854343511969692267"
     },
     "user_tz": -330
    },
    "id": "tdIofcmbG9Yh",
    "outputId": "1ec5aafc-c1a7-437b-e779-372942b17dc5"
   },
   "outputs": [
    {
     "data": {
      "text/plain": [
       "Hospital_code                        0\n",
       "City_Code_Hospital                   0\n",
       "Available_Extra_Rooms_in_Hospital    0\n",
       "Bed_Grade                            0\n",
       "City_Code_Patient                    0\n",
       "Visitors_with_Patient                0\n",
       "Admission_Deposit                    0\n",
       "Hospital_type_code                   0\n",
       "Hospital_region_code                 0\n",
       "Department                           0\n",
       "Ward_Type                            0\n",
       "Ward_Facility_Code                   0\n",
       "Type_of_Admission                    0\n",
       "Severity_of_Illness                  0\n",
       "Age                                  0\n",
       "Stay                                 0\n",
       "dtype: int64"
      ]
     },
     "execution_count": 26,
     "metadata": {},
     "output_type": "execute_result"
    }
   ],
   "source": [
    "df.isna().sum()"
   ]
  },
  {
   "cell_type": "code",
   "execution_count": 68,
   "metadata": {},
   "outputs": [
    {
     "data": {
      "text/plain": [
       "0    143425\n",
       "1     68946\n",
       "2     45928\n",
       "4     24770\n",
       "3     20389\n",
       "5     10703\n",
       "6      4277\n",
       "Name: Hospital_type_code, dtype: int64"
      ]
     },
     "execution_count": 68,
     "metadata": {},
     "output_type": "execute_result"
    }
   ],
   "source": [
    "#Counting Hospital Type Code\n",
    "df['Hospital_type_code'].value_counts()"
   ]
  },
  {
   "cell_type": "code",
   "execution_count": 69,
   "metadata": {},
   "outputs": [
    {
     "data": {
      "image/png": "[encoded data removed]",
      "text/plain": [
       "<Figure size 432x288 with 1 Axes>"
      ]
     },
     "metadata": {
      "needs_background": "light"
     },
     "output_type": "display_data"
    }
   ],
   "source": [
    "#Counting Hospital Type Code\n",
    "sns.countplot(x='Hospital_type_code',data=df)\n",
    "plt.xlabel(\"Hospital Type Code\")\n",
    "plt.ylabel(\"Count\")\n",
    "plt.title(\"Hospital Type Code Count\")\n",
    "plt.show()"
   ]
  },
  {
   "cell_type": "code",
   "execution_count": 70,
   "metadata": {},
   "outputs": [
    {
     "data": {
      "text/plain": [
       "1.0     55351\n",
       "2.0     51809\n",
       "6.0     46991\n",
       "7.0     35463\n",
       "3.0     31569\n",
       "5.0     31105\n",
       "9.0     26277\n",
       "11.0    17137\n",
       "4.0     13857\n",
       "10.0     5249\n",
       "13.0     3630\n",
       "Name: City_Code_Hospital, dtype: int64"
      ]
     },
     "execution_count": 70,
     "metadata": {},
     "output_type": "execute_result"
    }
   ],
   "source": [
    "#Counting City Code Hospital\n",
    "df['City_Code_Hospital'].value_counts()"
   ]
  },
  {
   "cell_type": "code",
   "execution_count": 71,
   "metadata": {},
   "outputs": [
    {
     "data": {
      "image/png": "[encoded data removed]",
      "text/plain": [
       "<Figure size 432x288 with 1 Axes>"
      ]
     },
     "metadata": {
      "needs_background": "light"
     },
     "output_type": "display_data"
    }
   ],
   "source": [
    "#Counting Hospital Type Code\n",
    "sns.countplot(x='City_Code_Hospital',data=df)\n",
    "plt.xlabel(\"City Code Hospital\")\n",
    "plt.ylabel(\"Count\")\n",
    "plt.title(\"City Code Hospital Count\")\n",
    "plt.show()"
   ]
  },
  {
   "cell_type": "code",
   "execution_count": 72,
   "metadata": {},
   "outputs": [
    {
     "data": {
      "text/plain": [
       "0    133336\n",
       "1    122428\n",
       "2     62674\n",
       "Name: Hospital_region_code, dtype: int64"
      ]
     },
     "execution_count": 72,
     "metadata": {},
     "output_type": "execute_result"
    }
   ],
   "source": [
    "#Counting Hospital Region Code\n",
    "df['Hospital_region_code'].value_counts()"
   ]
  },
  {
   "cell_type": "code",
   "execution_count": 73,
   "metadata": {},
   "outputs": [
    {
     "data": {
      "image/png": "[encoded data removed]",
      "text/plain": [
       "<Figure size 432x288 with 1 Axes>"
      ]
     },
     "metadata": {
      "needs_background": "light"
     },
     "output_type": "display_data"
    }
   ],
   "source": [
    "#Counting Hospital Region Code\n",
    "sns.countplot(x='Hospital_region_code',data=df)\n",
    "plt.xlabel(\"Hospital Region Code\")\n",
    "plt.ylabel(\"Count\")\n",
    "plt.title(\"Hospital Region Code Count\")\n",
    "plt.show()\n"
   ]
  },
  {
   "cell_type": "code",
   "execution_count": 74,
   "metadata": {},
   "outputs": [
    {
     "data": {
      "text/plain": [
       "2.0     98311\n",
       "4.0     91709\n",
       "3.0     91520\n",
       "5.0     19288\n",
       "6.0      7786\n",
       "1.0      5582\n",
       "7.0      2876\n",
       "8.0      1027\n",
       "9.0       218\n",
       "10.0       67\n",
       "11.0       17\n",
       "0.0        15\n",
       "12.0       13\n",
       "21.0        3\n",
       "13.0        2\n",
       "20.0        2\n",
       "14.0        1\n",
       "24.0        1\n",
       "Name: Available_Extra_Rooms_in_Hospital, dtype: int64"
      ]
     },
     "execution_count": 74,
     "metadata": {},
     "output_type": "execute_result"
    }
   ],
   "source": [
    "#Counting Hospital Region Code\n",
    "df['Available_Extra_Rooms_in_Hospital'].value_counts()"
   ]
  },
  {
   "cell_type": "code",
   "execution_count": 75,
   "metadata": {},
   "outputs": [
    {
     "data": {
      "image/png": "[encoded data removed]",
      "text/plain": [
       "<Figure size 432x288 with 1 Axes>"
      ]
     },
     "metadata": {
      "needs_background": "light"
     },
     "output_type": "display_data"
    }
   ],
   "source": [
    "#Counting Available Extra Rooms in Hospital\n",
    "sns.countplot(x='Available_Extra_Rooms_in_Hospital',data=df)\n",
    "plt.xlabel(\"Available_Extra_Rooms_in_Hospital\")\n",
    "plt.ylabel(\"Count\")\n",
    "plt.title(\"Available_Extra_Rooms_in_Hospital Count\")\n",
    "plt.show()"
   ]
  },
  {
   "cell_type": "code",
   "execution_count": 76,
   "metadata": {},
   "outputs": [
    {
     "data": {
      "text/plain": [
       "2    249486\n",
       "1     29649\n",
       "3     28516\n",
       "0      9586\n",
       "4      1201\n",
       "Name: Department, dtype: int64"
      ]
     },
     "execution_count": 76,
     "metadata": {},
     "output_type": "execute_result"
    }
   ],
   "source": [
    "#Counting Department\n",
    "df['Department'].value_counts()"
   ]
  },
  {
   "cell_type": "code",
   "execution_count": 77,
   "metadata": {},
   "outputs": [
    {
     "data": {
      "image/png": "[encoded data removed]",
      "text/plain": [
       "<Figure size 432x288 with 1 Axes>"
      ]
     },
     "metadata": {
      "needs_background": "light"
     },
     "output_type": "display_data"
    }
   ],
   "source": [
    "#Counting Department\n",
    "sns.countplot(x='Department',data=df)\n",
    "plt.xlabel(\"Department\")\n",
    "plt.ylabel(\"Count\")\n",
    "plt.title(\"Department Count\")\n",
    "plt.show()"
   ]
  },
  {
   "cell_type": "code",
   "execution_count": 78,
   "metadata": {},
   "outputs": [
    {
     "data": {
      "text/plain": [
       "2    127947\n",
       "1    106165\n",
       "3     77794\n",
       "0      5046\n",
       "4      1477\n",
       "5         9\n",
       "Name: Ward_Type, dtype: int64"
      ]
     },
     "execution_count": 78,
     "metadata": {},
     "output_type": "execute_result"
    }
   ],
   "source": [
    "#Counting Ward Type\n",
    "df['Ward_Type'].value_counts()"
   ]
  },
  {
   "cell_type": "code",
   "execution_count": 79,
   "metadata": {},
   "outputs": [
    {
     "data": {
      "image/png": "[encoded data removed]",
      "text/plain": [
       "<Figure size 432x288 with 1 Axes>"
      ]
     },
     "metadata": {
      "needs_background": "light"
     },
     "output_type": "display_data"
    }
   ],
   "source": [
    "#Counting Ward Type\n",
    "sns.countplot(x='Ward_Type',data=df)\n",
    "plt.xlabel(\"Ward Type\")\n",
    "plt.ylabel(\"Count\")\n",
    "plt.title(\"Ward Type Count\")\n",
    "plt.show()"
   ]
  },
  {
   "cell_type": "code",
   "execution_count": 80,
   "metadata": {},
   "outputs": [
    {
     "data": {
      "text/plain": [
       "5    112753\n",
       "4     55351\n",
       "3     51809\n",
       "2     35463\n",
       "1     35156\n",
       "0     27906\n",
       "Name: Ward_Facility_Code, dtype: int64"
      ]
     },
     "execution_count": 80,
     "metadata": {},
     "output_type": "execute_result"
    }
   ],
   "source": [
    "#Counting Ward Facility Code\n",
    "df['Ward_Facility_Code'].value_counts()"
   ]
  },
  {
   "cell_type": "code",
   "execution_count": 81,
   "metadata": {},
   "outputs": [
    {
     "data": {
      "image/png": "[encoded data removed]",
      "text/plain": [
       "<Figure size 432x288 with 1 Axes>"
      ]
     },
     "metadata": {
      "needs_background": "light"
     },
     "output_type": "display_data"
    }
   ],
   "source": [
    "#Counting Ward Facility Code\n",
    "sns.countplot(x='Ward_Facility_Code',data=df)\n",
    "plt.xlabel(\"Ward Facility Code\")\n",
    "plt.ylabel(\"Count\")\n",
    "plt.title(\"Ward Facility Code Count\")\n",
    "plt.show()"
   ]
  },
  {
   "cell_type": "code",
   "execution_count": 82,
   "metadata": {},
   "outputs": [
    {
     "data": {
      "text/plain": [
       "2.0    123671\n",
       "3.0    110696\n",
       "4.0     57566\n",
       "1.0     26505\n",
       "Name: Bed_Grade, dtype: int64"
      ]
     },
     "execution_count": 82,
     "metadata": {},
     "output_type": "execute_result"
    }
   ],
   "source": [
    "#Counting Bed Grade\n",
    "df['Bed_Grade'].value_counts()\n"
   ]
  },
  {
   "cell_type": "code",
   "execution_count": 83,
   "metadata": {},
   "outputs": [
    {
     "data": {
      "text/plain": [
       "1    152261\n",
       "0    117676\n",
       "2     48501\n",
       "Name: Type_of_Admission, dtype: int64"
      ]
     },
     "execution_count": 83,
     "metadata": {},
     "output_type": "execute_result"
    }
   ],
   "source": [
    "#Counting Type of Admission\n",
    "df['Type_of_Admission'].value_counts()"
   ]
  },
  {
   "cell_type": "code",
   "execution_count": 84,
   "metadata": {},
   "outputs": [
    {
     "data": {
      "text/plain": [
       "2    175843\n",
       "1     85872\n",
       "0     56723\n",
       "Name: Severity_of_Illness, dtype: int64"
      ]
     },
     "execution_count": 84,
     "metadata": {},
     "output_type": "execute_result"
    }
   ],
   "source": [
    "#Counting Severity of Illness\n",
    "df['Severity_of_Illness'].value_counts()"
   ]
  },
  {
   "cell_type": "code",
   "execution_count": 85,
   "metadata": {},
   "outputs": [
    {
     "data": {
      "text/plain": [
       "4    63749\n",
       "3    63639\n",
       "5    48514\n",
       "2    40843\n",
       "7    35792\n",
       "6    33687\n",
       "1    16768\n",
       "8     7890\n",
       "0     6254\n",
       "9     1302\n",
       "Name: Age, dtype: int64"
      ]
     },
     "execution_count": 85,
     "metadata": {},
     "output_type": "execute_result"
    }
   ],
   "source": [
    "#Counting Age\n",
    "df['Age'].value_counts()"
   ]
  },
  {
   "cell_type": "code",
   "execution_count": 86,
   "metadata": {},
   "outputs": [
    {
     "data": {
      "text/plain": [
       "2     87491\n",
       "1     78139\n",
       "3     55159\n",
       "5     35018\n",
       "0     23604\n",
       "4     11743\n",
       "7     10254\n",
       "10     6683\n",
       "8      4838\n",
       "9      2765\n",
       "6      2744\n",
       "Name: Stay, dtype: int64"
      ]
     },
     "execution_count": 86,
     "metadata": {},
     "output_type": "execute_result"
    }
   ],
   "source": [
    "#Counting admission Deposit Price\n",
    "df['Stay'].value_counts()"
   ]
  },
  {
   "cell_type": "code",
   "execution_count": 27,
   "metadata": {
    "colab": {
     "base_uri": "https://localhost:8080/"
    },
    "executionInfo": {
     "elapsed": 1281,
     "status": "ok",
     "timestamp": 1615698568199,
     "user": {
      "displayName": "Rajesh A",
      "photoUrl": "https://lh3.googleusercontent.com/a-/AOh14Ghp8xxZxWnVTEQ4-dSM_R9CyHOjsw21b9UqgSl2=s64",
      "userId": "15854343511969692267"
     },
     "user_tz": -330
    },
    "id": "3Pac0b-gG9VP",
    "outputId": "79565908-8f75-4358-995f-c838fe9c0d04"
   },
   "outputs": [
    {
     "data": {
      "text/plain": [
       "case_id\n",
       "1         0\n",
       "2         4\n",
       "3         3\n",
       "4         4\n",
       "5         4\n",
       "         ..\n",
       "318434    1\n",
       "318435    3\n",
       "318436    1\n",
       "318437    1\n",
       "318438    0\n",
       "Name: Stay, Length: 318438, dtype: int32"
      ]
     },
     "execution_count": 27,
     "metadata": {},
     "output_type": "execute_result"
    }
   ],
   "source": [
    "X = df.iloc[:,:-1]\n",
    "y = df.iloc[:,-1]\n",
    "y"
   ]
  },
  {
   "cell_type": "code",
   "execution_count": 28,
   "metadata": {
    "colab": {
     "base_uri": "https://localhost:8080/"
    },
    "executionInfo": {
     "elapsed": 885,
     "status": "ok",
     "timestamp": 1615698569875,
     "user": {
      "displayName": "Rajesh A",
      "photoUrl": "https://lh3.googleusercontent.com/a-/AOh14Ghp8xxZxWnVTEQ4-dSM_R9CyHOjsw21b9UqgSl2=s64",
      "userId": "15854343511969692267"
     },
     "user_tz": -330
    },
    "id": "Dzqei-_lG9Rr",
    "outputId": "80bf5385-916b-424f-b114-db80a414c8d8"
   },
   "outputs": [
    {
     "data": {
      "text/plain": [
       "2     87491\n",
       "1     78139\n",
       "3     55159\n",
       "5     35018\n",
       "0     23604\n",
       "4     11743\n",
       "7     10254\n",
       "10     6683\n",
       "8      4838\n",
       "9      2765\n",
       "6      2744\n",
       "Name: Stay, dtype: int64"
      ]
     },
     "execution_count": 28,
     "metadata": {},
     "output_type": "execute_result"
    }
   ],
   "source": [
    "y.value_counts()"
   ]
  },
  {
   "cell_type": "markdown",
   "metadata": {
    "id": "GGy2j1BPM8SF"
   },
   "source": [
    "## Random Over sampler"
   ]
  },
  {
   "cell_type": "code",
   "execution_count": 29,
   "metadata": {
    "colab": {
     "base_uri": "https://localhost:8080/"
    },
    "executionInfo": {
     "elapsed": 1145,
     "status": "ok",
     "timestamp": 1615698575037,
     "user": {
      "displayName": "Rajesh A",
      "photoUrl": "https://lh3.googleusercontent.com/a-/AOh14Ghp8xxZxWnVTEQ4-dSM_R9CyHOjsw21b9UqgSl2=s64",
      "userId": "15854343511969692267"
     },
     "user_tz": -330
    },
    "id": "ah_MFJfpM7sG",
    "outputId": "01712f98-0247-4ae0-8c6d-2bb89cc7d52c"
   },
   "outputs": [
    {
     "data": {
      "text/plain": [
       "((962401, 15), (962401,))"
      ]
     },
     "execution_count": 29,
     "metadata": {},
     "output_type": "execute_result"
    }
   ],
   "source": [
    "from imblearn.over_sampling import RandomOverSampler\n",
    "oversampling = RandomOverSampler()\n",
    "X_smote, y_smote = oversampling.fit_sample(X, y)\n",
    "X_smote.shape, y_smote.shape "
   ]
  },
  {
   "cell_type": "code",
   "execution_count": 30,
   "metadata": {
    "colab": {
     "base_uri": "https://localhost:8080/"
    },
    "executionInfo": {
     "elapsed": 918,
     "status": "ok",
     "timestamp": 1615698576499,
     "user": {
      "displayName": "Rajesh A",
      "photoUrl": "https://lh3.googleusercontent.com/a-/AOh14Ghp8xxZxWnVTEQ4-dSM_R9CyHOjsw21b9UqgSl2=s64",
      "userId": "15854343511969692267"
     },
     "user_tz": -330
    },
    "id": "oIy1QnGLM7og",
    "outputId": "85b0c9a7-d570-40f1-af30-c7232e22f3ef"
   },
   "outputs": [
    {
     "name": "stdout",
     "output_type": "stream",
     "text": [
      "Original dataset shape Counter({0: 87491, 4: 87491, 3: 87491, 1: 87491, 5: 87491, 2: 87491, 7: 87491, 10: 87491, 8: 87491, 6: 87491, 9: 87491})\n"
     ]
    }
   ],
   "source": [
    "from collections import Counter\n",
    "print('Original dataset shape %s' % Counter(y_smote))"
   ]
  },
  {
   "cell_type": "code",
   "execution_count": 31,
   "metadata": {
    "executionInfo": {
     "elapsed": 1157,
     "status": "ok",
     "timestamp": 1615698578407,
     "user": {
      "displayName": "Rajesh A",
      "photoUrl": "https://lh3.googleusercontent.com/a-/AOh14Ghp8xxZxWnVTEQ4-dSM_R9CyHOjsw21b9UqgSl2=s64",
      "userId": "15854343511969692267"
     },
     "user_tz": -330
    },
    "id": "fRJMPbvZKSBg"
   },
   "outputs": [],
   "source": [
    "from sklearn.model_selection import train_test_split\n",
    "X_train, X_test, y_train, y_test = train_test_split(X_smote,y_smote,test_size=0.20,random_state=42)"
   ]
  },
  {
   "cell_type": "code",
   "execution_count": 32,
   "metadata": {
    "executionInfo": {
     "elapsed": 460143,
     "status": "ok",
     "timestamp": 1615699559195,
     "user": {
      "displayName": "Rajesh A",
      "photoUrl": "https://lh3.googleusercontent.com/a-/AOh14Ghp8xxZxWnVTEQ4-dSM_R9CyHOjsw21b9UqgSl2=s64",
      "userId": "15854343511969692267"
     },
     "user_tz": -330
    },
    "id": "2knifChhG9OJ"
   },
   "outputs": [],
   "source": [
    "from sklearn.ensemble import RandomForestRegressor\n",
    "model1 = RandomForestRegressor()\n",
    "model1.fit(X_train,y_train)\n",
    "predict = model1.predict(X_test)\n"
   ]
  },
  {
   "cell_type": "code",
   "execution_count": 33,
   "metadata": {
    "colab": {
     "base_uri": "https://localhost:8080/"
    },
    "executionInfo": {
     "elapsed": 897,
     "status": "ok",
     "timestamp": 1615699566622,
     "user": {
      "displayName": "Rajesh A",
      "photoUrl": "https://lh3.googleusercontent.com/a-/AOh14Ghp8xxZxWnVTEQ4-dSM_R9CyHOjsw21b9UqgSl2=s64",
      "userId": "15854343511969692267"
     },
     "user_tz": -330
    },
    "id": "Pv60OOGfL1eJ",
    "outputId": "6475d6f0-612e-4365-fc9c-89a72da0ecf7"
   },
   "outputs": [
    {
     "data": {
      "text/plain": [
       "array([ 7.03, 10.  ,  0.1 , ..., 10.  ,  9.  ,  6.  ])"
      ]
     },
     "execution_count": 33,
     "metadata": {},
     "output_type": "execute_result"
    }
   ],
   "source": [
    "predict"
   ]
  },
  {
   "cell_type": "code",
   "execution_count": 34,
   "metadata": {
    "colab": {
     "base_uri": "https://localhost:8080/"
    },
    "executionInfo": {
     "elapsed": 1125,
     "status": "ok",
     "timestamp": 1615699569633,
     "user": {
      "displayName": "Rajesh A",
      "photoUrl": "https://lh3.googleusercontent.com/a-/AOh14Ghp8xxZxWnVTEQ4-dSM_R9CyHOjsw21b9UqgSl2=s64",
      "userId": "15854343511969692267"
     },
     "user_tz": -330
    },
    "id": "ZuHQfX-vG9KT",
    "outputId": "b2916206-c117-4d8b-91b1-33b97c274ef3"
   },
   "outputs": [
    {
     "name": "stdout",
     "output_type": "stream",
     "text": [
      "r2_score: 0.9572328881956232\n"
     ]
    }
   ],
   "source": [
    "from sklearn.metrics import r2_score\n",
    "print('r2_score:',r2_score(y_test,predict))"
   ]
  },
  {
   "cell_type": "code",
   "execution_count": null,
   "metadata": {},
   "outputs": [],
   "source": []
  },
  {
   "cell_type": "code",
   "execution_count": 43,
   "metadata": {
    "executionInfo": {
     "elapsed": 171738,
     "status": "ok",
     "timestamp": 1615698769518,
     "user": {
      "displayName": "Rajesh A",
      "photoUrl": "https://lh3.googleusercontent.com/a-/AOh14Ghp8xxZxWnVTEQ4-dSM_R9CyHOjsw21b9UqgSl2=s64",
      "userId": "15854343511969692267"
     },
     "user_tz": -330
    },
    "id": "sucNThNFG9GF"
   },
   "outputs": [],
   "source": [
    "from sklearn.ensemble import RandomForestClassifier\n",
    "model2 = RandomForestClassifier()\n",
    "model2.fit(X_train,y_train)\n",
    "predict1 = model2.predict(X_test)"
   ]
  },
  {
   "cell_type": "code",
   "execution_count": 44,
   "metadata": {
    "colab": {
     "base_uri": "https://localhost:8080/"
    },
    "executionInfo": {
     "elapsed": 1504,
     "status": "ok",
     "timestamp": 1615698784683,
     "user": {
      "displayName": "Rajesh A",
      "photoUrl": "https://lh3.googleusercontent.com/a-/AOh14Ghp8xxZxWnVTEQ4-dSM_R9CyHOjsw21b9UqgSl2=s64",
      "userId": "15854343511969692267"
     },
     "user_tz": -330
    },
    "id": "sw2VK0g-G8-L",
    "outputId": "1b841e28-4075-48ef-b5ca-6b6812116245"
   },
   "outputs": [
    {
     "name": "stdout",
     "output_type": "stream",
     "text": [
      "accuracy_score: 0.8636540749476572\n",
      "confusion_matrix:\n",
      " [[16890   276   207    52    11     8     7     0     0     0     2]\n",
      " [ 1651  8850  4409  1427   312   690    30    95    22     7    30]\n",
      " [ 1446  4858  7971  1938   622   538    80    85    50    15    44]\n",
      " [  405  1268  1966 11784   227  1576    31   190    46    19    39]\n",
      " [    3     4    23     2 17482     0     0     0     0     0     0]\n",
      " [   86   181   236   603    38 15815     9   184    91    27    56]\n",
      " [    0     0     0     0     0     0 17575     0     0     0     0]\n",
      " [    0     0     0     1     0     6     0 17364     0     0     6]\n",
      " [    0     0     0     0     0     0     0     0 17503     0     0]\n",
      " [    0     0     0     0     0     0     0     0     0 17389     0]\n",
      " [    0     0     0     0     0     1     8     0     0     0 17614]]\n",
      "              precision    recall  f1-score   support\n",
      "\n",
      "           0       0.82      0.97      0.89     17453\n",
      "           1       0.57      0.51      0.54     17523\n",
      "           2       0.54      0.45      0.49     17647\n",
      "           3       0.75      0.67      0.71     17551\n",
      "           4       0.94      1.00      0.97     17514\n",
      "           5       0.85      0.91      0.88     17326\n",
      "           6       0.99      1.00      1.00     17575\n",
      "           7       0.97      1.00      0.98     17377\n",
      "           8       0.99      1.00      0.99     17503\n",
      "           9       1.00      1.00      1.00     17389\n",
      "          10       0.99      1.00      0.99     17623\n",
      "\n",
      "    accuracy                           0.86    192481\n",
      "   macro avg       0.85      0.86      0.86    192481\n",
      "weighted avg       0.85      0.86      0.86    192481\n",
      "\n"
     ]
    }
   ],
   "source": [
    "from sklearn.metrics import accuracy_score, confusion_matrix, classification_report,log_loss\n",
    "print('accuracy_score:',accuracy_score(y_test,predict1))\n",
    "print('confusion_matrix:\\n',confusion_matrix(y_test,predict1))\n",
    "print(classification_report(y_test,predict1))"
   ]
  },
  {
   "cell_type": "code",
   "execution_count": 45,
   "metadata": {
    "colab": {
     "base_uri": "https://localhost:8080/",
     "height": 689
    },
    "executionInfo": {
     "elapsed": 26373,
     "status": "ok",
     "timestamp": 1615699061471,
     "user": {
      "displayName": "Rajesh A",
      "photoUrl": "https://lh3.googleusercontent.com/a-/AOh14Ghp8xxZxWnVTEQ4-dSM_R9CyHOjsw21b9UqgSl2=s64",
      "userId": "15854343511969692267"
     },
     "user_tz": -330
    },
    "id": "V3VcZmsJJ1tx",
    "outputId": "4b492681-13ad-4a68-b4e2-b62aaa891ddb"
   },
   "outputs": [
    {
     "data": {
      "text/html": [
       "<div>\n",
       "<style scoped>\n",
       "    .dataframe tbody tr th:only-of-type {\n",
       "        vertical-align: middle;\n",
       "    }\n",
       "\n",
       "    .dataframe tbody tr th {\n",
       "        vertical-align: top;\n",
       "    }\n",
       "\n",
       "    .dataframe thead th {\n",
       "        text-align: right;\n",
       "    }\n",
       "</style>\n",
       "<table border=\"1\" class=\"dataframe\">\n",
       "  <thead>\n",
       "    <tr style=\"text-align: right;\">\n",
       "      <th></th>\n",
       "      <th>Hospital_code</th>\n",
       "      <th>City_Code_Hospital</th>\n",
       "      <th>Available_Extra_Rooms_in_Hospital</th>\n",
       "      <th>Bed_Grade</th>\n",
       "      <th>City_Code_Patient</th>\n",
       "      <th>Visitors_with_Patient</th>\n",
       "      <th>Admission_Deposit</th>\n",
       "      <th>Hospital_type_code</th>\n",
       "      <th>Hospital_region_code</th>\n",
       "      <th>Department</th>\n",
       "      <th>Ward_Type</th>\n",
       "      <th>Ward_Facility_Code</th>\n",
       "      <th>Type_of_Admission</th>\n",
       "      <th>Severity_of_Illness</th>\n",
       "      <th>Age</th>\n",
       "      <th>Stay</th>\n",
       "      <th>predict</th>\n",
       "    </tr>\n",
       "    <tr>\n",
       "      <th>case_id</th>\n",
       "      <th></th>\n",
       "      <th></th>\n",
       "      <th></th>\n",
       "      <th></th>\n",
       "      <th></th>\n",
       "      <th></th>\n",
       "      <th></th>\n",
       "      <th></th>\n",
       "      <th></th>\n",
       "      <th></th>\n",
       "      <th></th>\n",
       "      <th></th>\n",
       "      <th></th>\n",
       "      <th></th>\n",
       "      <th></th>\n",
       "      <th></th>\n",
       "      <th></th>\n",
       "    </tr>\n",
       "  </thead>\n",
       "  <tbody>\n",
       "    <tr>\n",
       "      <th>318419</th>\n",
       "      <td>17.0</td>\n",
       "      <td>1.0</td>\n",
       "      <td>2.0</td>\n",
       "      <td>4.0</td>\n",
       "      <td>32.0</td>\n",
       "      <td>2.0</td>\n",
       "      <td>4499.0</td>\n",
       "      <td>4</td>\n",
       "      <td>0</td>\n",
       "      <td>2</td>\n",
       "      <td>2</td>\n",
       "      <td>4</td>\n",
       "      <td>2</td>\n",
       "      <td>1</td>\n",
       "      <td>3</td>\n",
       "      <td>0</td>\n",
       "      <td>0</td>\n",
       "    </tr>\n",
       "    <tr>\n",
       "      <th>318420</th>\n",
       "      <td>16.0</td>\n",
       "      <td>3.0</td>\n",
       "      <td>1.0</td>\n",
       "      <td>4.0</td>\n",
       "      <td>6.0</td>\n",
       "      <td>2.0</td>\n",
       "      <td>4339.0</td>\n",
       "      <td>2</td>\n",
       "      <td>2</td>\n",
       "      <td>2</td>\n",
       "      <td>3</td>\n",
       "      <td>0</td>\n",
       "      <td>1</td>\n",
       "      <td>2</td>\n",
       "      <td>4</td>\n",
       "      <td>3</td>\n",
       "      <td>5</td>\n",
       "    </tr>\n",
       "    <tr>\n",
       "      <th>318421</th>\n",
       "      <td>3.0</td>\n",
       "      <td>3.0</td>\n",
       "      <td>3.0</td>\n",
       "      <td>3.0</td>\n",
       "      <td>20.0</td>\n",
       "      <td>2.0</td>\n",
       "      <td>4667.0</td>\n",
       "      <td>2</td>\n",
       "      <td>2</td>\n",
       "      <td>1</td>\n",
       "      <td>1</td>\n",
       "      <td>0</td>\n",
       "      <td>2</td>\n",
       "      <td>2</td>\n",
       "      <td>7</td>\n",
       "      <td>1</td>\n",
       "      <td>1</td>\n",
       "    </tr>\n",
       "    <tr>\n",
       "      <th>318422</th>\n",
       "      <td>19.0</td>\n",
       "      <td>7.0</td>\n",
       "      <td>2.0</td>\n",
       "      <td>2.0</td>\n",
       "      <td>8.0</td>\n",
       "      <td>2.0</td>\n",
       "      <td>4277.0</td>\n",
       "      <td>0</td>\n",
       "      <td>1</td>\n",
       "      <td>2</td>\n",
       "      <td>3</td>\n",
       "      <td>2</td>\n",
       "      <td>0</td>\n",
       "      <td>2</td>\n",
       "      <td>4</td>\n",
       "      <td>0</td>\n",
       "      <td>0</td>\n",
       "    </tr>\n",
       "    <tr>\n",
       "      <th>318423</th>\n",
       "      <td>22.0</td>\n",
       "      <td>9.0</td>\n",
       "      <td>3.0</td>\n",
       "      <td>2.0</td>\n",
       "      <td>23.0</td>\n",
       "      <td>3.0</td>\n",
       "      <td>4510.0</td>\n",
       "      <td>6</td>\n",
       "      <td>1</td>\n",
       "      <td>1</td>\n",
       "      <td>2</td>\n",
       "      <td>1</td>\n",
       "      <td>0</td>\n",
       "      <td>1</td>\n",
       "      <td>4</td>\n",
       "      <td>0</td>\n",
       "      <td>0</td>\n",
       "    </tr>\n",
       "    <tr>\n",
       "      <th>318424</th>\n",
       "      <td>23.0</td>\n",
       "      <td>6.0</td>\n",
       "      <td>2.0</td>\n",
       "      <td>4.0</td>\n",
       "      <td>1.0</td>\n",
       "      <td>2.0</td>\n",
       "      <td>3190.0</td>\n",
       "      <td>0</td>\n",
       "      <td>0</td>\n",
       "      <td>1</td>\n",
       "      <td>1</td>\n",
       "      <td>5</td>\n",
       "      <td>2</td>\n",
       "      <td>2</td>\n",
       "      <td>3</td>\n",
       "      <td>1</td>\n",
       "      <td>1</td>\n",
       "    </tr>\n",
       "    <tr>\n",
       "      <th>318425</th>\n",
       "      <td>6.0</td>\n",
       "      <td>6.0</td>\n",
       "      <td>2.0</td>\n",
       "      <td>4.0</td>\n",
       "      <td>2.0</td>\n",
       "      <td>2.0</td>\n",
       "      <td>4455.0</td>\n",
       "      <td>0</td>\n",
       "      <td>0</td>\n",
       "      <td>3</td>\n",
       "      <td>2</td>\n",
       "      <td>5</td>\n",
       "      <td>2</td>\n",
       "      <td>2</td>\n",
       "      <td>5</td>\n",
       "      <td>1</td>\n",
       "      <td>1</td>\n",
       "    </tr>\n",
       "    <tr>\n",
       "      <th>318426</th>\n",
       "      <td>15.0</td>\n",
       "      <td>5.0</td>\n",
       "      <td>2.0</td>\n",
       "      <td>4.0</td>\n",
       "      <td>12.0</td>\n",
       "      <td>2.0</td>\n",
       "      <td>8052.0</td>\n",
       "      <td>2</td>\n",
       "      <td>2</td>\n",
       "      <td>1</td>\n",
       "      <td>3</td>\n",
       "      <td>5</td>\n",
       "      <td>0</td>\n",
       "      <td>1</td>\n",
       "      <td>1</td>\n",
       "      <td>1</td>\n",
       "      <td>1</td>\n",
       "    </tr>\n",
       "    <tr>\n",
       "      <th>318427</th>\n",
       "      <td>17.0</td>\n",
       "      <td>1.0</td>\n",
       "      <td>3.0</td>\n",
       "      <td>4.0</td>\n",
       "      <td>32.0</td>\n",
       "      <td>3.0</td>\n",
       "      <td>4185.0</td>\n",
       "      <td>4</td>\n",
       "      <td>0</td>\n",
       "      <td>2</td>\n",
       "      <td>2</td>\n",
       "      <td>4</td>\n",
       "      <td>0</td>\n",
       "      <td>1</td>\n",
       "      <td>0</td>\n",
       "      <td>0</td>\n",
       "      <td>1</td>\n",
       "    </tr>\n",
       "    <tr>\n",
       "      <th>318428</th>\n",
       "      <td>20.0</td>\n",
       "      <td>2.0</td>\n",
       "      <td>2.0</td>\n",
       "      <td>3.0</td>\n",
       "      <td>5.0</td>\n",
       "      <td>4.0</td>\n",
       "      <td>4271.0</td>\n",
       "      <td>1</td>\n",
       "      <td>1</td>\n",
       "      <td>0</td>\n",
       "      <td>3</td>\n",
       "      <td>3</td>\n",
       "      <td>2</td>\n",
       "      <td>1</td>\n",
       "      <td>5</td>\n",
       "      <td>3</td>\n",
       "      <td>5</td>\n",
       "    </tr>\n",
       "    <tr>\n",
       "      <th>318429</th>\n",
       "      <td>23.0</td>\n",
       "      <td>6.0</td>\n",
       "      <td>2.0</td>\n",
       "      <td>4.0</td>\n",
       "      <td>10.0</td>\n",
       "      <td>2.0</td>\n",
       "      <td>4125.0</td>\n",
       "      <td>0</td>\n",
       "      <td>0</td>\n",
       "      <td>2</td>\n",
       "      <td>1</td>\n",
       "      <td>5</td>\n",
       "      <td>2</td>\n",
       "      <td>1</td>\n",
       "      <td>1</td>\n",
       "      <td>1</td>\n",
       "      <td>1</td>\n",
       "    </tr>\n",
       "    <tr>\n",
       "      <th>318430</th>\n",
       "      <td>3.0</td>\n",
       "      <td>3.0</td>\n",
       "      <td>3.0</td>\n",
       "      <td>3.0</td>\n",
       "      <td>7.0</td>\n",
       "      <td>2.0</td>\n",
       "      <td>3559.0</td>\n",
       "      <td>2</td>\n",
       "      <td>2</td>\n",
       "      <td>2</td>\n",
       "      <td>3</td>\n",
       "      <td>0</td>\n",
       "      <td>2</td>\n",
       "      <td>1</td>\n",
       "      <td>5</td>\n",
       "      <td>0</td>\n",
       "      <td>0</td>\n",
       "    </tr>\n",
       "    <tr>\n",
       "      <th>318431</th>\n",
       "      <td>6.0</td>\n",
       "      <td>6.0</td>\n",
       "      <td>3.0</td>\n",
       "      <td>4.0</td>\n",
       "      <td>8.0</td>\n",
       "      <td>2.0</td>\n",
       "      <td>5065.0</td>\n",
       "      <td>0</td>\n",
       "      <td>0</td>\n",
       "      <td>1</td>\n",
       "      <td>1</td>\n",
       "      <td>5</td>\n",
       "      <td>1</td>\n",
       "      <td>2</td>\n",
       "      <td>4</td>\n",
       "      <td>2</td>\n",
       "      <td>2</td>\n",
       "    </tr>\n",
       "    <tr>\n",
       "      <th>318432</th>\n",
       "      <td>23.0</td>\n",
       "      <td>6.0</td>\n",
       "      <td>3.0</td>\n",
       "      <td>4.0</td>\n",
       "      <td>2.0</td>\n",
       "      <td>2.0</td>\n",
       "      <td>4508.0</td>\n",
       "      <td>0</td>\n",
       "      <td>0</td>\n",
       "      <td>1</td>\n",
       "      <td>1</td>\n",
       "      <td>5</td>\n",
       "      <td>2</td>\n",
       "      <td>0</td>\n",
       "      <td>7</td>\n",
       "      <td>1</td>\n",
       "      <td>1</td>\n",
       "    </tr>\n",
       "    <tr>\n",
       "      <th>318433</th>\n",
       "      <td>26.0</td>\n",
       "      <td>2.0</td>\n",
       "      <td>2.0</td>\n",
       "      <td>3.0</td>\n",
       "      <td>6.0</td>\n",
       "      <td>3.0</td>\n",
       "      <td>8308.0</td>\n",
       "      <td>1</td>\n",
       "      <td>1</td>\n",
       "      <td>1</td>\n",
       "      <td>2</td>\n",
       "      <td>3</td>\n",
       "      <td>0</td>\n",
       "      <td>1</td>\n",
       "      <td>1</td>\n",
       "      <td>2</td>\n",
       "      <td>2</td>\n",
       "    </tr>\n",
       "    <tr>\n",
       "      <th>318434</th>\n",
       "      <td>6.0</td>\n",
       "      <td>6.0</td>\n",
       "      <td>3.0</td>\n",
       "      <td>4.0</td>\n",
       "      <td>23.0</td>\n",
       "      <td>3.0</td>\n",
       "      <td>4144.0</td>\n",
       "      <td>0</td>\n",
       "      <td>0</td>\n",
       "      <td>3</td>\n",
       "      <td>1</td>\n",
       "      <td>5</td>\n",
       "      <td>0</td>\n",
       "      <td>2</td>\n",
       "      <td>4</td>\n",
       "      <td>1</td>\n",
       "      <td>1</td>\n",
       "    </tr>\n",
       "    <tr>\n",
       "      <th>318435</th>\n",
       "      <td>24.0</td>\n",
       "      <td>1.0</td>\n",
       "      <td>2.0</td>\n",
       "      <td>4.0</td>\n",
       "      <td>8.0</td>\n",
       "      <td>4.0</td>\n",
       "      <td>6699.0</td>\n",
       "      <td>0</td>\n",
       "      <td>0</td>\n",
       "      <td>1</td>\n",
       "      <td>1</td>\n",
       "      <td>4</td>\n",
       "      <td>2</td>\n",
       "      <td>2</td>\n",
       "      <td>8</td>\n",
       "      <td>3</td>\n",
       "      <td>3</td>\n",
       "    </tr>\n",
       "    <tr>\n",
       "      <th>318436</th>\n",
       "      <td>7.0</td>\n",
       "      <td>4.0</td>\n",
       "      <td>3.0</td>\n",
       "      <td>4.0</td>\n",
       "      <td>10.0</td>\n",
       "      <td>3.0</td>\n",
       "      <td>4235.0</td>\n",
       "      <td>0</td>\n",
       "      <td>0</td>\n",
       "      <td>2</td>\n",
       "      <td>2</td>\n",
       "      <td>5</td>\n",
       "      <td>0</td>\n",
       "      <td>1</td>\n",
       "      <td>7</td>\n",
       "      <td>1</td>\n",
       "      <td>1</td>\n",
       "    </tr>\n",
       "    <tr>\n",
       "      <th>318437</th>\n",
       "      <td>11.0</td>\n",
       "      <td>2.0</td>\n",
       "      <td>3.0</td>\n",
       "      <td>3.0</td>\n",
       "      <td>8.0</td>\n",
       "      <td>5.0</td>\n",
       "      <td>3761.0</td>\n",
       "      <td>1</td>\n",
       "      <td>1</td>\n",
       "      <td>1</td>\n",
       "      <td>1</td>\n",
       "      <td>3</td>\n",
       "      <td>1</td>\n",
       "      <td>1</td>\n",
       "      <td>1</td>\n",
       "      <td>1</td>\n",
       "      <td>1</td>\n",
       "    </tr>\n",
       "    <tr>\n",
       "      <th>318438</th>\n",
       "      <td>19.0</td>\n",
       "      <td>7.0</td>\n",
       "      <td>5.0</td>\n",
       "      <td>2.0</td>\n",
       "      <td>8.0</td>\n",
       "      <td>2.0</td>\n",
       "      <td>4752.0</td>\n",
       "      <td>0</td>\n",
       "      <td>1</td>\n",
       "      <td>2</td>\n",
       "      <td>1</td>\n",
       "      <td>2</td>\n",
       "      <td>0</td>\n",
       "      <td>1</td>\n",
       "      <td>1</td>\n",
       "      <td>0</td>\n",
       "      <td>0</td>\n",
       "    </tr>\n",
       "  </tbody>\n",
       "</table>\n",
       "</div>"
      ],
      "text/plain": [
       "         Hospital_code  City_Code_Hospital  Available_Extra_Rooms_in_Hospital  \\\n",
       "case_id                                                                         \n",
       "318419            17.0                 1.0                                2.0   \n",
       "318420            16.0                 3.0                                1.0   \n",
       "318421             3.0                 3.0                                3.0   \n",
       "318422            19.0                 7.0                                2.0   \n",
       "318423            22.0                 9.0                                3.0   \n",
       "318424            23.0                 6.0                                2.0   \n",
       "318425             6.0                 6.0                                2.0   \n",
       "318426            15.0                 5.0                                2.0   \n",
       "318427            17.0                 1.0                                3.0   \n",
       "318428            20.0                 2.0                                2.0   \n",
       "318429            23.0                 6.0                                2.0   \n",
       "318430             3.0                 3.0                                3.0   \n",
       "318431             6.0                 6.0                                3.0   \n",
       "318432            23.0                 6.0                                3.0   \n",
       "318433            26.0                 2.0                                2.0   \n",
       "318434             6.0                 6.0                                3.0   \n",
       "318435            24.0                 1.0                                2.0   \n",
       "318436             7.0                 4.0                                3.0   \n",
       "318437            11.0                 2.0                                3.0   \n",
       "318438            19.0                 7.0                                5.0   \n",
       "\n",
       "         Bed_Grade  City_Code_Patient  Visitors_with_Patient  \\\n",
       "case_id                                                        \n",
       "318419         4.0               32.0                    2.0   \n",
       "318420         4.0                6.0                    2.0   \n",
       "318421         3.0               20.0                    2.0   \n",
       "318422         2.0                8.0                    2.0   \n",
       "318423         2.0               23.0                    3.0   \n",
       "318424         4.0                1.0                    2.0   \n",
       "318425         4.0                2.0                    2.0   \n",
       "318426         4.0               12.0                    2.0   \n",
       "318427         4.0               32.0                    3.0   \n",
       "318428         3.0                5.0                    4.0   \n",
       "318429         4.0               10.0                    2.0   \n",
       "318430         3.0                7.0                    2.0   \n",
       "318431         4.0                8.0                    2.0   \n",
       "318432         4.0                2.0                    2.0   \n",
       "318433         3.0                6.0                    3.0   \n",
       "318434         4.0               23.0                    3.0   \n",
       "318435         4.0                8.0                    4.0   \n",
       "318436         4.0               10.0                    3.0   \n",
       "318437         3.0                8.0                    5.0   \n",
       "318438         2.0                8.0                    2.0   \n",
       "\n",
       "         Admission_Deposit  Hospital_type_code  Hospital_region_code  \\\n",
       "case_id                                                                \n",
       "318419              4499.0                   4                     0   \n",
       "318420              4339.0                   2                     2   \n",
       "318421              4667.0                   2                     2   \n",
       "318422              4277.0                   0                     1   \n",
       "318423              4510.0                   6                     1   \n",
       "318424              3190.0                   0                     0   \n",
       "318425              4455.0                   0                     0   \n",
       "318426              8052.0                   2                     2   \n",
       "318427              4185.0                   4                     0   \n",
       "318428              4271.0                   1                     1   \n",
       "318429              4125.0                   0                     0   \n",
       "318430              3559.0                   2                     2   \n",
       "318431              5065.0                   0                     0   \n",
       "318432              4508.0                   0                     0   \n",
       "318433              8308.0                   1                     1   \n",
       "318434              4144.0                   0                     0   \n",
       "318435              6699.0                   0                     0   \n",
       "318436              4235.0                   0                     0   \n",
       "318437              3761.0                   1                     1   \n",
       "318438              4752.0                   0                     1   \n",
       "\n",
       "         Department  Ward_Type  Ward_Facility_Code  Type_of_Admission  \\\n",
       "case_id                                                                 \n",
       "318419            2          2                   4                  2   \n",
       "318420            2          3                   0                  1   \n",
       "318421            1          1                   0                  2   \n",
       "318422            2          3                   2                  0   \n",
       "318423            1          2                   1                  0   \n",
       "318424            1          1                   5                  2   \n",
       "318425            3          2                   5                  2   \n",
       "318426            1          3                   5                  0   \n",
       "318427            2          2                   4                  0   \n",
       "318428            0          3                   3                  2   \n",
       "318429            2          1                   5                  2   \n",
       "318430            2          3                   0                  2   \n",
       "318431            1          1                   5                  1   \n",
       "318432            1          1                   5                  2   \n",
       "318433            1          2                   3                  0   \n",
       "318434            3          1                   5                  0   \n",
       "318435            1          1                   4                  2   \n",
       "318436            2          2                   5                  0   \n",
       "318437            1          1                   3                  1   \n",
       "318438            2          1                   2                  0   \n",
       "\n",
       "         Severity_of_Illness  Age  Stay  predict  \n",
       "case_id                                           \n",
       "318419                     1    3     0        0  \n",
       "318420                     2    4     3        5  \n",
       "318421                     2    7     1        1  \n",
       "318422                     2    4     0        0  \n",
       "318423                     1    4     0        0  \n",
       "318424                     2    3     1        1  \n",
       "318425                     2    5     1        1  \n",
       "318426                     1    1     1        1  \n",
       "318427                     1    0     0        1  \n",
       "318428                     1    5     3        5  \n",
       "318429                     1    1     1        1  \n",
       "318430                     1    5     0        0  \n",
       "318431                     2    4     2        2  \n",
       "318432                     0    7     1        1  \n",
       "318433                     1    1     2        2  \n",
       "318434                     2    4     1        1  \n",
       "318435                     2    8     3        3  \n",
       "318436                     1    7     1        1  \n",
       "318437                     1    1     1        1  \n",
       "318438                     1    1     0        0  "
      ]
     },
     "execution_count": 45,
     "metadata": {},
     "output_type": "execute_result"
    }
   ],
   "source": [
    "df['predict']=model2.predict(X)\n",
    "df.tail(20)"
   ]
  },
  {
   "cell_type": "code",
   "execution_count": 46,
   "metadata": {
    "executionInfo": {
     "elapsed": 3555,
     "status": "aborted",
     "timestamp": 1615696973127,
     "user": {
      "displayName": "Rajesh A",
      "photoUrl": "https://lh3.googleusercontent.com/a-/AOh14Ghp8xxZxWnVTEQ4-dSM_R9CyHOjsw21b9UqgSl2=s64",
      "userId": "15854343511969692267"
     },
     "user_tz": -330
    },
    "id": "JdQ6rv0pJxpA"
   },
   "outputs": [],
   "source": [
    "# without balancing the data we got 40% accuracy for classification\n",
    "# 47 % r2_score for regression"
   ]
  },
  {
   "cell_type": "code",
   "execution_count": 47,
   "metadata": {
    "colab": {
     "base_uri": "https://localhost:8080/"
    },
    "executionInfo": {
     "elapsed": 124047,
     "status": "ok",
     "timestamp": 1615698265237,
     "user": {
      "displayName": "Rajesh A",
      "photoUrl": "https://lh3.googleusercontent.com/a-/AOh14Ghp8xxZxWnVTEQ4-dSM_R9CyHOjsw21b9UqgSl2=s64",
      "userId": "15854343511969692267"
     },
     "user_tz": -330
    },
    "id": "l00H4LuIJxlo",
    "outputId": "fe646250-081c-4839-e4af-5f7c2263aeeb"
   },
   "outputs": [
    {
     "data": {
      "text/plain": [
       "ExtraTreesClassifier()"
      ]
     },
     "execution_count": 47,
     "metadata": {},
     "output_type": "execute_result"
    }
   ],
   "source": [
    "from sklearn.ensemble import ExtraTreesClassifier\n",
    "model3 = ExtraTreesClassifier()\n",
    "model3.fit(X_train, y_train)"
   ]
  },
  {
   "cell_type": "code",
   "execution_count": 48,
   "metadata": {
    "colab": {
     "base_uri": "https://localhost:8080/"
    },
    "executionInfo": {
     "elapsed": 18489,
     "status": "ok",
     "timestamp": 1615698294322,
     "user": {
      "displayName": "Rajesh A",
      "photoUrl": "https://lh3.googleusercontent.com/a-/AOh14Ghp8xxZxWnVTEQ4-dSM_R9CyHOjsw21b9UqgSl2=s64",
      "userId": "15854343511969692267"
     },
     "user_tz": -330
    },
    "id": "L90wT5M_Jxiv",
    "outputId": "4a379bea-9384-4d7f-8de9-587c6f7510d5"
   },
   "outputs": [
    {
     "name": "stdout",
     "output_type": "stream",
     "text": [
      "accuracy_score: 0.8643398569209428\n",
      "confusion_matrix:\n",
      " [[16821   295   259    48    12    10     4     2     0     0     2]\n",
      " [ 1191  8883  4800  1620   266   591    32    91    12     9    28]\n",
      " [ 1032  5076  8162  2115   499   523    79    84    38     9    30]\n",
      " [  307  1462  2103 11861   164  1373    34   155    42    21    29]\n",
      " [    3     8    17     4 17482     0     0     0     0     0     0]\n",
      " [   47   259   278   692    30 15715     8   160    70    17    50]\n",
      " [    0     0     0     0     0     0 17575     0     0     0     0]\n",
      " [    0     0     2     1     1     4     0 17363     0     0     6]\n",
      " [    0     0     0     0     0     0     0     0 17503     0     0]\n",
      " [    0     0     0     0     0     0     0     0     0 17389     0]\n",
      " [    0     0     0     0     0     0     8     0     0     0 17615]]\n",
      "              precision    recall  f1-score   support\n",
      "\n",
      "           0       0.87      0.96      0.91     17453\n",
      "           1       0.56      0.51      0.53     17523\n",
      "           2       0.52      0.46      0.49     17647\n",
      "           3       0.73      0.68      0.70     17551\n",
      "           4       0.95      1.00      0.97     17514\n",
      "           5       0.86      0.91      0.88     17326\n",
      "           6       0.99      1.00      1.00     17575\n",
      "           7       0.97      1.00      0.99     17377\n",
      "           8       0.99      1.00      1.00     17503\n",
      "           9       1.00      1.00      1.00     17389\n",
      "          10       0.99      1.00      1.00     17623\n",
      "\n",
      "    accuracy                           0.86    192481\n",
      "   macro avg       0.86      0.86      0.86    192481\n",
      "weighted avg       0.86      0.86      0.86    192481\n",
      "\n"
     ]
    }
   ],
   "source": [
    "predict2 = model3.predict(X_test)\n",
    "from sklearn.metrics import accuracy_score, confusion_matrix, classification_report,log_loss\n",
    "print('accuracy_score:',accuracy_score(y_test,predict2))\n",
    "print('confusion_matrix:\\n',confusion_matrix(y_test,predict2))\n",
    "print(classification_report(y_test,predict2))"
   ]
  },
  {
   "cell_type": "code",
   "execution_count": null,
   "metadata": {
    "executionInfo": {
     "elapsed": 3552,
     "status": "aborted",
     "timestamp": 1615696973134,
     "user": {
      "displayName": "Rajesh A",
      "photoUrl": "https://lh3.googleusercontent.com/a-/AOh14Ghp8xxZxWnVTEQ4-dSM_R9CyHOjsw21b9UqgSl2=s64",
      "userId": "15854343511969692267"
     },
     "user_tz": -330
    },
    "id": "plNMobHzJxfz"
   },
   "outputs": [],
   "source": []
  },
  {
   "cell_type": "markdown",
   "metadata": {
    "executionInfo": {
     "elapsed": 3551,
     "status": "aborted",
     "timestamp": 1615696973136,
     "user": {
      "displayName": "Rajesh A",
      "photoUrl": "https://lh3.googleusercontent.com/a-/AOh14Ghp8xxZxWnVTEQ4-dSM_R9CyHOjsw21b9UqgSl2=s64",
      "userId": "15854343511969692267"
     },
     "user_tz": -330
    },
    "id": "ijb30OyMJxdk"
   },
   "source": [
    "# Conclusion\n",
    "\n",
    "* By using XGBoost, logistic regression, KNN algorithms in this data set show poor accuracy of around 45%\n",
    "* As this data set have more missing values, initially this data set is preprocessed and removed the all missing values by simple imputer using median strategy at some point it shows 1 missing values in stay so it is droped.\n",
    "* Label encoder is used to convert the text data into numbers\n",
    "* By discussing with the data mites team used the regression algorithm and checked with accuracy score. By using random over sampler got the R2_score of 0.95.\n",
    "* By using the Random forest classifier and extra tree classifier method got accuracy of 0.86 and hence it is found that Random over sampler, Random forest classifier and Extra tree classifier shows the better performance in this data"
   ]
  },
  {
   "cell_type": "code",
   "execution_count": null,
   "metadata": {
    "executionInfo": {
     "elapsed": 3548,
     "status": "aborted",
     "timestamp": 1615696973137,
     "user": {
      "displayName": "Rajesh A",
      "photoUrl": "https://lh3.googleusercontent.com/a-/AOh14Ghp8xxZxWnVTEQ4-dSM_R9CyHOjsw21b9UqgSl2=s64",
      "userId": "15854343511969692267"
     },
     "user_tz": -330
    },
    "id": "cTXrpgXFJxaG"
   },
   "outputs": [],
   "source": []
  },
  {
   "cell_type": "code",
   "execution_count": null,
   "metadata": {
    "executionInfo": {
     "elapsed": 3547,
     "status": "aborted",
     "timestamp": 1615696973139,
     "user": {
      "displayName": "Rajesh A",
      "photoUrl": "https://lh3.googleusercontent.com/a-/AOh14Ghp8xxZxWnVTEQ4-dSM_R9CyHOjsw21b9UqgSl2=s64",
      "userId": "15854343511969692267"
     },
     "user_tz": -330
    },
    "id": "VkZLRVL1JxXg"
   },
   "outputs": [],
   "source": []
  },
  {
   "cell_type": "code",
   "execution_count": null,
   "metadata": {
    "executionInfo": {
     "elapsed": 3345,
     "status": "aborted",
     "timestamp": 1615696973214,
     "user": {
      "displayName": "Rajesh A",
      "photoUrl": "https://lh3.googleusercontent.com/a-/AOh14Ghp8xxZxWnVTEQ4-dSM_R9CyHOjsw21b9UqgSl2=s64",
      "userId": "15854343511969692267"
     },
     "user_tz": -330
    },
    "id": "ft_x1zEkC04c"
   },
   "outputs": [],
   "source": []
  }
 ],
 "metadata": {
  "colab": {
   "name": "healthcare_project.ipynb",
   "provenance": []
  },
  "kernelspec": {
   "display_name": "Python 3",
   "language": "python",
   "name": "python3"
  },
  "language_info": {
   "codemirror_mode": {
    "name": "ipython",
    "version": 3
   },
   "file_extension": ".py",
   "mimetype": "text/x-python",
   "name": "python",
   "nbconvert_exporter": "python",
   "pygments_lexer": "ipython3",
   "version": "3.8.5"
  }
 },
 "nbformat": 4,
 "nbformat_minor": 1
}
